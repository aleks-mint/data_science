{
  "nbformat": 4,
  "nbformat_minor": 0,
  "metadata": {
    "kernelspec": {
      "display_name": "Python 3",
      "language": "python",
      "name": "python3"
    },
    "language_info": {
      "codemirror_mode": {
        "name": "ipython",
        "version": 3
      },
      "file_extension": ".py",
      "mimetype": "text/x-python",
      "name": "python",
      "nbconvert_exporter": "python",
      "pygments_lexer": "ipython3",
      "version": "3.6.3"
    },
    "colab": {
      "provenance": [],
      "collapsed_sections": []
    }
  },
  "cells": [
    {
      "cell_type": "code",
      "metadata": {
        "id": "DVuzDDo5XDcH",
        "outputId": "b7486bb6-e5aa-4b1a-bc24-9c83575786a2",
        "colab": {
          "base_uri": "https://localhost:8080/"
        }
      },
      "source": [
        "# скачиваем файл\n",
        "!wget --no-check-certificate 'https://docs.google.com/uc?export=download&id=1cq9JDz8-zwzoGL6udiT_ogHHRWdnsd1q' -O math_students.csv"
      ],
      "execution_count": null,
      "outputs": [
        {
          "output_type": "stream",
          "name": "stdout",
          "text": [
            "--2022-09-24 11:53:58--  https://docs.google.com/uc?export=download&id=1cq9JDz8-zwzoGL6udiT_ogHHRWdnsd1q\n",
            "Resolving docs.google.com (docs.google.com)... 142.251.45.14, 2607:f8b0:4004:83e::200e\n",
            "Connecting to docs.google.com (docs.google.com)|142.251.45.14|:443... connected.\n",
            "HTTP request sent, awaiting response... 303 See Other\n",
            "Location: https://doc-0g-5k-docs.googleusercontent.com/docs/securesc/ha0ro937gcuc7l7deffksulhg5h7mbp1/3n9grpecn9li0ck4mo3u305loj7et1vk/1664020425000/07828702499945486090/*/1cq9JDz8-zwzoGL6udiT_ogHHRWdnsd1q?e=download&uuid=6a8572f7-8d0d-4691-b2de-33e25bbd800a [following]\n",
            "Warning: wildcards not supported in HTTP.\n",
            "--2022-09-24 11:53:58--  https://doc-0g-5k-docs.googleusercontent.com/docs/securesc/ha0ro937gcuc7l7deffksulhg5h7mbp1/3n9grpecn9li0ck4mo3u305loj7et1vk/1664020425000/07828702499945486090/*/1cq9JDz8-zwzoGL6udiT_ogHHRWdnsd1q?e=download&uuid=6a8572f7-8d0d-4691-b2de-33e25bbd800a\n",
            "Resolving doc-0g-5k-docs.googleusercontent.com (doc-0g-5k-docs.googleusercontent.com)... 172.217.2.97, 2607:f8b0:4004:80a::2001\n",
            "Connecting to doc-0g-5k-docs.googleusercontent.com (doc-0g-5k-docs.googleusercontent.com)|172.217.2.97|:443... connected.\n",
            "HTTP request sent, awaiting response... 200 OK\n",
            "Length: 42379 (41K) [text/csv]\n",
            "Saving to: ‘math_students.csv’\n",
            "\n",
            "math_students.csv   100%[===================>]  41.39K  --.-KB/s    in 0s      \n",
            "\n",
            "2022-09-24 11:53:58 (120 MB/s) - ‘math_students.csv’ saved [42379/42379]\n",
            "\n"
          ]
        }
      ]
    },
    {
      "cell_type": "code",
      "metadata": {
        "id": "mHCbkFpOXAXO"
      },
      "source": [
        "import pandas as pd\n",
        "data = pd.read_csv('math_students.csv', delimiter=',')"
      ],
      "execution_count": null,
      "outputs": []
    },
    {
      "cell_type": "markdown",
      "metadata": {
        "id": "1n6Q2mr1XAXX"
      },
      "source": [
        "1. Какая причина выбора школы была самой частой? В качестве ответа приведите соответствующее значение признака."
      ]
    },
    {
      "cell_type": "code",
      "metadata": {
        "id": "D_jubmNgXAXY",
        "colab": {
          "base_uri": "https://localhost:8080/",
          "height": 35
        },
        "outputId": "c51487f6-475b-432e-a229-11a6e1665334"
      },
      "source": [
        "data['reason'].mode()[0]"
      ],
      "execution_count": null,
      "outputs": [
        {
          "output_type": "execute_result",
          "data": {
            "text/plain": [
              "'course'"
            ],
            "application/vnd.google.colaboratory.intrinsic+json": {
              "type": "string"
            }
          },
          "metadata": {},
          "execution_count": 3
        }
      ]
    },
    {
      "cell_type": "markdown",
      "metadata": {
        "id": "02xcWVw0XAXb"
      },
      "source": [
        "2. Найдите количество студентов, у родителей которых нет никакого образования."
      ]
    },
    {
      "cell_type": "code",
      "metadata": {
        "id": "rQCZTAydXAXc",
        "colab": {
          "base_uri": "https://localhost:8080/"
        },
        "outputId": "f343f930-591a-4537-ebf0-6e50bb3613ac"
      },
      "source": [
        "data[(data['Medu'] == 0) & (data['Fedu'] == 0)].shape[0]"
      ],
      "execution_count": null,
      "outputs": [
        {
          "output_type": "execute_result",
          "data": {
            "text/plain": [
              "0"
            ]
          },
          "metadata": {},
          "execution_count": 4
        }
      ]
    },
    {
      "cell_type": "markdown",
      "metadata": {
        "id": "hPZhCWolXAXg"
      },
      "source": [
        "3. Найдите минимальный возраст учащегося школы Mousinho da Silveira."
      ]
    },
    {
      "cell_type": "code",
      "metadata": {
        "id": "iwbblqO-XAXg",
        "colab": {
          "base_uri": "https://localhost:8080/"
        },
        "outputId": "3fdd0e1f-52e3-46e6-d8e8-5c6cb8e68d4e"
      },
      "source": [
        "data[data['school'] == 'MS']['age'].min()"
      ],
      "execution_count": null,
      "outputs": [
        {
          "output_type": "execute_result",
          "data": {
            "text/plain": [
              "17"
            ]
          },
          "metadata": {},
          "execution_count": 5
        }
      ]
    },
    {
      "cell_type": "markdown",
      "metadata": {
        "id": "cINy8kq-XAXk"
      },
      "source": [
        "4. Найдите количество студентов, имеющих нечетное число пропусков."
      ]
    },
    {
      "cell_type": "code",
      "metadata": {
        "id": "0SPhqD6GXAXl",
        "colab": {
          "base_uri": "https://localhost:8080/"
        },
        "outputId": "7aa2b923-6b90-46ff-ec53-a3ef31e24470"
      },
      "source": [
        "data[data['absences'] % 2 == 1].shape[0]"
      ],
      "execution_count": null,
      "outputs": [
        {
          "output_type": "execute_result",
          "data": {
            "text/plain": [
              "41"
            ]
          },
          "metadata": {},
          "execution_count": 6
        }
      ]
    },
    {
      "cell_type": "markdown",
      "metadata": {
        "id": "cGd3eKvcXAXo"
      },
      "source": [
        "5. Найдите разность между средними итоговыми оценками студентов, состоящих и не состоящих в романтических отношениях. В качестве ответа приведите число, округленное до двух значащих цифр после запятой."
      ]
    },
    {
      "cell_type": "code",
      "metadata": {
        "id": "tIrAEaCpXAXp",
        "colab": {
          "base_uri": "https://localhost:8080/"
        },
        "outputId": "ee75685b-a494-4e90-abb9-da53751dca05"
      },
      "source": [
        "round(data[data['romantic'] == 'yes']['G3'].mean() - data[data['romantic'] == 'no']['G3'].mean(), 2)"
      ],
      "execution_count": null,
      "outputs": [
        {
          "output_type": "execute_result",
          "data": {
            "text/plain": [
              "-1.26"
            ]
          },
          "metadata": {},
          "execution_count": 7
        }
      ]
    },
    {
      "cell_type": "markdown",
      "metadata": {
        "id": "m7tyMSA7XAXs"
      },
      "source": [
        "6. Сколько занятий пропустило большинство студентов с самым частым значением наличия внеклассных активностей?\n",
        "\n",
        "*Примечание. В данном контексте под \"большинством\" подразумеваются студенты, имеющее самое частое значение пропусков. То есть в данном задании необходимо:*\n",
        "\n",
        "\n",
        "* *Определить самое частое значение наличия внеклассных активностей (да или нет).*\n",
        "* *Для группы студентов, соответствующей этому значению, рассмотреть значения признака «число пропусков».*\n",
        "* *Для каждого значения числа пропусков посчитать, сколько студентов ему соответствует.*\n",
        "* *Выбрать значение числа пропусков с наибольшим числом студентов.*\n",
        "\n"
      ]
    },
    {
      "cell_type": "code",
      "metadata": {
        "id": "-nb9pAmdX4G9",
        "colab": {
          "base_uri": "https://localhost:8080/"
        },
        "outputId": "49af5d2e-053e-4582-f1f8-0ca538647e03"
      },
      "source": [
        "data[data['activities'] == data['activities'].mode()[0]]['absences'].mode()[0]"
      ],
      "execution_count": null,
      "outputs": [
        {
          "output_type": "execute_result",
          "data": {
            "text/plain": [
              "0"
            ]
          },
          "metadata": {},
          "execution_count": 8
        }
      ]
    }
  ]
}