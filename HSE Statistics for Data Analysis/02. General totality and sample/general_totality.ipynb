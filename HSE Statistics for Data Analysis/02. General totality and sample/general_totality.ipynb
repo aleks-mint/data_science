{
  "nbformat": 4,
  "nbformat_minor": 0,
  "metadata": {
    "colab": {
      "provenance": []
    },
    "kernelspec": {
      "name": "python3",
      "display_name": "Python 3"
    },
    "language_info": {
      "name": "python"
    }
  },
  "cells": [
    {
      "cell_type": "code",
      "execution_count": 28,
      "metadata": {
        "id": "0HG5EiXVEm9e"
      },
      "outputs": [],
      "source": [
        "import pandas as pd\n",
        "import numpy as np\n",
        "import pandas as pd\n",
        "import matplotlib.pyplot as plt\n",
        "import seaborn as sns"
      ]
    },
    {
      "cell_type": "markdown",
      "source": [
        "Описание данных\n",
        "– name — оригинальное имя персонажа вселенной Marvel\n",
        "– align — принадлежность персонажа к доброй/злой/нейтральной стороне\n",
        "– eye — описание глаз персонажа\n",
        "– hair — описание волос персонажа\n",
        "– sex — пол персонажа\n",
        "– appearances — количество появлений персонажа\n",
        "– first_appearance — год первого появления персонажа"
      ],
      "metadata": {
        "id": "nVKl9fNqKr7Y"
      }
    },
    {
      "cell_type": "code",
      "source": [
        "df = pd.read_csv(\"/content/MarvelComicCaracters.csv\", sep=\";\")"
      ],
      "metadata": {
        "id": "mASEH8F-E2M1"
      },
      "execution_count": 29,
      "outputs": []
    },
    {
      "cell_type": "code",
      "source": [
        "df.info()"
      ],
      "metadata": {
        "colab": {
          "base_uri": "https://localhost:8080/"
        },
        "id": "TgxdzswzE8kU",
        "outputId": "5040133d-0bf8-4914-eb2e-c04a907bb852"
      },
      "execution_count": 30,
      "outputs": [
        {
          "output_type": "stream",
          "name": "stdout",
          "text": [
            "<class 'pandas.core.frame.DataFrame'>\n",
            "RangeIndex: 16376 entries, 0 to 16375\n",
            "Data columns (total 7 columns):\n",
            " #   Column            Non-Null Count  Dtype  \n",
            "---  ------            --------------  -----  \n",
            " 0   name              16376 non-null  object \n",
            " 1   align             13564 non-null  object \n",
            " 2   eye               6609 non-null   object \n",
            " 3   hair              9989 non-null   object \n",
            " 4   sex               15522 non-null  object \n",
            " 5   appearances       15280 non-null  float64\n",
            " 6   first_appearance  15561 non-null  float64\n",
            "dtypes: float64(2), object(5)\n",
            "memory usage: 895.7+ KB\n"
          ]
        }
      ]
    },
    {
      "cell_type": "code",
      "source": [
        "df.head()"
      ],
      "metadata": {
        "colab": {
          "base_uri": "https://localhost:8080/",
          "height": 206
        },
        "id": "2QNUkU7iF2YN",
        "outputId": "4f216d75-5bc7-4364-a57f-7cb4159fc4c3"
      },
      "execution_count": 31,
      "outputs": [
        {
          "output_type": "execute_result",
          "data": {
            "text/plain": [
              "                                  name                 align            eye  \\\n",
              "0            Spider-Man (Peter Parker)       Добрый персонаж    Карие глаза   \n",
              "1      Captain America (Steven Rogers)       Добрый персонаж  Голубые глаза   \n",
              "2  Wolverine (James \\\"Logan\\\" Howlett)  Нейтральный персонаж  Голубые глаза   \n",
              "3    Iron Man (Anthony \\\"Tony\\\" Stark)       Добрый персонаж  Голубые глаза   \n",
              "4                  Thor (Thor Odinson)       Добрый персонаж  Голубые глаза   \n",
              "\n",
              "                hair               sex  appearances  first_appearance  \n",
              "0  Каштановые волосы  Мужской персонаж       4043.0            1962.0  \n",
              "1       Белые волосы  Мужской персонаж       3360.0            1941.0  \n",
              "2      Черные волосы  Мужской персонаж       3061.0            1974.0  \n",
              "3      Черные волосы  Мужской персонаж       2961.0            1963.0  \n",
              "4       Русые волосы  Мужской персонаж       2258.0            1950.0  "
            ],
            "text/html": [
              "\n",
              "  <div id=\"df-76cddb2f-f35f-48d8-bf17-4dbcdbd0694d\">\n",
              "    <div class=\"colab-df-container\">\n",
              "      <div>\n",
              "<style scoped>\n",
              "    .dataframe tbody tr th:only-of-type {\n",
              "        vertical-align: middle;\n",
              "    }\n",
              "\n",
              "    .dataframe tbody tr th {\n",
              "        vertical-align: top;\n",
              "    }\n",
              "\n",
              "    .dataframe thead th {\n",
              "        text-align: right;\n",
              "    }\n",
              "</style>\n",
              "<table border=\"1\" class=\"dataframe\">\n",
              "  <thead>\n",
              "    <tr style=\"text-align: right;\">\n",
              "      <th></th>\n",
              "      <th>name</th>\n",
              "      <th>align</th>\n",
              "      <th>eye</th>\n",
              "      <th>hair</th>\n",
              "      <th>sex</th>\n",
              "      <th>appearances</th>\n",
              "      <th>first_appearance</th>\n",
              "    </tr>\n",
              "  </thead>\n",
              "  <tbody>\n",
              "    <tr>\n",
              "      <th>0</th>\n",
              "      <td>Spider-Man (Peter Parker)</td>\n",
              "      <td>Добрый персонаж</td>\n",
              "      <td>Карие глаза</td>\n",
              "      <td>Каштановые волосы</td>\n",
              "      <td>Мужской персонаж</td>\n",
              "      <td>4043.0</td>\n",
              "      <td>1962.0</td>\n",
              "    </tr>\n",
              "    <tr>\n",
              "      <th>1</th>\n",
              "      <td>Captain America (Steven Rogers)</td>\n",
              "      <td>Добрый персонаж</td>\n",
              "      <td>Голубые глаза</td>\n",
              "      <td>Белые волосы</td>\n",
              "      <td>Мужской персонаж</td>\n",
              "      <td>3360.0</td>\n",
              "      <td>1941.0</td>\n",
              "    </tr>\n",
              "    <tr>\n",
              "      <th>2</th>\n",
              "      <td>Wolverine (James \\\"Logan\\\" Howlett)</td>\n",
              "      <td>Нейтральный персонаж</td>\n",
              "      <td>Голубые глаза</td>\n",
              "      <td>Черные волосы</td>\n",
              "      <td>Мужской персонаж</td>\n",
              "      <td>3061.0</td>\n",
              "      <td>1974.0</td>\n",
              "    </tr>\n",
              "    <tr>\n",
              "      <th>3</th>\n",
              "      <td>Iron Man (Anthony \\\"Tony\\\" Stark)</td>\n",
              "      <td>Добрый персонаж</td>\n",
              "      <td>Голубые глаза</td>\n",
              "      <td>Черные волосы</td>\n",
              "      <td>Мужской персонаж</td>\n",
              "      <td>2961.0</td>\n",
              "      <td>1963.0</td>\n",
              "    </tr>\n",
              "    <tr>\n",
              "      <th>4</th>\n",
              "      <td>Thor (Thor Odinson)</td>\n",
              "      <td>Добрый персонаж</td>\n",
              "      <td>Голубые глаза</td>\n",
              "      <td>Русые волосы</td>\n",
              "      <td>Мужской персонаж</td>\n",
              "      <td>2258.0</td>\n",
              "      <td>1950.0</td>\n",
              "    </tr>\n",
              "  </tbody>\n",
              "</table>\n",
              "</div>\n",
              "      <button class=\"colab-df-convert\" onclick=\"convertToInteractive('df-76cddb2f-f35f-48d8-bf17-4dbcdbd0694d')\"\n",
              "              title=\"Convert this dataframe to an interactive table.\"\n",
              "              style=\"display:none;\">\n",
              "        \n",
              "  <svg xmlns=\"http://www.w3.org/2000/svg\" height=\"24px\"viewBox=\"0 0 24 24\"\n",
              "       width=\"24px\">\n",
              "    <path d=\"M0 0h24v24H0V0z\" fill=\"none\"/>\n",
              "    <path d=\"M18.56 5.44l.94 2.06.94-2.06 2.06-.94-2.06-.94-.94-2.06-.94 2.06-2.06.94zm-11 1L8.5 8.5l.94-2.06 2.06-.94-2.06-.94L8.5 2.5l-.94 2.06-2.06.94zm10 10l.94 2.06.94-2.06 2.06-.94-2.06-.94-.94-2.06-.94 2.06-2.06.94z\"/><path d=\"M17.41 7.96l-1.37-1.37c-.4-.4-.92-.59-1.43-.59-.52 0-1.04.2-1.43.59L10.3 9.45l-7.72 7.72c-.78.78-.78 2.05 0 2.83L4 21.41c.39.39.9.59 1.41.59.51 0 1.02-.2 1.41-.59l7.78-7.78 2.81-2.81c.8-.78.8-2.07 0-2.86zM5.41 20L4 18.59l7.72-7.72 1.47 1.35L5.41 20z\"/>\n",
              "  </svg>\n",
              "      </button>\n",
              "      \n",
              "  <style>\n",
              "    .colab-df-container {\n",
              "      display:flex;\n",
              "      flex-wrap:wrap;\n",
              "      gap: 12px;\n",
              "    }\n",
              "\n",
              "    .colab-df-convert {\n",
              "      background-color: #E8F0FE;\n",
              "      border: none;\n",
              "      border-radius: 50%;\n",
              "      cursor: pointer;\n",
              "      display: none;\n",
              "      fill: #1967D2;\n",
              "      height: 32px;\n",
              "      padding: 0 0 0 0;\n",
              "      width: 32px;\n",
              "    }\n",
              "\n",
              "    .colab-df-convert:hover {\n",
              "      background-color: #E2EBFA;\n",
              "      box-shadow: 0px 1px 2px rgba(60, 64, 67, 0.3), 0px 1px 3px 1px rgba(60, 64, 67, 0.15);\n",
              "      fill: #174EA6;\n",
              "    }\n",
              "\n",
              "    [theme=dark] .colab-df-convert {\n",
              "      background-color: #3B4455;\n",
              "      fill: #D2E3FC;\n",
              "    }\n",
              "\n",
              "    [theme=dark] .colab-df-convert:hover {\n",
              "      background-color: #434B5C;\n",
              "      box-shadow: 0px 1px 3px 1px rgba(0, 0, 0, 0.15);\n",
              "      filter: drop-shadow(0px 1px 2px rgba(0, 0, 0, 0.3));\n",
              "      fill: #FFFFFF;\n",
              "    }\n",
              "  </style>\n",
              "\n",
              "      <script>\n",
              "        const buttonEl =\n",
              "          document.querySelector('#df-76cddb2f-f35f-48d8-bf17-4dbcdbd0694d button.colab-df-convert');\n",
              "        buttonEl.style.display =\n",
              "          google.colab.kernel.accessAllowed ? 'block' : 'none';\n",
              "\n",
              "        async function convertToInteractive(key) {\n",
              "          const element = document.querySelector('#df-76cddb2f-f35f-48d8-bf17-4dbcdbd0694d');\n",
              "          const dataTable =\n",
              "            await google.colab.kernel.invokeFunction('convertToInteractive',\n",
              "                                                     [key], {});\n",
              "          if (!dataTable) return;\n",
              "\n",
              "          const docLinkHtml = 'Like what you see? Visit the ' +\n",
              "            '<a target=\"_blank\" href=https://colab.research.google.com/notebooks/data_table.ipynb>data table notebook</a>'\n",
              "            + ' to learn more about interactive tables.';\n",
              "          element.innerHTML = '';\n",
              "          dataTable['output_type'] = 'display_data';\n",
              "          await google.colab.output.renderOutput(dataTable, element);\n",
              "          const docLink = document.createElement('div');\n",
              "          docLink.innerHTML = docLinkHtml;\n",
              "          element.appendChild(docLink);\n",
              "        }\n",
              "      </script>\n",
              "    </div>\n",
              "  </div>\n",
              "  "
            ]
          },
          "metadata": {},
          "execution_count": 31
        }
      ]
    },
    {
      "cell_type": "markdown",
      "source": [
        "По переменной align была построена частотная таблица. Укажите, какие ошибки были допущены в таблице. Чтобы проверить ее, постройте таблицу сами, используя удобную вам программу. Выберите один верный ответ."
      ],
      "metadata": {
        "id": "_Lp0vapVFRlj"
      }
    },
    {
      "cell_type": "code",
      "source": [
        "df[\"align\"].value_counts()"
      ],
      "metadata": {
        "colab": {
          "base_uri": "https://localhost:8080/"
        },
        "id": "G9z9hJObFKg8",
        "outputId": "864bdebf-dbcc-4b7d-ff76-7eeab3d124de"
      },
      "execution_count": 32,
      "outputs": [
        {
          "output_type": "execute_result",
          "data": {
            "text/plain": [
              "Злой персонаж           6720\n",
              "Добрый персонаж         4636\n",
              "Нейтральный персонаж    2208\n",
              "Name: align, dtype: int64"
            ]
          },
          "metadata": {},
          "execution_count": 32
        }
      ]
    },
    {
      "cell_type": "markdown",
      "source": [
        "Определите три наиболее часто встречающих цвета глаз персонажей, выберите из данных только их и заполните частотную таблицу по переменной eye. В вариантах ответов представлены числа, которые могут быть записаны в таблицу. Выберите один верный ответ.\n",
        "\n",
        "\n"
      ],
      "metadata": {
        "id": "yT6SQ8eNFZ1F"
      }
    },
    {
      "cell_type": "code",
      "source": [
        "df[\"eye\"].value_counts()"
      ],
      "metadata": {
        "colab": {
          "base_uri": "https://localhost:8080/"
        },
        "id": "WhD73PDjFWek",
        "outputId": "1b344634-d6ab-48dd-d3e0-6ea31ea42bf5"
      },
      "execution_count": 33,
      "outputs": [
        {
          "output_type": "execute_result",
          "data": {
            "text/plain": [
              "Голубые глаза            1962\n",
              "Темно-карие глаза        1924\n",
              "Зеленые глаза             613\n",
              "Черные глаза              555\n",
              "Красные глаза             508\n",
              "Белые глаза               400\n",
              "Желтые глаза              256\n",
              "Серые глаза                95\n",
              "Карие глаза                76\n",
              "Разноцветные глаза         49\n",
              "Фиолетовые глаза           31\n",
              "Оранжевые глаза            25\n",
              "Розовые глаза              21\n",
              "Один глаз                  21\n",
              "Золотые глаза              14\n",
              "Серебристые глаза          12\n",
              "Лиловые глаза              11\n",
              "Янтарные глаза             10\n",
              "Много глаз                  7\n",
              "Нет глаз                    7\n",
              "Желтые глазные яблоки       6\n",
              "Черные глазные яблоки       3\n",
              "Пурпурные глаза             2\n",
              "Фасеточные глаза            1\n",
              "Name: eye, dtype: int64"
            ]
          },
          "metadata": {},
          "execution_count": 33
        }
      ]
    },
    {
      "cell_type": "markdown",
      "source": [
        "Укажите, верно ли следующее утверждение: у мужских персонажей чаще всего встречаются темно-карие глаза."
      ],
      "metadata": {
        "id": "7XQuYqjGFmJB"
      }
    },
    {
      "cell_type": "code",
      "source": [
        "df[(df[\"sex\"] == \"Мужской персонаж\")][\"eye\"].value_counts()"
      ],
      "metadata": {
        "colab": {
          "base_uri": "https://localhost:8080/"
        },
        "id": "GejCbBr-Fe-M",
        "outputId": "ac054de2-289a-4537-e01c-435d5b02ff22"
      },
      "execution_count": 34,
      "outputs": [
        {
          "output_type": "execute_result",
          "data": {
            "text/plain": [
              "Темно-карие глаза        1400\n",
              "Голубые глаза            1258\n",
              "Черные глаза              394\n",
              "Красные глаза             377\n",
              "Зеленые глаза             328\n",
              "Белые глаза               292\n",
              "Желтые глаза              174\n",
              "Серые глаза                75\n",
              "Карие глаза                58\n",
              "Разноцветные глаза         28\n",
              "Один глаз                  20\n",
              "Оранжевые глаза            18\n",
              "Розовые глаза              15\n",
              "Фиолетовые глаза           15\n",
              "Золотые глаза              10\n",
              "Янтарные глаза              8\n",
              "Много глаз                  6\n",
              "Серебристые глаза           4\n",
              "Желтые глазные яблоки       4\n",
              "Нет глаз                    3\n",
              "Лиловые глаза               3\n",
              "Черные глазные яблоки       1\n",
              "Фасеточные глаза            1\n",
              "Name: eye, dtype: int64"
            ]
          },
          "metadata": {},
          "execution_count": 34
        }
      ]
    },
    {
      "cell_type": "markdown",
      "source": [
        "Постройте частотную таблицу для персонажей женского пола по переменной eye. У скольких из них золотые глаза? Введите ответ в виде целого числа."
      ],
      "metadata": {
        "id": "iTnazPZKGQNW"
      }
    },
    {
      "cell_type": "code",
      "source": [
        "df[(df[\"sex\"] == \"Женский персонаж\")][\"eye\"].value_counts()"
      ],
      "metadata": {
        "colab": {
          "base_uri": "https://localhost:8080/"
        },
        "id": "0Hw7_9nHFxjk",
        "outputId": "a08e556b-9e3f-40e2-ade3-a27c12060dad"
      },
      "execution_count": 35,
      "outputs": [
        {
          "output_type": "execute_result",
          "data": {
            "text/plain": [
              "Голубые глаза            692\n",
              "Темно-карие глаза        519\n",
              "Зеленые глаза            268\n",
              "Черные глаза             137\n",
              "Белые глаза               82\n",
              "Красные глаза             77\n",
              "Желтые глаза              57\n",
              "Серые глаза               20\n",
              "Карие глаза               17\n",
              "Фиолетовые глаза          14\n",
              "Лиловые глаза              8\n",
              "Разноцветные глаза         7\n",
              "Серебристые глаза          6\n",
              "Розовые глаза              5\n",
              "Оранжевые глаза            5\n",
              "Золотые глаза              3\n",
              "Янтарные глаза             2\n",
              "Желтые глазные яблоки      2\n",
              "Черные глазные яблоки      2\n",
              "Пурпурные глаза            2\n",
              "Нет глаз                   1\n",
              "Много глаз                 1\n",
              "Один глаз                  1\n",
              "Name: eye, dtype: int64"
            ]
          },
          "metadata": {},
          "execution_count": 35
        }
      ]
    },
    {
      "cell_type": "code",
      "source": [
        "df[(df[\"sex\"] == \"Женский персонаж\")][\"eye\"].hist(figsize=[16, 9], bins=15)\n",
        "plt.xticks(rotation=90)"
      ],
      "metadata": {
        "colab": {
          "base_uri": "https://localhost:8080/",
          "height": 1000
        },
        "id": "YH0OW94gGT7E",
        "outputId": "2094c8b3-f734-4a08-c3ce-9d65156e6752"
      },
      "execution_count": 36,
      "outputs": [
        {
          "output_type": "execute_result",
          "data": {
            "text/plain": [
              "([0,\n",
              "  1,\n",
              "  2,\n",
              "  3,\n",
              "  4,\n",
              "  5,\n",
              "  6,\n",
              "  7,\n",
              "  8,\n",
              "  9,\n",
              "  10,\n",
              "  11,\n",
              "  12,\n",
              "  13,\n",
              "  14,\n",
              "  15,\n",
              "  16,\n",
              "  17,\n",
              "  18,\n",
              "  19,\n",
              "  20,\n",
              "  21,\n",
              "  22],\n",
              " <a list of 23 Text major ticklabel objects>)"
            ]
          },
          "metadata": {},
          "execution_count": 36
        },
        {
          "output_type": "display_data",
          "data": {
            "text/plain": [
              "<Figure size 1152x648 with 1 Axes>"
            ],
            "image/png": "[encoded data removed]"
          },
          "metadata": {
            "needs_background": "light"
          }
        }
      ]
    },
    {
      "cell_type": "markdown",
      "source": [
        "Какое значение находится в колонке appearances для доброго персонажа с пурпурными глазами? Введите ответ в виде целого числа."
      ],
      "metadata": {
        "id": "nGZD9wT_Jak6"
      }
    },
    {
      "cell_type": "code",
      "source": [
        "df[(df[\"align\"] == \"Добрый персонаж\") & (df[\"eye\"] == \"Пурпурные глаза\")][\"appearances\"]"
      ],
      "metadata": {
        "colab": {
          "base_uri": "https://localhost:8080/"
        },
        "id": "-Rz8VgDPGcqs",
        "outputId": "4cf0b9eb-80fc-47dc-8cba-05dbaeb4b39a"
      },
      "execution_count": 37,
      "outputs": [
        {
          "output_type": "execute_result",
          "data": {
            "text/plain": [
              "1729    21.0\n",
              "Name: appearances, dtype: float64"
            ]
          },
          "metadata": {},
          "execution_count": 37
        }
      ]
    },
    {
      "cell_type": "markdown",
      "source": [
        "Укажите, верно ли следующее утверждение: больше всего персонажей в первый раз появилось в 1993 году."
      ],
      "metadata": {
        "id": "z6o-jHgwKU3p"
      }
    },
    {
      "cell_type": "code",
      "source": [
        "df[\"first_appearance\"].value_counts()"
      ],
      "metadata": {
        "colab": {
          "base_uri": "https://localhost:8080/"
        },
        "id": "l3tCQGuuJ7Yr",
        "outputId": "4b188773-4204-4041-fe6e-cd4fc59ee556"
      },
      "execution_count": 38,
      "outputs": [
        {
          "output_type": "execute_result",
          "data": {
            "text/plain": [
              "1993.0    554\n",
              "1994.0    485\n",
              "1992.0    455\n",
              "2006.0    381\n",
              "2008.0    360\n",
              "         ... \n",
              "1952.0     26\n",
              "1956.0     16\n",
              "1957.0      7\n",
              "1959.0      4\n",
              "1958.0      2\n",
              "Name: first_appearance, Length: 75, dtype: int64"
            ]
          },
          "metadata": {},
          "execution_count": 38
        }
      ]
    },
    {
      "cell_type": "markdown",
      "source": [
        "Сколько процентов (от общего числа персонажей) составляют мужские персонажи, которые появлялись больше 100 раз? В ответ запишите число (процент от 0 до 100), округлите до целого."
      ],
      "metadata": {
        "id": "bE7TfaqeK8En"
      }
    },
    {
      "cell_type": "code",
      "source": [
        "df[(df[\"sex\"] == \"Мужской персонаж\") & (df[\"appearances\"] > 100)]"
      ],
      "metadata": {
        "colab": {
          "base_uri": "https://localhost:8080/",
          "height": 468
        },
        "id": "lK7D2Th6K1uU",
        "outputId": "4fc53f7d-e2a2-488b-8989-17b5199c5605"
      },
      "execution_count": 39,
      "outputs": [
        {
          "output_type": "execute_result",
          "data": {
            "text/plain": [
              "                                    name                 align  \\\n",
              "0              Spider-Man (Peter Parker)       Добрый персонаж   \n",
              "1        Captain America (Steven Rogers)       Добрый персонаж   \n",
              "2    Wolverine (James \\\"Logan\\\" Howlett)  Нейтральный персонаж   \n",
              "3      Iron Man (Anthony \\\"Tony\\\" Stark)       Добрый персонаж   \n",
              "4                    Thor (Thor Odinson)       Добрый персонаж   \n",
              "..                                   ...                   ...   \n",
              "402           Everett Thomas (Earth-616)       Добрый персонаж   \n",
              "404              Dorrek VIII (Earth-616)       Добрый персонаж   \n",
              "405              Amadeus Cho (Earth-616)       Добрый персонаж   \n",
              "406          Phillip Masters (Earth-616)         Злой персонаж   \n",
              "407             Joshua Foley (Earth-616)       Добрый персонаж   \n",
              "\n",
              "                   eye               hair               sex  appearances  \\\n",
              "0          Карие глаза  Каштановые волосы  Мужской персонаж       4043.0   \n",
              "1        Голубые глаза       Белые волосы  Мужской персонаж       3360.0   \n",
              "2        Голубые глаза      Черные волосы  Мужской персонаж       3061.0   \n",
              "3        Голубые глаза      Черные волосы  Мужской персонаж       2961.0   \n",
              "4        Голубые глаза       Русые волосы  Мужской персонаж       2258.0   \n",
              "..                 ...                ...               ...          ...   \n",
              "402  Темно-карие глаза                NaN  Мужской персонаж        103.0   \n",
              "404      Голубые глаза       Русые волосы  Мужской персонаж        103.0   \n",
              "405       Черные глаза      Черные волосы  Мужской персонаж        103.0   \n",
              "406  Темно-карие глаза                NaN  Мужской персонаж        102.0   \n",
              "407      Голубые глаза       Русые волосы  Мужской персонаж        101.0   \n",
              "\n",
              "     first_appearance  \n",
              "0              1962.0  \n",
              "1              1941.0  \n",
              "2              1974.0  \n",
              "3              1963.0  \n",
              "4              1950.0  \n",
              "..                ...  \n",
              "402            1994.0  \n",
              "404            2005.0  \n",
              "405            2006.0  \n",
              "406            1962.0  \n",
              "407            2003.0  \n",
              "\n",
              "[277 rows x 7 columns]"
            ],
            "text/html": [
              "\n",
              "  <div id=\"df-36c04d3b-848b-435a-ab1c-a736f9cc87ba\">\n",
              "    <div class=\"colab-df-container\">\n",
              "      <div>\n",
              "<style scoped>\n",
              "    .dataframe tbody tr th:only-of-type {\n",
              "        vertical-align: middle;\n",
              "    }\n",
              "\n",
              "    .dataframe tbody tr th {\n",
              "        vertical-align: top;\n",
              "    }\n",
              "\n",
              "    .dataframe thead th {\n",
              "        text-align: right;\n",
              "    }\n",
              "</style>\n",
              "<table border=\"1\" class=\"dataframe\">\n",
              "  <thead>\n",
              "    <tr style=\"text-align: right;\">\n",
              "      <th></th>\n",
              "      <th>name</th>\n",
              "      <th>align</th>\n",
              "      <th>eye</th>\n",
              "      <th>hair</th>\n",
              "      <th>sex</th>\n",
              "      <th>appearances</th>\n",
              "      <th>first_appearance</th>\n",
              "    </tr>\n",
              "  </thead>\n",
              "  <tbody>\n",
              "    <tr>\n",
              "      <th>0</th>\n",
              "      <td>Spider-Man (Peter Parker)</td>\n",
              "      <td>Добрый персонаж</td>\n",
              "      <td>Карие глаза</td>\n",
              "      <td>Каштановые волосы</td>\n",
              "      <td>Мужской персонаж</td>\n",
              "      <td>4043.0</td>\n",
              "      <td>1962.0</td>\n",
              "    </tr>\n",
              "    <tr>\n",
              "      <th>1</th>\n",
              "      <td>Captain America (Steven Rogers)</td>\n",
              "      <td>Добрый персонаж</td>\n",
              "      <td>Голубые глаза</td>\n",
              "      <td>Белые волосы</td>\n",
              "      <td>Мужской персонаж</td>\n",
              "      <td>3360.0</td>\n",
              "      <td>1941.0</td>\n",
              "    </tr>\n",
              "    <tr>\n",
              "      <th>2</th>\n",
              "      <td>Wolverine (James \\\"Logan\\\" Howlett)</td>\n",
              "      <td>Нейтральный персонаж</td>\n",
              "      <td>Голубые глаза</td>\n",
              "      <td>Черные волосы</td>\n",
              "      <td>Мужской персонаж</td>\n",
              "      <td>3061.0</td>\n",
              "      <td>1974.0</td>\n",
              "    </tr>\n",
              "    <tr>\n",
              "      <th>3</th>\n",
              "      <td>Iron Man (Anthony \\\"Tony\\\" Stark)</td>\n",
              "      <td>Добрый персонаж</td>\n",
              "      <td>Голубые глаза</td>\n",
              "      <td>Черные волосы</td>\n",
              "      <td>Мужской персонаж</td>\n",
              "      <td>2961.0</td>\n",
              "      <td>1963.0</td>\n",
              "    </tr>\n",
              "    <tr>\n",
              "      <th>4</th>\n",
              "      <td>Thor (Thor Odinson)</td>\n",
              "      <td>Добрый персонаж</td>\n",
              "      <td>Голубые глаза</td>\n",
              "      <td>Русые волосы</td>\n",
              "      <td>Мужской персонаж</td>\n",
              "      <td>2258.0</td>\n",
              "      <td>1950.0</td>\n",
              "    </tr>\n",
              "    <tr>\n",
              "      <th>...</th>\n",
              "      <td>...</td>\n",
              "      <td>...</td>\n",
              "      <td>...</td>\n",
              "      <td>...</td>\n",
              "      <td>...</td>\n",
              "      <td>...</td>\n",
              "      <td>...</td>\n",
              "    </tr>\n",
              "    <tr>\n",
              "      <th>402</th>\n",
              "      <td>Everett Thomas (Earth-616)</td>\n",
              "      <td>Добрый персонаж</td>\n",
              "      <td>Темно-карие глаза</td>\n",
              "      <td>NaN</td>\n",
              "      <td>Мужской персонаж</td>\n",
              "      <td>103.0</td>\n",
              "      <td>1994.0</td>\n",
              "    </tr>\n",
              "    <tr>\n",
              "      <th>404</th>\n",
              "      <td>Dorrek VIII (Earth-616)</td>\n",
              "      <td>Добрый персонаж</td>\n",
              "      <td>Голубые глаза</td>\n",
              "      <td>Русые волосы</td>\n",
              "      <td>Мужской персонаж</td>\n",
              "      <td>103.0</td>\n",
              "      <td>2005.0</td>\n",
              "    </tr>\n",
              "    <tr>\n",
              "      <th>405</th>\n",
              "      <td>Amadeus Cho (Earth-616)</td>\n",
              "      <td>Добрый персонаж</td>\n",
              "      <td>Черные глаза</td>\n",
              "      <td>Черные волосы</td>\n",
              "      <td>Мужской персонаж</td>\n",
              "      <td>103.0</td>\n",
              "      <td>2006.0</td>\n",
              "    </tr>\n",
              "    <tr>\n",
              "      <th>406</th>\n",
              "      <td>Phillip Masters (Earth-616)</td>\n",
              "      <td>Злой персонаж</td>\n",
              "      <td>Темно-карие глаза</td>\n",
              "      <td>NaN</td>\n",
              "      <td>Мужской персонаж</td>\n",
              "      <td>102.0</td>\n",
              "      <td>1962.0</td>\n",
              "    </tr>\n",
              "    <tr>\n",
              "      <th>407</th>\n",
              "      <td>Joshua Foley (Earth-616)</td>\n",
              "      <td>Добрый персонаж</td>\n",
              "      <td>Голубые глаза</td>\n",
              "      <td>Русые волосы</td>\n",
              "      <td>Мужской персонаж</td>\n",
              "      <td>101.0</td>\n",
              "      <td>2003.0</td>\n",
              "    </tr>\n",
              "  </tbody>\n",
              "</table>\n",
              "<p>277 rows × 7 columns</p>\n",
              "</div>\n",
              "      <button class=\"colab-df-convert\" onclick=\"convertToInteractive('df-36c04d3b-848b-435a-ab1c-a736f9cc87ba')\"\n",
              "              title=\"Convert this dataframe to an interactive table.\"\n",
              "              style=\"display:none;\">\n",
              "        \n",
              "  <svg xmlns=\"http://www.w3.org/2000/svg\" height=\"24px\"viewBox=\"0 0 24 24\"\n",
              "       width=\"24px\">\n",
              "    <path d=\"M0 0h24v24H0V0z\" fill=\"none\"/>\n",
              "    <path d=\"M18.56 5.44l.94 2.06.94-2.06 2.06-.94-2.06-.94-.94-2.06-.94 2.06-2.06.94zm-11 1L8.5 8.5l.94-2.06 2.06-.94-2.06-.94L8.5 2.5l-.94 2.06-2.06.94zm10 10l.94 2.06.94-2.06 2.06-.94-2.06-.94-.94-2.06-.94 2.06-2.06.94z\"/><path d=\"M17.41 7.96l-1.37-1.37c-.4-.4-.92-.59-1.43-.59-.52 0-1.04.2-1.43.59L10.3 9.45l-7.72 7.72c-.78.78-.78 2.05 0 2.83L4 21.41c.39.39.9.59 1.41.59.51 0 1.02-.2 1.41-.59l7.78-7.78 2.81-2.81c.8-.78.8-2.07 0-2.86zM5.41 20L4 18.59l7.72-7.72 1.47 1.35L5.41 20z\"/>\n",
              "  </svg>\n",
              "      </button>\n",
              "      \n",
              "  <style>\n",
              "    .colab-df-container {\n",
              "      display:flex;\n",
              "      flex-wrap:wrap;\n",
              "      gap: 12px;\n",
              "    }\n",
              "\n",
              "    .colab-df-convert {\n",
              "      background-color: #E8F0FE;\n",
              "      border: none;\n",
              "      border-radius: 50%;\n",
              "      cursor: pointer;\n",
              "      display: none;\n",
              "      fill: #1967D2;\n",
              "      height: 32px;\n",
              "      padding: 0 0 0 0;\n",
              "      width: 32px;\n",
              "    }\n",
              "\n",
              "    .colab-df-convert:hover {\n",
              "      background-color: #E2EBFA;\n",
              "      box-shadow: 0px 1px 2px rgba(60, 64, 67, 0.3), 0px 1px 3px 1px rgba(60, 64, 67, 0.15);\n",
              "      fill: #174EA6;\n",
              "    }\n",
              "\n",
              "    [theme=dark] .colab-df-convert {\n",
              "      background-color: #3B4455;\n",
              "      fill: #D2E3FC;\n",
              "    }\n",
              "\n",
              "    [theme=dark] .colab-df-convert:hover {\n",
              "      background-color: #434B5C;\n",
              "      box-shadow: 0px 1px 3px 1px rgba(0, 0, 0, 0.15);\n",
              "      filter: drop-shadow(0px 1px 2px rgba(0, 0, 0, 0.3));\n",
              "      fill: #FFFFFF;\n",
              "    }\n",
              "  </style>\n",
              "\n",
              "      <script>\n",
              "        const buttonEl =\n",
              "          document.querySelector('#df-36c04d3b-848b-435a-ab1c-a736f9cc87ba button.colab-df-convert');\n",
              "        buttonEl.style.display =\n",
              "          google.colab.kernel.accessAllowed ? 'block' : 'none';\n",
              "\n",
              "        async function convertToInteractive(key) {\n",
              "          const element = document.querySelector('#df-36c04d3b-848b-435a-ab1c-a736f9cc87ba');\n",
              "          const dataTable =\n",
              "            await google.colab.kernel.invokeFunction('convertToInteractive',\n",
              "                                                     [key], {});\n",
              "          if (!dataTable) return;\n",
              "\n",
              "          const docLinkHtml = 'Like what you see? Visit the ' +\n",
              "            '<a target=\"_blank\" href=https://colab.research.google.com/notebooks/data_table.ipynb>data table notebook</a>'\n",
              "            + ' to learn more about interactive tables.';\n",
              "          element.innerHTML = '';\n",
              "          dataTable['output_type'] = 'display_data';\n",
              "          await google.colab.output.renderOutput(dataTable, element);\n",
              "          const docLink = document.createElement('div');\n",
              "          docLink.innerHTML = docLinkHtml;\n",
              "          element.appendChild(docLink);\n",
              "        }\n",
              "      </script>\n",
              "    </div>\n",
              "  </div>\n",
              "  "
            ]
          },
          "metadata": {},
          "execution_count": 39
        }
      ]
    },
    {
      "cell_type": "code",
      "source": [
        "df.shape"
      ],
      "metadata": {
        "colab": {
          "base_uri": "https://localhost:8080/"
        },
        "id": "vgmT4PoALlez",
        "outputId": "30ba2a03-cd7b-4253-8b74-91cf352140b2"
      },
      "execution_count": 40,
      "outputs": [
        {
          "output_type": "execute_result",
          "data": {
            "text/plain": [
              "(16376, 7)"
            ]
          },
          "metadata": {},
          "execution_count": 40
        }
      ]
    },
    {
      "cell_type": "code",
      "source": [
        "277 / 16376 * 100"
      ],
      "metadata": {
        "colab": {
          "base_uri": "https://localhost:8080/"
        },
        "id": "47RerxUZLvhz",
        "outputId": "9aaa4fed-33d1-4253-b659-9875f75f571c"
      },
      "execution_count": 41,
      "outputs": [
        {
          "output_type": "execute_result",
          "data": {
            "text/plain": [
              "1.6914997557401075"
            ]
          },
          "metadata": {},
          "execution_count": 41
        }
      ]
    }
  ]
}