{
  "nbformat": 4,
  "nbformat_minor": 0,
  "metadata": {
    "colab": {
      "provenance": []
    },
    "kernelspec": {
      "name": "python3",
      "display_name": "Python 3"
    },
    "language_info": {
      "name": "python"
    }
  },
  "cells": [
    {
      "cell_type": "code",
      "execution_count": 11,
      "metadata": {
        "id": "ssNvay9vW65g"
      },
      "outputs": [],
      "source": [
        "import pandas as pd\n",
        "import matplotlib.pyplot as plt"
      ]
    },
    {
      "cell_type": "markdown",
      "source": [
        "Описание данных\n",
        "\n",
        "– statefip — намер штата США или территории в ведение США\n",
        "\n",
        "– state — название штата или территории\n",
        "\n",
        "– gisjoin — номер переписного района согласно данным переписи 2010 года\n",
        "\n",
        "– lat_tract, long_tract — широта и долгота центра переписного района\n",
        "\n",
        "– population — число жителей переписного района\n",
        "\n",
        "– adj_radiuspop_5 — оцененное значение числа жителей в радиусе пяти миль от переписного пункта\n",
        "\n",
        "– urbanindex — индекс того, насколько городской или сельской является данный район\n",
        "\n",
        "– log_pop — логарифм населения переписного пункта\n"
      ],
      "metadata": {
        "id": "OnskUQNPYmcH"
      }
    },
    {
      "cell_type": "code",
      "source": [
        "df = pd.read_csv(\"/content/UrbanizationCensusTract.csv\")"
      ],
      "metadata": {
        "id": "kF6uk9HqXCdV"
      },
      "execution_count": 2,
      "outputs": []
    },
    {
      "cell_type": "code",
      "source": [
        "df.head()"
      ],
      "metadata": {
        "colab": {
          "base_uri": "https://localhost:8080/",
          "height": 206
        },
        "id": "SdTC-W5_YD3P",
        "outputId": "261b6ecd-a58f-4574-e31e-913013af658e"
      },
      "execution_count": 3,
      "outputs": [
        {
          "output_type": "execute_result",
          "data": {
            "text/plain": [
              "   Unnamed: 0  statefips    state         gisjoin  lat_tract  long_tract  \\\n",
              "0           0          1  Alabama  G0100010020100   32.47718   -86.49007   \n",
              "1           1          1  Alabama  G0100010020200   32.47425   -86.47337   \n",
              "2           2          1  Alabama  G0100010020300   32.47543   -86.46019   \n",
              "3           3          1  Alabama  G0100010020400   32.47200   -86.44363   \n",
              "4           4          1  Alabama  G0100010020500   32.45883   -86.42266   \n",
              "\n",
              "   population  adj_radiuspop_5  urbanindex   log_pop  \n",
              "0        1845          44076.0    10.69367  7.520235  \n",
              "1        2172          43008.0    10.66914  7.683404  \n",
              "2        3385          38987.0    10.57098  8.127109  \n",
              "3        4267          43131.0    10.67200  8.358666  \n",
              "4        9965          43131.0    10.67200  9.206834  "
            ],
            "text/html": [
              "\n",
              "  <div id=\"df-e9fa84c2-9cc6-44ca-8b84-120aabd8419d\">\n",
              "    <div class=\"colab-df-container\">\n",
              "      <div>\n",
              "<style scoped>\n",
              "    .dataframe tbody tr th:only-of-type {\n",
              "        vertical-align: middle;\n",
              "    }\n",
              "\n",
              "    .dataframe tbody tr th {\n",
              "        vertical-align: top;\n",
              "    }\n",
              "\n",
              "    .dataframe thead th {\n",
              "        text-align: right;\n",
              "    }\n",
              "</style>\n",
              "<table border=\"1\" class=\"dataframe\">\n",
              "  <thead>\n",
              "    <tr style=\"text-align: right;\">\n",
              "      <th></th>\n",
              "      <th>Unnamed: 0</th>\n",
              "      <th>statefips</th>\n",
              "      <th>state</th>\n",
              "      <th>gisjoin</th>\n",
              "      <th>lat_tract</th>\n",
              "      <th>long_tract</th>\n",
              "      <th>population</th>\n",
              "      <th>adj_radiuspop_5</th>\n",
              "      <th>urbanindex</th>\n",
              "      <th>log_pop</th>\n",
              "    </tr>\n",
              "  </thead>\n",
              "  <tbody>\n",
              "    <tr>\n",
              "      <th>0</th>\n",
              "      <td>0</td>\n",
              "      <td>1</td>\n",
              "      <td>Alabama</td>\n",
              "      <td>G0100010020100</td>\n",
              "      <td>32.47718</td>\n",
              "      <td>-86.49007</td>\n",
              "      <td>1845</td>\n",
              "      <td>44076.0</td>\n",
              "      <td>10.69367</td>\n",
              "      <td>7.520235</td>\n",
              "    </tr>\n",
              "    <tr>\n",
              "      <th>1</th>\n",
              "      <td>1</td>\n",
              "      <td>1</td>\n",
              "      <td>Alabama</td>\n",
              "      <td>G0100010020200</td>\n",
              "      <td>32.47425</td>\n",
              "      <td>-86.47337</td>\n",
              "      <td>2172</td>\n",
              "      <td>43008.0</td>\n",
              "      <td>10.66914</td>\n",
              "      <td>7.683404</td>\n",
              "    </tr>\n",
              "    <tr>\n",
              "      <th>2</th>\n",
              "      <td>2</td>\n",
              "      <td>1</td>\n",
              "      <td>Alabama</td>\n",
              "      <td>G0100010020300</td>\n",
              "      <td>32.47543</td>\n",
              "      <td>-86.46019</td>\n",
              "      <td>3385</td>\n",
              "      <td>38987.0</td>\n",
              "      <td>10.57098</td>\n",
              "      <td>8.127109</td>\n",
              "    </tr>\n",
              "    <tr>\n",
              "      <th>3</th>\n",
              "      <td>3</td>\n",
              "      <td>1</td>\n",
              "      <td>Alabama</td>\n",
              "      <td>G0100010020400</td>\n",
              "      <td>32.47200</td>\n",
              "      <td>-86.44363</td>\n",
              "      <td>4267</td>\n",
              "      <td>43131.0</td>\n",
              "      <td>10.67200</td>\n",
              "      <td>8.358666</td>\n",
              "    </tr>\n",
              "    <tr>\n",
              "      <th>4</th>\n",
              "      <td>4</td>\n",
              "      <td>1</td>\n",
              "      <td>Alabama</td>\n",
              "      <td>G0100010020500</td>\n",
              "      <td>32.45883</td>\n",
              "      <td>-86.42266</td>\n",
              "      <td>9965</td>\n",
              "      <td>43131.0</td>\n",
              "      <td>10.67200</td>\n",
              "      <td>9.206834</td>\n",
              "    </tr>\n",
              "  </tbody>\n",
              "</table>\n",
              "</div>\n",
              "      <button class=\"colab-df-convert\" onclick=\"convertToInteractive('df-e9fa84c2-9cc6-44ca-8b84-120aabd8419d')\"\n",
              "              title=\"Convert this dataframe to an interactive table.\"\n",
              "              style=\"display:none;\">\n",
              "        \n",
              "  <svg xmlns=\"http://www.w3.org/2000/svg\" height=\"24px\"viewBox=\"0 0 24 24\"\n",
              "       width=\"24px\">\n",
              "    <path d=\"M0 0h24v24H0V0z\" fill=\"none\"/>\n",
              "    <path d=\"M18.56 5.44l.94 2.06.94-2.06 2.06-.94-2.06-.94-.94-2.06-.94 2.06-2.06.94zm-11 1L8.5 8.5l.94-2.06 2.06-.94-2.06-.94L8.5 2.5l-.94 2.06-2.06.94zm10 10l.94 2.06.94-2.06 2.06-.94-2.06-.94-.94-2.06-.94 2.06-2.06.94z\"/><path d=\"M17.41 7.96l-1.37-1.37c-.4-.4-.92-.59-1.43-.59-.52 0-1.04.2-1.43.59L10.3 9.45l-7.72 7.72c-.78.78-.78 2.05 0 2.83L4 21.41c.39.39.9.59 1.41.59.51 0 1.02-.2 1.41-.59l7.78-7.78 2.81-2.81c.8-.78.8-2.07 0-2.86zM5.41 20L4 18.59l7.72-7.72 1.47 1.35L5.41 20z\"/>\n",
              "  </svg>\n",
              "      </button>\n",
              "      \n",
              "  <style>\n",
              "    .colab-df-container {\n",
              "      display:flex;\n",
              "      flex-wrap:wrap;\n",
              "      gap: 12px;\n",
              "    }\n",
              "\n",
              "    .colab-df-convert {\n",
              "      background-color: #E8F0FE;\n",
              "      border: none;\n",
              "      border-radius: 50%;\n",
              "      cursor: pointer;\n",
              "      display: none;\n",
              "      fill: #1967D2;\n",
              "      height: 32px;\n",
              "      padding: 0 0 0 0;\n",
              "      width: 32px;\n",
              "    }\n",
              "\n",
              "    .colab-df-convert:hover {\n",
              "      background-color: #E2EBFA;\n",
              "      box-shadow: 0px 1px 2px rgba(60, 64, 67, 0.3), 0px 1px 3px 1px rgba(60, 64, 67, 0.15);\n",
              "      fill: #174EA6;\n",
              "    }\n",
              "\n",
              "    [theme=dark] .colab-df-convert {\n",
              "      background-color: #3B4455;\n",
              "      fill: #D2E3FC;\n",
              "    }\n",
              "\n",
              "    [theme=dark] .colab-df-convert:hover {\n",
              "      background-color: #434B5C;\n",
              "      box-shadow: 0px 1px 3px 1px rgba(0, 0, 0, 0.15);\n",
              "      filter: drop-shadow(0px 1px 2px rgba(0, 0, 0, 0.3));\n",
              "      fill: #FFFFFF;\n",
              "    }\n",
              "  </style>\n",
              "\n",
              "      <script>\n",
              "        const buttonEl =\n",
              "          document.querySelector('#df-e9fa84c2-9cc6-44ca-8b84-120aabd8419d button.colab-df-convert');\n",
              "        buttonEl.style.display =\n",
              "          google.colab.kernel.accessAllowed ? 'block' : 'none';\n",
              "\n",
              "        async function convertToInteractive(key) {\n",
              "          const element = document.querySelector('#df-e9fa84c2-9cc6-44ca-8b84-120aabd8419d');\n",
              "          const dataTable =\n",
              "            await google.colab.kernel.invokeFunction('convertToInteractive',\n",
              "                                                     [key], {});\n",
              "          if (!dataTable) return;\n",
              "\n",
              "          const docLinkHtml = 'Like what you see? Visit the ' +\n",
              "            '<a target=\"_blank\" href=https://colab.research.google.com/notebooks/data_table.ipynb>data table notebook</a>'\n",
              "            + ' to learn more about interactive tables.';\n",
              "          element.innerHTML = '';\n",
              "          dataTable['output_type'] = 'display_data';\n",
              "          await google.colab.output.renderOutput(dataTable, element);\n",
              "          const docLink = document.createElement('div');\n",
              "          docLink.innerHTML = docLinkHtml;\n",
              "          element.appendChild(docLink);\n",
              "        }\n",
              "      </script>\n",
              "    </div>\n",
              "  </div>\n",
              "  "
            ]
          },
          "metadata": {},
          "execution_count": 3
        }
      ]
    },
    {
      "cell_type": "code",
      "source": [
        "df.pop(\"Unnamed: 0\")"
      ],
      "metadata": {
        "colab": {
          "base_uri": "https://localhost:8080/"
        },
        "id": "B6-PrQHGYFPJ",
        "outputId": "2c040876-1e7b-4269-bd8b-c8894dd32734"
      },
      "execution_count": 4,
      "outputs": [
        {
          "output_type": "execute_result",
          "data": {
            "text/plain": [
              "0            0\n",
              "1            1\n",
              "2            2\n",
              "3            3\n",
              "4            4\n",
              "         ...  \n",
              "73275    73275\n",
              "73276    73276\n",
              "73277    73277\n",
              "73278    73278\n",
              "73279    73279\n",
              "Name: Unnamed: 0, Length: 73280, dtype: int64"
            ]
          },
          "metadata": {},
          "execution_count": 4
        }
      ]
    },
    {
      "cell_type": "code",
      "source": [
        "df.head()"
      ],
      "metadata": {
        "colab": {
          "base_uri": "https://localhost:8080/",
          "height": 206
        },
        "id": "Z2MSRkrYYUjA",
        "outputId": "17b74c11-192b-4be9-c971-ec143297609f"
      },
      "execution_count": 5,
      "outputs": [
        {
          "output_type": "execute_result",
          "data": {
            "text/plain": [
              "   statefips    state         gisjoin  lat_tract  long_tract  population  \\\n",
              "0          1  Alabama  G0100010020100   32.47718   -86.49007        1845   \n",
              "1          1  Alabama  G0100010020200   32.47425   -86.47337        2172   \n",
              "2          1  Alabama  G0100010020300   32.47543   -86.46019        3385   \n",
              "3          1  Alabama  G0100010020400   32.47200   -86.44363        4267   \n",
              "4          1  Alabama  G0100010020500   32.45883   -86.42266        9965   \n",
              "\n",
              "   adj_radiuspop_5  urbanindex   log_pop  \n",
              "0          44076.0    10.69367  7.520235  \n",
              "1          43008.0    10.66914  7.683404  \n",
              "2          38987.0    10.57098  8.127109  \n",
              "3          43131.0    10.67200  8.358666  \n",
              "4          43131.0    10.67200  9.206834  "
            ],
            "text/html": [
              "\n",
              "  <div id=\"df-fb21744b-6b29-4013-8c80-1b5b8d7ca237\">\n",
              "    <div class=\"colab-df-container\">\n",
              "      <div>\n",
              "<style scoped>\n",
              "    .dataframe tbody tr th:only-of-type {\n",
              "        vertical-align: middle;\n",
              "    }\n",
              "\n",
              "    .dataframe tbody tr th {\n",
              "        vertical-align: top;\n",
              "    }\n",
              "\n",
              "    .dataframe thead th {\n",
              "        text-align: right;\n",
              "    }\n",
              "</style>\n",
              "<table border=\"1\" class=\"dataframe\">\n",
              "  <thead>\n",
              "    <tr style=\"text-align: right;\">\n",
              "      <th></th>\n",
              "      <th>statefips</th>\n",
              "      <th>state</th>\n",
              "      <th>gisjoin</th>\n",
              "      <th>lat_tract</th>\n",
              "      <th>long_tract</th>\n",
              "      <th>population</th>\n",
              "      <th>adj_radiuspop_5</th>\n",
              "      <th>urbanindex</th>\n",
              "      <th>log_pop</th>\n",
              "    </tr>\n",
              "  </thead>\n",
              "  <tbody>\n",
              "    <tr>\n",
              "      <th>0</th>\n",
              "      <td>1</td>\n",
              "      <td>Alabama</td>\n",
              "      <td>G0100010020100</td>\n",
              "      <td>32.47718</td>\n",
              "      <td>-86.49007</td>\n",
              "      <td>1845</td>\n",
              "      <td>44076.0</td>\n",
              "      <td>10.69367</td>\n",
              "      <td>7.520235</td>\n",
              "    </tr>\n",
              "    <tr>\n",
              "      <th>1</th>\n",
              "      <td>1</td>\n",
              "      <td>Alabama</td>\n",
              "      <td>G0100010020200</td>\n",
              "      <td>32.47425</td>\n",
              "      <td>-86.47337</td>\n",
              "      <td>2172</td>\n",
              "      <td>43008.0</td>\n",
              "      <td>10.66914</td>\n",
              "      <td>7.683404</td>\n",
              "    </tr>\n",
              "    <tr>\n",
              "      <th>2</th>\n",
              "      <td>1</td>\n",
              "      <td>Alabama</td>\n",
              "      <td>G0100010020300</td>\n",
              "      <td>32.47543</td>\n",
              "      <td>-86.46019</td>\n",
              "      <td>3385</td>\n",
              "      <td>38987.0</td>\n",
              "      <td>10.57098</td>\n",
              "      <td>8.127109</td>\n",
              "    </tr>\n",
              "    <tr>\n",
              "      <th>3</th>\n",
              "      <td>1</td>\n",
              "      <td>Alabama</td>\n",
              "      <td>G0100010020400</td>\n",
              "      <td>32.47200</td>\n",
              "      <td>-86.44363</td>\n",
              "      <td>4267</td>\n",
              "      <td>43131.0</td>\n",
              "      <td>10.67200</td>\n",
              "      <td>8.358666</td>\n",
              "    </tr>\n",
              "    <tr>\n",
              "      <th>4</th>\n",
              "      <td>1</td>\n",
              "      <td>Alabama</td>\n",
              "      <td>G0100010020500</td>\n",
              "      <td>32.45883</td>\n",
              "      <td>-86.42266</td>\n",
              "      <td>9965</td>\n",
              "      <td>43131.0</td>\n",
              "      <td>10.67200</td>\n",
              "      <td>9.206834</td>\n",
              "    </tr>\n",
              "  </tbody>\n",
              "</table>\n",
              "</div>\n",
              "      <button class=\"colab-df-convert\" onclick=\"convertToInteractive('df-fb21744b-6b29-4013-8c80-1b5b8d7ca237')\"\n",
              "              title=\"Convert this dataframe to an interactive table.\"\n",
              "              style=\"display:none;\">\n",
              "        \n",
              "  <svg xmlns=\"http://www.w3.org/2000/svg\" height=\"24px\"viewBox=\"0 0 24 24\"\n",
              "       width=\"24px\">\n",
              "    <path d=\"M0 0h24v24H0V0z\" fill=\"none\"/>\n",
              "    <path d=\"M18.56 5.44l.94 2.06.94-2.06 2.06-.94-2.06-.94-.94-2.06-.94 2.06-2.06.94zm-11 1L8.5 8.5l.94-2.06 2.06-.94-2.06-.94L8.5 2.5l-.94 2.06-2.06.94zm10 10l.94 2.06.94-2.06 2.06-.94-2.06-.94-.94-2.06-.94 2.06-2.06.94z\"/><path d=\"M17.41 7.96l-1.37-1.37c-.4-.4-.92-.59-1.43-.59-.52 0-1.04.2-1.43.59L10.3 9.45l-7.72 7.72c-.78.78-.78 2.05 0 2.83L4 21.41c.39.39.9.59 1.41.59.51 0 1.02-.2 1.41-.59l7.78-7.78 2.81-2.81c.8-.78.8-2.07 0-2.86zM5.41 20L4 18.59l7.72-7.72 1.47 1.35L5.41 20z\"/>\n",
              "  </svg>\n",
              "      </button>\n",
              "      \n",
              "  <style>\n",
              "    .colab-df-container {\n",
              "      display:flex;\n",
              "      flex-wrap:wrap;\n",
              "      gap: 12px;\n",
              "    }\n",
              "\n",
              "    .colab-df-convert {\n",
              "      background-color: #E8F0FE;\n",
              "      border: none;\n",
              "      border-radius: 50%;\n",
              "      cursor: pointer;\n",
              "      display: none;\n",
              "      fill: #1967D2;\n",
              "      height: 32px;\n",
              "      padding: 0 0 0 0;\n",
              "      width: 32px;\n",
              "    }\n",
              "\n",
              "    .colab-df-convert:hover {\n",
              "      background-color: #E2EBFA;\n",
              "      box-shadow: 0px 1px 2px rgba(60, 64, 67, 0.3), 0px 1px 3px 1px rgba(60, 64, 67, 0.15);\n",
              "      fill: #174EA6;\n",
              "    }\n",
              "\n",
              "    [theme=dark] .colab-df-convert {\n",
              "      background-color: #3B4455;\n",
              "      fill: #D2E3FC;\n",
              "    }\n",
              "\n",
              "    [theme=dark] .colab-df-convert:hover {\n",
              "      background-color: #434B5C;\n",
              "      box-shadow: 0px 1px 3px 1px rgba(0, 0, 0, 0.15);\n",
              "      filter: drop-shadow(0px 1px 2px rgba(0, 0, 0, 0.3));\n",
              "      fill: #FFFFFF;\n",
              "    }\n",
              "  </style>\n",
              "\n",
              "      <script>\n",
              "        const buttonEl =\n",
              "          document.querySelector('#df-fb21744b-6b29-4013-8c80-1b5b8d7ca237 button.colab-df-convert');\n",
              "        buttonEl.style.display =\n",
              "          google.colab.kernel.accessAllowed ? 'block' : 'none';\n",
              "\n",
              "        async function convertToInteractive(key) {\n",
              "          const element = document.querySelector('#df-fb21744b-6b29-4013-8c80-1b5b8d7ca237');\n",
              "          const dataTable =\n",
              "            await google.colab.kernel.invokeFunction('convertToInteractive',\n",
              "                                                     [key], {});\n",
              "          if (!dataTable) return;\n",
              "\n",
              "          const docLinkHtml = 'Like what you see? Visit the ' +\n",
              "            '<a target=\"_blank\" href=https://colab.research.google.com/notebooks/data_table.ipynb>data table notebook</a>'\n",
              "            + ' to learn more about interactive tables.';\n",
              "          element.innerHTML = '';\n",
              "          dataTable['output_type'] = 'display_data';\n",
              "          await google.colab.output.renderOutput(dataTable, element);\n",
              "          const docLink = document.createElement('div');\n",
              "          docLink.innerHTML = docLinkHtml;\n",
              "          element.appendChild(docLink);\n",
              "        }\n",
              "      </script>\n",
              "    </div>\n",
              "  </div>\n",
              "  "
            ]
          },
          "metadata": {},
          "execution_count": 5
        }
      ]
    },
    {
      "cell_type": "code",
      "source": [
        "df.info()"
      ],
      "metadata": {
        "colab": {
          "base_uri": "https://localhost:8080/"
        },
        "id": "aJk7j2npYWAi",
        "outputId": "270bbeb2-f2f4-4c68-c2f9-93dee22fbf63"
      },
      "execution_count": 6,
      "outputs": [
        {
          "output_type": "stream",
          "name": "stdout",
          "text": [
            "<class 'pandas.core.frame.DataFrame'>\n",
            "RangeIndex: 73280 entries, 0 to 73279\n",
            "Data columns (total 9 columns):\n",
            " #   Column           Non-Null Count  Dtype  \n",
            "---  ------           --------------  -----  \n",
            " 0   statefips        73280 non-null  int64  \n",
            " 1   state            73280 non-null  object \n",
            " 2   gisjoin          73280 non-null  object \n",
            " 3   lat_tract        73280 non-null  float64\n",
            " 4   long_tract       73280 non-null  float64\n",
            " 5   population       73280 non-null  int64  \n",
            " 6   adj_radiuspop_5  73280 non-null  float64\n",
            " 7   urbanindex       73280 non-null  float64\n",
            " 8   log_pop          73280 non-null  float64\n",
            "dtypes: float64(5), int64(2), object(2)\n",
            "memory usage: 5.0+ MB\n"
          ]
        }
      ]
    },
    {
      "cell_type": "code",
      "source": [
        "df[\"urbanindex\"].hist()"
      ],
      "metadata": {
        "colab": {
          "base_uri": "https://localhost:8080/",
          "height": 282
        },
        "id": "31q0q6sAY34O",
        "outputId": "a4e1f0c4-5499-47ab-a570-73e1bb59fc68"
      },
      "execution_count": 9,
      "outputs": [
        {
          "output_type": "execute_result",
          "data": {
            "text/plain": [
              "<matplotlib.axes._subplots.AxesSubplot at 0x7f48841aacd0>"
            ]
          },
          "metadata": {},
          "execution_count": 9
        },
        {
          "output_type": "display_data",
          "data": {
            "text/plain": [
              "<Figure size 432x288 with 1 Axes>"
            ],
            "image/png": "[encoded data removed]"
          },
          "metadata": {
            "needs_background": "light"
          }
        }
      ]
    },
    {
      "cell_type": "markdown",
      "source": [
        "Укажите, верно ли следующее утверждение: для определения выбросов и аномальных значений в переменной population подойдет ящик с усами."
      ],
      "metadata": {
        "id": "n1CSNKI7ZK6j"
      }
    },
    {
      "cell_type": "code",
      "source": [
        "plt.boxplot(x=df[\"population\"])"
      ],
      "metadata": {
        "colab": {
          "base_uri": "https://localhost:8080/",
          "height": 404
        },
        "id": "JKG8dWZ9ZCB_",
        "outputId": "28950b76-6108-4373-b084-e8cccdc65f59"
      },
      "execution_count": 12,
      "outputs": [
        {
          "output_type": "execute_result",
          "data": {
            "text/plain": [
              "{'whiskers': [<matplotlib.lines.Line2D at 0x7f4884043410>,\n",
              "  <matplotlib.lines.Line2D at 0x7f4884043950>],\n",
              " 'caps': [<matplotlib.lines.Line2D at 0x7f4884043e90>,\n",
              "  <matplotlib.lines.Line2D at 0x7f4884048410>],\n",
              " 'boxes': [<matplotlib.lines.Line2D at 0x7f488403edd0>],\n",
              " 'medians': [<matplotlib.lines.Line2D at 0x7f4884048990>],\n",
              " 'fliers': [<matplotlib.lines.Line2D at 0x7f4884048ed0>],\n",
              " 'means': []}"
            ]
          },
          "metadata": {},
          "execution_count": 12
        },
        {
          "output_type": "display_data",
          "data": {
            "text/plain": [
              "<Figure size 432x288 with 1 Axes>"
            ],
            "image/png": "[encoded data removed]"
          },
          "metadata": {
            "needs_background": "light"
          }
        }
      ]
    },
    {
      "cell_type": "markdown",
      "source": [
        "Укажите, верно ли следующее утверждение: для визуализации распределения числа жителей каждого переписного района Аляски лучше всего подойдет гистограмма.\n",
        "\n",
        "\n"
      ],
      "metadata": {
        "id": "VbOdUPf5adYF"
      }
    },
    {
      "cell_type": "code",
      "source": [
        "df[\"state\"].value_counts()"
      ],
      "metadata": {
        "colab": {
          "base_uri": "https://localhost:8080/"
        },
        "id": "qLczEDBqZRhU",
        "outputId": "0d20ece1-193f-4dea-972a-71a883bfb265"
      },
      "execution_count": 13,
      "outputs": [
        {
          "output_type": "execute_result",
          "data": {
            "text/plain": [
              "California              8011\n",
              "Texas                   5230\n",
              "New York                4844\n",
              "Florida                 4169\n",
              "Pennsylvania            3200\n",
              "Illinois                3116\n",
              "Ohio                    2940\n",
              "Michigan                2754\n",
              "North Carolina          2169\n",
              "New Jersey              2001\n",
              "Georgia                 1956\n",
              "Virginia                1878\n",
              "Arizona                 1513\n",
              "Indiana                 1506\n",
              "Tennessee               1483\n",
              "Massachusetts           1466\n",
              "Washington              1444\n",
              "Wisconsin               1392\n",
              "Missouri                1389\n",
              "Maryland                1389\n",
              "Minnesota               1334\n",
              "Colorado                1242\n",
              "Alabama                 1176\n",
              "Louisiana               1127\n",
              "Kentucky                1109\n",
              "South Carolina          1091\n",
              "Oklahoma                1045\n",
              "Puerto Rico              887\n",
              "Connecticut              828\n",
              "Oregon                   825\n",
              "Iowa                     823\n",
              "Kansas                   759\n",
              "Arkansas                 685\n",
              "Nevada                   679\n",
              "Mississippi              658\n",
              "Utah                     585\n",
              "Nebraska                 532\n",
              "New Mexico               498\n",
              "West Virginia            484\n",
              "Maine                    351\n",
              "Hawaii                   316\n",
              "Idaho                    298\n",
              "New Hampshire            292\n",
              "Montana                  270\n",
              "Rhode Island             240\n",
              "South Dakota             219\n",
              "Delaware                 214\n",
              "North Dakota             205\n",
              "Vermont                  183\n",
              "District of Columbia     179\n",
              "Alaska                   165\n",
              "Wyoming                  131\n",
              "Name: state, dtype: int64"
            ]
          },
          "metadata": {},
          "execution_count": 13
        }
      ]
    },
    {
      "cell_type": "code",
      "source": [
        "alaska = df[df[\"state\"] == \"Alaska\"]"
      ],
      "metadata": {
        "id": "NJzqzI3Lalu5"
      },
      "execution_count": 14,
      "outputs": []
    },
    {
      "cell_type": "code",
      "source": [
        "alaska.head()"
      ],
      "metadata": {
        "colab": {
          "base_uri": "https://localhost:8080/",
          "height": 206
        },
        "id": "4GABs5x6ayJw",
        "outputId": "f7b560b9-6418-47e0-adc4-4edf8e91553d"
      },
      "execution_count": 15,
      "outputs": [
        {
          "output_type": "execute_result",
          "data": {
            "text/plain": [
              "      statefips   state         gisjoin  lat_tract  long_tract  population  \\\n",
              "1176          2  Alaska  G0200130000100   55.36356  -161.99370        3338   \n",
              "1177          2  Alaska  G0200160000100   52.51656   -87.62968         975   \n",
              "1178          2  Alaska  G0200160000200   53.67216  -166.86780        4809   \n",
              "1179          2  Alaska  G0200200000101   61.26067  -148.82590        5514   \n",
              "1180          2  Alaska  G0200200000102   61.33286  -149.36830        5198   \n",
              "\n",
              "      adj_radiuspop_5  urbanindex   log_pop  \n",
              "1176         1.447378    0.369753  8.113127  \n",
              "1177         0.742474   -0.297768  6.882437  \n",
              "1178         1.447378    0.369753  8.478244  \n",
              "1179       376.531000    5.931001  8.615046  \n",
              "1180     14903.000000    9.609318  8.556029  "
            ],
            "text/html": [
              "\n",
              "  <div id=\"df-19f2ef47-0e9d-48d2-986f-84d172de4dbe\">\n",
              "    <div class=\"colab-df-container\">\n",
              "      <div>\n",
              "<style scoped>\n",
              "    .dataframe tbody tr th:only-of-type {\n",
              "        vertical-align: middle;\n",
              "    }\n",
              "\n",
              "    .dataframe tbody tr th {\n",
              "        vertical-align: top;\n",
              "    }\n",
              "\n",
              "    .dataframe thead th {\n",
              "        text-align: right;\n",
              "    }\n",
              "</style>\n",
              "<table border=\"1\" class=\"dataframe\">\n",
              "  <thead>\n",
              "    <tr style=\"text-align: right;\">\n",
              "      <th></th>\n",
              "      <th>statefips</th>\n",
              "      <th>state</th>\n",
              "      <th>gisjoin</th>\n",
              "      <th>lat_tract</th>\n",
              "      <th>long_tract</th>\n",
              "      <th>population</th>\n",
              "      <th>adj_radiuspop_5</th>\n",
              "      <th>urbanindex</th>\n",
              "      <th>log_pop</th>\n",
              "    </tr>\n",
              "  </thead>\n",
              "  <tbody>\n",
              "    <tr>\n",
              "      <th>1176</th>\n",
              "      <td>2</td>\n",
              "      <td>Alaska</td>\n",
              "      <td>G0200130000100</td>\n",
              "      <td>55.36356</td>\n",
              "      <td>-161.99370</td>\n",
              "      <td>3338</td>\n",
              "      <td>1.447378</td>\n",
              "      <td>0.369753</td>\n",
              "      <td>8.113127</td>\n",
              "    </tr>\n",
              "    <tr>\n",
              "      <th>1177</th>\n",
              "      <td>2</td>\n",
              "      <td>Alaska</td>\n",
              "      <td>G0200160000100</td>\n",
              "      <td>52.51656</td>\n",
              "      <td>-87.62968</td>\n",
              "      <td>975</td>\n",
              "      <td>0.742474</td>\n",
              "      <td>-0.297768</td>\n",
              "      <td>6.882437</td>\n",
              "    </tr>\n",
              "    <tr>\n",
              "      <th>1178</th>\n",
              "      <td>2</td>\n",
              "      <td>Alaska</td>\n",
              "      <td>G0200160000200</td>\n",
              "      <td>53.67216</td>\n",
              "      <td>-166.86780</td>\n",
              "      <td>4809</td>\n",
              "      <td>1.447378</td>\n",
              "      <td>0.369753</td>\n",
              "      <td>8.478244</td>\n",
              "    </tr>\n",
              "    <tr>\n",
              "      <th>1179</th>\n",
              "      <td>2</td>\n",
              "      <td>Alaska</td>\n",
              "      <td>G0200200000101</td>\n",
              "      <td>61.26067</td>\n",
              "      <td>-148.82590</td>\n",
              "      <td>5514</td>\n",
              "      <td>376.531000</td>\n",
              "      <td>5.931001</td>\n",
              "      <td>8.615046</td>\n",
              "    </tr>\n",
              "    <tr>\n",
              "      <th>1180</th>\n",
              "      <td>2</td>\n",
              "      <td>Alaska</td>\n",
              "      <td>G0200200000102</td>\n",
              "      <td>61.33286</td>\n",
              "      <td>-149.36830</td>\n",
              "      <td>5198</td>\n",
              "      <td>14903.000000</td>\n",
              "      <td>9.609318</td>\n",
              "      <td>8.556029</td>\n",
              "    </tr>\n",
              "  </tbody>\n",
              "</table>\n",
              "</div>\n",
              "      <button class=\"colab-df-convert\" onclick=\"convertToInteractive('df-19f2ef47-0e9d-48d2-986f-84d172de4dbe')\"\n",
              "              title=\"Convert this dataframe to an interactive table.\"\n",
              "              style=\"display:none;\">\n",
              "        \n",
              "  <svg xmlns=\"http://www.w3.org/2000/svg\" height=\"24px\"viewBox=\"0 0 24 24\"\n",
              "       width=\"24px\">\n",
              "    <path d=\"M0 0h24v24H0V0z\" fill=\"none\"/>\n",
              "    <path d=\"M18.56 5.44l.94 2.06.94-2.06 2.06-.94-2.06-.94-.94-2.06-.94 2.06-2.06.94zm-11 1L8.5 8.5l.94-2.06 2.06-.94-2.06-.94L8.5 2.5l-.94 2.06-2.06.94zm10 10l.94 2.06.94-2.06 2.06-.94-2.06-.94-.94-2.06-.94 2.06-2.06.94z\"/><path d=\"M17.41 7.96l-1.37-1.37c-.4-.4-.92-.59-1.43-.59-.52 0-1.04.2-1.43.59L10.3 9.45l-7.72 7.72c-.78.78-.78 2.05 0 2.83L4 21.41c.39.39.9.59 1.41.59.51 0 1.02-.2 1.41-.59l7.78-7.78 2.81-2.81c.8-.78.8-2.07 0-2.86zM5.41 20L4 18.59l7.72-7.72 1.47 1.35L5.41 20z\"/>\n",
              "  </svg>\n",
              "      </button>\n",
              "      \n",
              "  <style>\n",
              "    .colab-df-container {\n",
              "      display:flex;\n",
              "      flex-wrap:wrap;\n",
              "      gap: 12px;\n",
              "    }\n",
              "\n",
              "    .colab-df-convert {\n",
              "      background-color: #E8F0FE;\n",
              "      border: none;\n",
              "      border-radius: 50%;\n",
              "      cursor: pointer;\n",
              "      display: none;\n",
              "      fill: #1967D2;\n",
              "      height: 32px;\n",
              "      padding: 0 0 0 0;\n",
              "      width: 32px;\n",
              "    }\n",
              "\n",
              "    .colab-df-convert:hover {\n",
              "      background-color: #E2EBFA;\n",
              "      box-shadow: 0px 1px 2px rgba(60, 64, 67, 0.3), 0px 1px 3px 1px rgba(60, 64, 67, 0.15);\n",
              "      fill: #174EA6;\n",
              "    }\n",
              "\n",
              "    [theme=dark] .colab-df-convert {\n",
              "      background-color: #3B4455;\n",
              "      fill: #D2E3FC;\n",
              "    }\n",
              "\n",
              "    [theme=dark] .colab-df-convert:hover {\n",
              "      background-color: #434B5C;\n",
              "      box-shadow: 0px 1px 3px 1px rgba(0, 0, 0, 0.15);\n",
              "      filter: drop-shadow(0px 1px 2px rgba(0, 0, 0, 0.3));\n",
              "      fill: #FFFFFF;\n",
              "    }\n",
              "  </style>\n",
              "\n",
              "      <script>\n",
              "        const buttonEl =\n",
              "          document.querySelector('#df-19f2ef47-0e9d-48d2-986f-84d172de4dbe button.colab-df-convert');\n",
              "        buttonEl.style.display =\n",
              "          google.colab.kernel.accessAllowed ? 'block' : 'none';\n",
              "\n",
              "        async function convertToInteractive(key) {\n",
              "          const element = document.querySelector('#df-19f2ef47-0e9d-48d2-986f-84d172de4dbe');\n",
              "          const dataTable =\n",
              "            await google.colab.kernel.invokeFunction('convertToInteractive',\n",
              "                                                     [key], {});\n",
              "          if (!dataTable) return;\n",
              "\n",
              "          const docLinkHtml = 'Like what you see? Visit the ' +\n",
              "            '<a target=\"_blank\" href=https://colab.research.google.com/notebooks/data_table.ipynb>data table notebook</a>'\n",
              "            + ' to learn more about interactive tables.';\n",
              "          element.innerHTML = '';\n",
              "          dataTable['output_type'] = 'display_data';\n",
              "          await google.colab.output.renderOutput(dataTable, element);\n",
              "          const docLink = document.createElement('div');\n",
              "          docLink.innerHTML = docLinkHtml;\n",
              "          element.appendChild(docLink);\n",
              "        }\n",
              "      </script>\n",
              "    </div>\n",
              "  </div>\n",
              "  "
            ]
          },
          "metadata": {},
          "execution_count": 15
        }
      ]
    },
    {
      "cell_type": "code",
      "source": [
        "plt.hist(alaska[\"population\"])"
      ],
      "metadata": {
        "colab": {
          "base_uri": "https://localhost:8080/",
          "height": 334
        },
        "id": "zPZZKkdQa0xq",
        "outputId": "9f884ef3-cb1f-4926-faaa-de65e9787b54"
      },
      "execution_count": 20,
      "outputs": [
        {
          "output_type": "execute_result",
          "data": {
            "text/plain": [
              "(array([14., 24., 29., 26., 31., 25.,  6.,  2.,  5.,  3.]),\n",
              " array([   62.,  1246.,  2430.,  3614.,  4798.,  5982.,  7166.,  8350.,\n",
              "         9534., 10718., 11902.]),\n",
              " <a list of 10 Patch objects>)"
            ]
          },
          "metadata": {},
          "execution_count": 20
        },
        {
          "output_type": "display_data",
          "data": {
            "text/plain": [
              "<Figure size 432x288 with 1 Axes>"
            ],
            "image/png": "[encoded data removed]"
          },
          "metadata": {
            "needs_background": "light"
          }
        }
      ]
    },
    {
      "cell_type": "markdown",
      "source": [
        "Постройте ящики с усами для каждого из указанных штатов по переменной urbanindex. Выберите штат, в котором нет выбросов по данной переменной. Выберите один верный ответ."
      ],
      "metadata": {
        "id": "yF8imBt2cX71"
      }
    },
    {
      "cell_type": "code",
      "source": [
        "plt.boxplot(x=df[df[\"state\"] == \"Texas\"][\"urbanindex\"])"
      ],
      "metadata": {
        "colab": {
          "base_uri": "https://localhost:8080/",
          "height": 404
        },
        "id": "Z0lK919ia8x2",
        "outputId": "a324295c-17e9-4c87-8ce9-3cf7b0cc2c3f"
      },
      "execution_count": 21,
      "outputs": [
        {
          "output_type": "execute_result",
          "data": {
            "text/plain": [
              "{'whiskers': [<matplotlib.lines.Line2D at 0x7f48837b7290>,\n",
              "  <matplotlib.lines.Line2D at 0x7f488375f1d0>],\n",
              " 'caps': [<matplotlib.lines.Line2D at 0x7f488375f710>,\n",
              "  <matplotlib.lines.Line2D at 0x7f488375fc50>],\n",
              " 'boxes': [<matplotlib.lines.Line2D at 0x7f48837b7f90>],\n",
              " 'medians': [<matplotlib.lines.Line2D at 0x7f4883766210>],\n",
              " 'fliers': [<matplotlib.lines.Line2D at 0x7f4883766750>],\n",
              " 'means': []}"
            ]
          },
          "metadata": {},
          "execution_count": 21
        },
        {
          "output_type": "display_data",
          "data": {
            "text/plain": [
              "<Figure size 432x288 with 1 Axes>"
            ],
            "image/png": "[encoded data removed]"
          },
          "metadata": {
            "needs_background": "light"
          }
        }
      ]
    },
    {
      "cell_type": "code",
      "source": [
        "plt.boxplot(x=df[df[\"state\"] == \"California\"][\"urbanindex\"])"
      ],
      "metadata": {
        "colab": {
          "base_uri": "https://localhost:8080/",
          "height": 404
        },
        "id": "Nde9InC8cppt",
        "outputId": "bff2e2f1-c1c1-43af-fc15-e224cb112101"
      },
      "execution_count": 22,
      "outputs": [
        {
          "output_type": "execute_result",
          "data": {
            "text/plain": [
              "{'whiskers': [<matplotlib.lines.Line2D at 0x7f4883733cd0>,\n",
              "  <matplotlib.lines.Line2D at 0x7f4883737250>],\n",
              " 'caps': [<matplotlib.lines.Line2D at 0x7f4883737790>,\n",
              "  <matplotlib.lines.Line2D at 0x7f4883737cd0>],\n",
              " 'boxes': [<matplotlib.lines.Line2D at 0x7f4883733750>],\n",
              " 'medians': [<matplotlib.lines.Line2D at 0x7f488373e290>],\n",
              " 'fliers': [<matplotlib.lines.Line2D at 0x7f488373e7d0>],\n",
              " 'means': []}"
            ]
          },
          "metadata": {},
          "execution_count": 22
        },
        {
          "output_type": "display_data",
          "data": {
            "text/plain": [
              "<Figure size 432x288 with 1 Axes>"
            ],
            "image/png": "[encoded data removed]"
          },
          "metadata": {
            "needs_background": "light"
          }
        }
      ]
    },
    {
      "cell_type": "code",
      "source": [
        "plt.boxplot(x=df[df[\"state\"] == \"Nebraska\"][\"urbanindex\"])"
      ],
      "metadata": {
        "colab": {
          "base_uri": "https://localhost:8080/",
          "height": 404
        },
        "id": "g9QbAWs0css0",
        "outputId": "9e7e22dc-df07-43ea-a629-86fa36837194"
      },
      "execution_count": 23,
      "outputs": [
        {
          "output_type": "execute_result",
          "data": {
            "text/plain": [
              "{'whiskers': [<matplotlib.lines.Line2D at 0x7f48836a4490>,\n",
              "  <matplotlib.lines.Line2D at 0x7f48836a49d0>],\n",
              " 'caps': [<matplotlib.lines.Line2D at 0x7f48836a4f10>,\n",
              "  <matplotlib.lines.Line2D at 0x7f48836ab490>],\n",
              " 'boxes': [<matplotlib.lines.Line2D at 0x7f488369bed0>],\n",
              " 'medians': [<matplotlib.lines.Line2D at 0x7f48836aba10>],\n",
              " 'fliers': [<matplotlib.lines.Line2D at 0x7f48836abf50>],\n",
              " 'means': []}"
            ]
          },
          "metadata": {},
          "execution_count": 23
        },
        {
          "output_type": "display_data",
          "data": {
            "text/plain": [
              "<Figure size 432x288 with 1 Axes>"
            ],
            "image/png": "[encoded data removed]"
          },
          "metadata": {
            "needs_background": "light"
          }
        }
      ]
    },
    {
      "cell_type": "code",
      "source": [
        "plt.boxplot(x=df[df[\"state\"] == \"Arizona\"][\"urbanindex\"])"
      ],
      "metadata": {
        "colab": {
          "base_uri": "https://localhost:8080/",
          "height": 404
        },
        "id": "NmMtMwmucwqU",
        "outputId": "0a7575d0-399d-4e09-da76-0041fe5520f9"
      },
      "execution_count": 24,
      "outputs": [
        {
          "output_type": "execute_result",
          "data": {
            "text/plain": [
              "{'whiskers': [<matplotlib.lines.Line2D at 0x7f488368f410>,\n",
              "  <matplotlib.lines.Line2D at 0x7f488368f950>],\n",
              " 'caps': [<matplotlib.lines.Line2D at 0x7f488368fe90>,\n",
              "  <matplotlib.lines.Line2D at 0x7f4883617410>],\n",
              " 'boxes': [<matplotlib.lines.Line2D at 0x7f4883687e50>],\n",
              " 'medians': [<matplotlib.lines.Line2D at 0x7f4883617990>],\n",
              " 'fliers': [<matplotlib.lines.Line2D at 0x7f4883617ed0>],\n",
              " 'means': []}"
            ]
          },
          "metadata": {},
          "execution_count": 24
        },
        {
          "output_type": "display_data",
          "data": {
            "text/plain": [
              "<Figure size 432x288 with 1 Axes>"
            ],
            "image/png": "[encoded data removed]"
          },
          "metadata": {
            "needs_background": "light"
          }
        }
      ]
    },
    {
      "cell_type": "markdown",
      "source": [
        "Постройте тепловую карту по переменным population, adj_radiuspop_5 и urbanindex. Какой вывод можно сделать на основе полученных данных? Выберите один верный ответ."
      ],
      "metadata": {
        "id": "YAcjCNC6evzE"
      }
    },
    {
      "cell_type": "code",
      "source": [
        "df.corr()[[\"adj_radiuspop_5\", \"population\", \"urbanindex\"]]"
      ],
      "metadata": {
        "colab": {
          "base_uri": "https://localhost:8080/",
          "height": 269
        },
        "id": "yBjkOzkqczjv",
        "outputId": "51044aa0-3228-49a5-ddab-e723cf7a8d14"
      },
      "execution_count": 31,
      "outputs": [
        {
          "output_type": "execute_result",
          "data": {
            "text/plain": [
              "                 adj_radiuspop_5  population  urbanindex\n",
              "statefips              -0.026962   -0.026953   -0.078511\n",
              "lat_tract               0.060459   -0.094403   -0.067592\n",
              "long_tract              0.077365   -0.083581    0.005284\n",
              "population             -0.036867    1.000000    0.045142\n",
              "adj_radiuspop_5         1.000000   -0.036867    0.590165\n",
              "urbanindex              0.590165    0.045142    1.000000\n",
              "log_pop                -0.042525    0.865778    0.047336"
            ],
            "text/html": [
              "\n",
              "  <div id=\"df-f57a03a4-5fc0-41d9-a7fe-deb6e9d9a810\">\n",
              "    <div class=\"colab-df-container\">\n",
              "      <div>\n",
              "<style scoped>\n",
              "    .dataframe tbody tr th:only-of-type {\n",
              "        vertical-align: middle;\n",
              "    }\n",
              "\n",
              "    .dataframe tbody tr th {\n",
              "        vertical-align: top;\n",
              "    }\n",
              "\n",
              "    .dataframe thead th {\n",
              "        text-align: right;\n",
              "    }\n",
              "</style>\n",
              "<table border=\"1\" class=\"dataframe\">\n",
              "  <thead>\n",
              "    <tr style=\"text-align: right;\">\n",
              "      <th></th>\n",
              "      <th>adj_radiuspop_5</th>\n",
              "      <th>population</th>\n",
              "      <th>urbanindex</th>\n",
              "    </tr>\n",
              "  </thead>\n",
              "  <tbody>\n",
              "    <tr>\n",
              "      <th>statefips</th>\n",
              "      <td>-0.026962</td>\n",
              "      <td>-0.026953</td>\n",
              "      <td>-0.078511</td>\n",
              "    </tr>\n",
              "    <tr>\n",
              "      <th>lat_tract</th>\n",
              "      <td>0.060459</td>\n",
              "      <td>-0.094403</td>\n",
              "      <td>-0.067592</td>\n",
              "    </tr>\n",
              "    <tr>\n",
              "      <th>long_tract</th>\n",
              "      <td>0.077365</td>\n",
              "      <td>-0.083581</td>\n",
              "      <td>0.005284</td>\n",
              "    </tr>\n",
              "    <tr>\n",
              "      <th>population</th>\n",
              "      <td>-0.036867</td>\n",
              "      <td>1.000000</td>\n",
              "      <td>0.045142</td>\n",
              "    </tr>\n",
              "    <tr>\n",
              "      <th>adj_radiuspop_5</th>\n",
              "      <td>1.000000</td>\n",
              "      <td>-0.036867</td>\n",
              "      <td>0.590165</td>\n",
              "    </tr>\n",
              "    <tr>\n",
              "      <th>urbanindex</th>\n",
              "      <td>0.590165</td>\n",
              "      <td>0.045142</td>\n",
              "      <td>1.000000</td>\n",
              "    </tr>\n",
              "    <tr>\n",
              "      <th>log_pop</th>\n",
              "      <td>-0.042525</td>\n",
              "      <td>0.865778</td>\n",
              "      <td>0.047336</td>\n",
              "    </tr>\n",
              "  </tbody>\n",
              "</table>\n",
              "</div>\n",
              "      <button class=\"colab-df-convert\" onclick=\"convertToInteractive('df-f57a03a4-5fc0-41d9-a7fe-deb6e9d9a810')\"\n",
              "              title=\"Convert this dataframe to an interactive table.\"\n",
              "              style=\"display:none;\">\n",
              "        \n",
              "  <svg xmlns=\"http://www.w3.org/2000/svg\" height=\"24px\"viewBox=\"0 0 24 24\"\n",
              "       width=\"24px\">\n",
              "    <path d=\"M0 0h24v24H0V0z\" fill=\"none\"/>\n",
              "    <path d=\"M18.56 5.44l.94 2.06.94-2.06 2.06-.94-2.06-.94-.94-2.06-.94 2.06-2.06.94zm-11 1L8.5 8.5l.94-2.06 2.06-.94-2.06-.94L8.5 2.5l-.94 2.06-2.06.94zm10 10l.94 2.06.94-2.06 2.06-.94-2.06-.94-.94-2.06-.94 2.06-2.06.94z\"/><path d=\"M17.41 7.96l-1.37-1.37c-.4-.4-.92-.59-1.43-.59-.52 0-1.04.2-1.43.59L10.3 9.45l-7.72 7.72c-.78.78-.78 2.05 0 2.83L4 21.41c.39.39.9.59 1.41.59.51 0 1.02-.2 1.41-.59l7.78-7.78 2.81-2.81c.8-.78.8-2.07 0-2.86zM5.41 20L4 18.59l7.72-7.72 1.47 1.35L5.41 20z\"/>\n",
              "  </svg>\n",
              "      </button>\n",
              "      \n",
              "  <style>\n",
              "    .colab-df-container {\n",
              "      display:flex;\n",
              "      flex-wrap:wrap;\n",
              "      gap: 12px;\n",
              "    }\n",
              "\n",
              "    .colab-df-convert {\n",
              "      background-color: #E8F0FE;\n",
              "      border: none;\n",
              "      border-radius: 50%;\n",
              "      cursor: pointer;\n",
              "      display: none;\n",
              "      fill: #1967D2;\n",
              "      height: 32px;\n",
              "      padding: 0 0 0 0;\n",
              "      width: 32px;\n",
              "    }\n",
              "\n",
              "    .colab-df-convert:hover {\n",
              "      background-color: #E2EBFA;\n",
              "      box-shadow: 0px 1px 2px rgba(60, 64, 67, 0.3), 0px 1px 3px 1px rgba(60, 64, 67, 0.15);\n",
              "      fill: #174EA6;\n",
              "    }\n",
              "\n",
              "    [theme=dark] .colab-df-convert {\n",
              "      background-color: #3B4455;\n",
              "      fill: #D2E3FC;\n",
              "    }\n",
              "\n",
              "    [theme=dark] .colab-df-convert:hover {\n",
              "      background-color: #434B5C;\n",
              "      box-shadow: 0px 1px 3px 1px rgba(0, 0, 0, 0.15);\n",
              "      filter: drop-shadow(0px 1px 2px rgba(0, 0, 0, 0.3));\n",
              "      fill: #FFFFFF;\n",
              "    }\n",
              "  </style>\n",
              "\n",
              "      <script>\n",
              "        const buttonEl =\n",
              "          document.querySelector('#df-f57a03a4-5fc0-41d9-a7fe-deb6e9d9a810 button.colab-df-convert');\n",
              "        buttonEl.style.display =\n",
              "          google.colab.kernel.accessAllowed ? 'block' : 'none';\n",
              "\n",
              "        async function convertToInteractive(key) {\n",
              "          const element = document.querySelector('#df-f57a03a4-5fc0-41d9-a7fe-deb6e9d9a810');\n",
              "          const dataTable =\n",
              "            await google.colab.kernel.invokeFunction('convertToInteractive',\n",
              "                                                     [key], {});\n",
              "          if (!dataTable) return;\n",
              "\n",
              "          const docLinkHtml = 'Like what you see? Visit the ' +\n",
              "            '<a target=\"_blank\" href=https://colab.research.google.com/notebooks/data_table.ipynb>data table notebook</a>'\n",
              "            + ' to learn more about interactive tables.';\n",
              "          element.innerHTML = '';\n",
              "          dataTable['output_type'] = 'display_data';\n",
              "          await google.colab.output.renderOutput(dataTable, element);\n",
              "          const docLink = document.createElement('div');\n",
              "          docLink.innerHTML = docLinkHtml;\n",
              "          element.appendChild(docLink);\n",
              "        }\n",
              "      </script>\n",
              "    </div>\n",
              "  </div>\n",
              "  "
            ]
          },
          "metadata": {},
          "execution_count": 31
        }
      ]
    },
    {
      "cell_type": "markdown",
      "source": [
        "Посмотрите на штаты Аляска (Alaska), Оклахома (Oklahoma), Северная Дакота (North Dakota) и Монтана (Montana). Сколько из указанных штатов не содержат выбросы по переменной population? Попробуйте построить ящики с усами для каждого штата и ответить на вопрос. Введите ответ в виде целого числа."
      ],
      "metadata": {
        "id": "666LT8VctU0u"
      }
    },
    {
      "cell_type": "code",
      "source": [
        "plt.boxplot(df[df[\"state\"] == \"Alaska\"][\"population\"])"
      ],
      "metadata": {
        "colab": {
          "base_uri": "https://localhost:8080/",
          "height": 404
        },
        "id": "4UJ9nKGoex80",
        "outputId": "ae4c7097-27ce-4cc7-9075-34ca0b63d406"
      },
      "execution_count": 35,
      "outputs": [
        {
          "output_type": "execute_result",
          "data": {
            "text/plain": [
              "{'whiskers': [<matplotlib.lines.Line2D at 0x7f48816e5490>,\n",
              "  <matplotlib.lines.Line2D at 0x7f48816e5910>],\n",
              " 'caps': [<matplotlib.lines.Line2D at 0x7f48816fdbd0>,\n",
              "  <matplotlib.lines.Line2D at 0x7f48816fd5d0>],\n",
              " 'boxes': [<matplotlib.lines.Line2D at 0x7f48816ed510>],\n",
              " 'medians': [<matplotlib.lines.Line2D at 0x7f48816fde90>],\n",
              " 'fliers': [<matplotlib.lines.Line2D at 0x7f48816edfd0>],\n",
              " 'means': []}"
            ]
          },
          "metadata": {},
          "execution_count": 35
        },
        {
          "output_type": "display_data",
          "data": {
            "text/plain": [
              "<Figure size 432x288 with 1 Axes>"
            ],
            "image/png": "[encoded data removed]"
          },
          "metadata": {
            "needs_background": "light"
          }
        }
      ]
    },
    {
      "cell_type": "code",
      "source": [
        "plt.boxplot(df[df[\"state\"] == \"Oklahoma\"][\"population\"])"
      ],
      "metadata": {
        "colab": {
          "base_uri": "https://localhost:8080/",
          "height": 404
        },
        "id": "RWHrJT2suAs0",
        "outputId": "3948d20a-1e69-4c4c-ebb3-138e85862e78"
      },
      "execution_count": 36,
      "outputs": [
        {
          "output_type": "execute_result",
          "data": {
            "text/plain": [
              "{'whiskers': [<matplotlib.lines.Line2D at 0x7f488162c090>,\n",
              "  <matplotlib.lines.Line2D at 0x7f488162c5d0>],\n",
              " 'caps': [<matplotlib.lines.Line2D at 0x7f488162cb10>,\n",
              "  <matplotlib.lines.Line2D at 0x7f4881632090>],\n",
              " 'boxes': [<matplotlib.lines.Line2D at 0x7f4881625ad0>],\n",
              " 'medians': [<matplotlib.lines.Line2D at 0x7f4881632610>],\n",
              " 'fliers': [<matplotlib.lines.Line2D at 0x7f4881632b50>],\n",
              " 'means': []}"
            ]
          },
          "metadata": {},
          "execution_count": 36
        },
        {
          "output_type": "display_data",
          "data": {
            "text/plain": [
              "<Figure size 432x288 with 1 Axes>"
            ],
            "image/png": "[encoded data removed]"
          },
          "metadata": {
            "needs_background": "light"
          }
        }
      ]
    },
    {
      "cell_type": "code",
      "source": [
        "plt.boxplot(df[df[\"state\"] == \"North Dakota\"][\"population\"])"
      ],
      "metadata": {
        "colab": {
          "base_uri": "https://localhost:8080/",
          "height": 404
        },
        "id": "cl1Biy4ruYXu",
        "outputId": "b16ec84c-43d1-4d28-dd89-4c0a3edf7f8f"
      },
      "execution_count": 37,
      "outputs": [
        {
          "output_type": "execute_result",
          "data": {
            "text/plain": [
              "{'whiskers': [<matplotlib.lines.Line2D at 0x7f488161b890>,\n",
              "  <matplotlib.lines.Line2D at 0x7f488161bdd0>],\n",
              " 'caps': [<matplotlib.lines.Line2D at 0x7f488159f350>,\n",
              "  <matplotlib.lines.Line2D at 0x7f488159f890>],\n",
              " 'boxes': [<matplotlib.lines.Line2D at 0x7f488161b310>],\n",
              " 'medians': [<matplotlib.lines.Line2D at 0x7f488159fe10>],\n",
              " 'fliers': [<matplotlib.lines.Line2D at 0x7f48815a9390>],\n",
              " 'means': []}"
            ]
          },
          "metadata": {},
          "execution_count": 37
        },
        {
          "output_type": "display_data",
          "data": {
            "text/plain": [
              "<Figure size 432x288 with 1 Axes>"
            ],
            "image/png": "[encoded data removed]"
          },
          "metadata": {
            "needs_background": "light"
          }
        }
      ]
    },
    {
      "cell_type": "code",
      "source": [
        "plt.boxplot(df[df[\"state\"] == \"Montana\"][\"population\"])"
      ],
      "metadata": {
        "colab": {
          "base_uri": "https://localhost:8080/",
          "height": 404
        },
        "id": "w4HEJXQyuZmm",
        "outputId": "7afe7e1b-4cf4-4e6f-d674-0b1ee120b7c0"
      },
      "execution_count": 38,
      "outputs": [
        {
          "output_type": "execute_result",
          "data": {
            "text/plain": [
              "{'whiskers': [<matplotlib.lines.Line2D at 0x7f4881593710>,\n",
              "  <matplotlib.lines.Line2D at 0x7f4881593c50>],\n",
              " 'caps': [<matplotlib.lines.Line2D at 0x7f488159b1d0>,\n",
              "  <matplotlib.lines.Line2D at 0x7f488159b710>],\n",
              " 'boxes': [<matplotlib.lines.Line2D at 0x7f4881593190>],\n",
              " 'medians': [<matplotlib.lines.Line2D at 0x7f488159bc90>],\n",
              " 'fliers': [<matplotlib.lines.Line2D at 0x7f4881523210>],\n",
              " 'means': []}"
            ]
          },
          "metadata": {},
          "execution_count": 38
        },
        {
          "output_type": "display_data",
          "data": {
            "text/plain": [
              "<Figure size 432x288 with 1 Axes>"
            ],
            "image/png": "[encoded data removed]"
          },
          "metadata": {
            "needs_background": "light"
          }
        }
      ]
    },
    {
      "cell_type": "markdown",
      "source": [
        "Постройте гистограмму для переменной urbanindex в штате Оклахома. Укажите, верно ли следующее утверждение: в штате Оклахома (Oklahoma) переменная urbanindex распределена нормально."
      ],
      "metadata": {
        "id": "K9_AOhPwvT_0"
      }
    },
    {
      "cell_type": "code",
      "source": [
        "df[df[\"state\"] == \"Oklahoma\"][\"urbanindex\"].hist()"
      ],
      "metadata": {
        "colab": {
          "base_uri": "https://localhost:8080/",
          "height": 282
        },
        "id": "DlGp8STpue8C",
        "outputId": "e57777f0-14c7-4ecf-f852-557148344d86"
      },
      "execution_count": 39,
      "outputs": [
        {
          "output_type": "execute_result",
          "data": {
            "text/plain": [
              "<matplotlib.axes._subplots.AxesSubplot at 0x7f4881503790>"
            ]
          },
          "metadata": {},
          "execution_count": 39
        },
        {
          "output_type": "display_data",
          "data": {
            "text/plain": [
              "<Figure size 432x288 with 1 Axes>"
            ],
            "image/png": "[encoded data removed]"
          },
          "metadata": {
            "needs_background": "light"
          }
        }
      ]
    },
    {
      "cell_type": "markdown",
      "source": [
        "Укажите, верно ли следующее утверждение: при построении ящика с усами для Канзаса (Kansas) и Кентукки (Kentucky) по переменной urbanindex мы увидим одинаковое количество выбросов."
      ],
      "metadata": {
        "id": "qob1x-BMwPLq"
      }
    },
    {
      "cell_type": "code",
      "source": [
        "plt.boxplot(df[df[\"state\"] == \"Kansas\"][\"urbanindex\"])"
      ],
      "metadata": {
        "colab": {
          "base_uri": "https://localhost:8080/",
          "height": 404
        },
        "id": "cvj6Sm71vk-3",
        "outputId": "5a43d9e8-f30f-4562-dede-619575a7022d"
      },
      "execution_count": 40,
      "outputs": [
        {
          "output_type": "execute_result",
          "data": {
            "text/plain": [
              "{'whiskers': [<matplotlib.lines.Line2D at 0x7f48815642d0>,\n",
              "  <matplotlib.lines.Line2D at 0x7f488172b290>],\n",
              " 'caps': [<matplotlib.lines.Line2D at 0x7f48816ebb90>,\n",
              "  <matplotlib.lines.Line2D at 0x7f488172e190>],\n",
              " 'boxes': [<matplotlib.lines.Line2D at 0x7f48837c6150>],\n",
              " 'medians': [<matplotlib.lines.Line2D at 0x7f48815dbb50>],\n",
              " 'fliers': [<matplotlib.lines.Line2D at 0x7f48815dbf50>],\n",
              " 'means': []}"
            ]
          },
          "metadata": {},
          "execution_count": 40
        },
        {
          "output_type": "display_data",
          "data": {
            "text/plain": [
              "<Figure size 432x288 with 1 Axes>"
            ],
            "image/png": "[encoded data removed]"
          },
          "metadata": {
            "needs_background": "light"
          }
        }
      ]
    },
    {
      "cell_type": "code",
      "source": [
        "plt.boxplot(df[df[\"state\"] == \"Kentucky\"][\"urbanindex\"])"
      ],
      "metadata": {
        "colab": {
          "base_uri": "https://localhost:8080/",
          "height": 404
        },
        "id": "-3aeuKwOwZ3N",
        "outputId": "83eb3adf-21da-461e-8d26-b294812a8be2"
      },
      "execution_count": 41,
      "outputs": [
        {
          "output_type": "execute_result",
          "data": {
            "text/plain": [
              "{'whiskers': [<matplotlib.lines.Line2D at 0x7f48814e4dd0>,\n",
              "  <matplotlib.lines.Line2D at 0x7f48814e4210>],\n",
              " 'caps': [<matplotlib.lines.Line2D at 0x7f4881610d50>,\n",
              "  <matplotlib.lines.Line2D at 0x7f488166a410>],\n",
              " 'boxes': [<matplotlib.lines.Line2D at 0x7f4881676050>],\n",
              " 'medians': [<matplotlib.lines.Line2D at 0x7f488166a950>],\n",
              " 'fliers': [<matplotlib.lines.Line2D at 0x7f48835f3610>],\n",
              " 'means': []}"
            ]
          },
          "metadata": {},
          "execution_count": 41
        },
        {
          "output_type": "display_data",
          "data": {
            "text/plain": [
              "<Figure size 432x288 with 1 Axes>"
            ],
            "image/png": "[encoded data removed]"
          },
          "metadata": {
            "needs_background": "light"
          }
        }
      ]
    },
    {
      "cell_type": "markdown",
      "source": [
        "Постройте тепловую карту и определите, в каком штате сильнее всего коррелируют показатели population и adj_radiuspop_5? В ответ запишите номер штата (согласно столбцу statefips)."
      ],
      "metadata": {
        "id": "Th17bVAIworj"
      }
    },
    {
      "cell_type": "code",
      "source": [
        "res = []\n",
        "for st in list(pd.unique(df[\"state\"])):\n",
        "  res.append((st, df[df[\"state\"] == st][\"population\"].corr(df[df[\"state\"] == st][\"adj_radiuspop_5\"])))"
      ],
      "metadata": {
        "id": "psBq7axaweGl"
      },
      "execution_count": 46,
      "outputs": []
    },
    {
      "cell_type": "code",
      "source": [
        "sorted(res, key=lambda x: abs(x[1]))"
      ],
      "metadata": {
        "colab": {
          "base_uri": "https://localhost:8080/"
        },
        "id": "bpHzmmm4xif8",
        "outputId": "41b14675-805b-483b-87a5-f2f0782f51be"
      },
      "execution_count": 49,
      "outputs": [
        {
          "output_type": "execute_result",
          "data": {
            "text/plain": [
              "[('Texas', 0.0021678988547292923),\n",
              " ('Georgia', -0.0053437399512265725),\n",
              " ('Wyoming', 0.007016301026979097),\n",
              " ('Arizona', -0.016302737647245335),\n",
              " ('New York', 0.016597697768100262),\n",
              " ('Kansas', 0.017670656690032035),\n",
              " ('Florida', 0.01889565532546232),\n",
              " ('New Mexico', 0.02576719114669199),\n",
              " ('Rhode Island', 0.02726838820206984),\n",
              " ('Kentucky', -0.033833233898754186),\n",
              " ('Nevada', -0.034373606112394116),\n",
              " ('New Jersey', -0.038383317060716966),\n",
              " ('Colorado', 0.039581324876192724),\n",
              " ('Pennsylvania', -0.04183790212793914),\n",
              " ('North Carolina', -0.043747194708352546),\n",
              " ('Oregon', 0.048538760412823845),\n",
              " ('South Carolina', -0.05016992721426628),\n",
              " ('Utah', -0.05471177442677595),\n",
              " ('New Hampshire', 0.058672002094439776),\n",
              " ('District of Columbia', 0.07296095217210147),\n",
              " ('Minnesota', -0.08008161634033541),\n",
              " ('Tennessee', -0.08401607639336438),\n",
              " ('Virginia', -0.08607141156466967),\n",
              " ('Washington', 0.08829177506871169),\n",
              " ('Iowa', 0.08878037228279564),\n",
              " ('Maine', 0.09096857978442702),\n",
              " ('Nebraska', 0.09574333893893584),\n",
              " ('Arkansas', 0.1000462192789386),\n",
              " ('Indiana', -0.11835564227208244),\n",
              " ('California', -0.11922223692145538),\n",
              " ('Alabama', -0.12885820490196156),\n",
              " ('Connecticut', -0.13752330812275107),\n",
              " ('Illinois', -0.14321209651323175),\n",
              " ('Massachusetts', -0.14705080366464038),\n",
              " ('Mississippi', -0.1531922787433782),\n",
              " ('Missouri', -0.17416408258885452),\n",
              " ('Oklahoma', -0.17724159191321504),\n",
              " ('West Virginia', -0.19333824786172482),\n",
              " ('Michigan', -0.20629263100178274),\n",
              " ('Alaska', 0.2156007952407623),\n",
              " ('Puerto Rico', -0.22470603436814415),\n",
              " ('Idaho', 0.22512766044647353),\n",
              " ('Delaware', -0.22518787480146144),\n",
              " ('North Dakota', 0.23868661334755942),\n",
              " ('Maryland', -0.23931933194560776),\n",
              " ('Vermont', 0.24304941421705917),\n",
              " ('Hawaii', -0.2453295448849392),\n",
              " ('South Dakota', 0.24856844110600887),\n",
              " ('Montana', 0.27231253809985295),\n",
              " ('Ohio', -0.2899650572939483),\n",
              " ('Wisconsin', -0.3013673280024658),\n",
              " ('Louisiana', -0.38216234663845183)]"
            ]
          },
          "metadata": {},
          "execution_count": 49
        }
      ]
    },
    {
      "cell_type": "code",
      "source": [
        "df[df[\"state\"] == \"Louisiana\"]"
      ],
      "metadata": {
        "colab": {
          "base_uri": "https://localhost:8080/",
          "height": 424
        },
        "id": "qSTYmUI50Awa",
        "outputId": "a0e8348e-7364-4eab-825d-2146d429f8ac"
      },
      "execution_count": 50,
      "outputs": [
        {
          "output_type": "execute_result",
          "data": {
            "text/plain": [
              "       statefips      state         gisjoin  lat_tract  long_tract  \\\n",
              "28065         22  Louisiana  G2200010960100   30.41013   -92.21719   \n",
              "28066         22  Louisiana  G2200010960200   30.41592   -92.39587   \n",
              "28067         22  Louisiana  G2200010960300   30.36127   -92.57656   \n",
              "28068         22  Louisiana  G2200010960400   30.28404   -92.44212   \n",
              "28069         22  Louisiana  G2200010960500   30.31836   -92.23429   \n",
              "...          ...        ...             ...        ...         ...   \n",
              "29187         22  Louisiana  G2201250951800   30.80330   -91.32789   \n",
              "29188         22  Louisiana  G2201270960100   31.99337   -92.49858   \n",
              "29189         22  Louisiana  G2201270960200   31.89214   -92.78468   \n",
              "29190         22  Louisiana  G2201270960300   31.92766   -92.64854   \n",
              "29191         22  Louisiana  G2201270960400   31.91209   -92.62838   \n",
              "\n",
              "       population  adj_radiuspop_5  urbanindex   log_pop  \n",
              "28065        6187        1818.9280    7.506002  8.730206  \n",
              "28066        5627        2701.9090    7.901714  8.635332  \n",
              "28067        3494         808.7869    6.695536  8.158802  \n",
              "28068        7116        2506.2400    7.826539  8.870101  \n",
              "28069        7126        2705.3850    7.902999  8.871505  \n",
              "...           ...              ...         ...       ...  \n",
              "29187        7857        1260.5220    7.139281  8.969160  \n",
              "29188        3134         838.8037    6.731977  8.050065  \n",
              "29189        6561        1075.1570    6.980222  8.788898  \n",
              "29190        2660        5277.0000    8.571113  7.886081  \n",
              "29191        2276        7937.0000    8.979291  7.730175  \n",
              "\n",
              "[1127 rows x 9 columns]"
            ],
            "text/html": [
              "\n",
              "  <div id=\"df-86656877-962e-4ac6-b3e6-709b0029d32c\">\n",
              "    <div class=\"colab-df-container\">\n",
              "      <div>\n",
              "<style scoped>\n",
              "    .dataframe tbody tr th:only-of-type {\n",
              "        vertical-align: middle;\n",
              "    }\n",
              "\n",
              "    .dataframe tbody tr th {\n",
              "        vertical-align: top;\n",
              "    }\n",
              "\n",
              "    .dataframe thead th {\n",
              "        text-align: right;\n",
              "    }\n",
              "</style>\n",
              "<table border=\"1\" class=\"dataframe\">\n",
              "  <thead>\n",
              "    <tr style=\"text-align: right;\">\n",
              "      <th></th>\n",
              "      <th>statefips</th>\n",
              "      <th>state</th>\n",
              "      <th>gisjoin</th>\n",
              "      <th>lat_tract</th>\n",
              "      <th>long_tract</th>\n",
              "      <th>population</th>\n",
              "      <th>adj_radiuspop_5</th>\n",
              "      <th>urbanindex</th>\n",
              "      <th>log_pop</th>\n",
              "    </tr>\n",
              "  </thead>\n",
              "  <tbody>\n",
              "    <tr>\n",
              "      <th>28065</th>\n",
              "      <td>22</td>\n",
              "      <td>Louisiana</td>\n",
              "      <td>G2200010960100</td>\n",
              "      <td>30.41013</td>\n",
              "      <td>-92.21719</td>\n",
              "      <td>6187</td>\n",
              "      <td>1818.9280</td>\n",
              "      <td>7.506002</td>\n",
              "      <td>8.730206</td>\n",
              "    </tr>\n",
              "    <tr>\n",
              "      <th>28066</th>\n",
              "      <td>22</td>\n",
              "      <td>Louisiana</td>\n",
              "      <td>G2200010960200</td>\n",
              "      <td>30.41592</td>\n",
              "      <td>-92.39587</td>\n",
              "      <td>5627</td>\n",
              "      <td>2701.9090</td>\n",
              "      <td>7.901714</td>\n",
              "      <td>8.635332</td>\n",
              "    </tr>\n",
              "    <tr>\n",
              "      <th>28067</th>\n",
              "      <td>22</td>\n",
              "      <td>Louisiana</td>\n",
              "      <td>G2200010960300</td>\n",
              "      <td>30.36127</td>\n",
              "      <td>-92.57656</td>\n",
              "      <td>3494</td>\n",
              "      <td>808.7869</td>\n",
              "      <td>6.695536</td>\n",
              "      <td>8.158802</td>\n",
              "    </tr>\n",
              "    <tr>\n",
              "      <th>28068</th>\n",
              "      <td>22</td>\n",
              "      <td>Louisiana</td>\n",
              "      <td>G2200010960400</td>\n",
              "      <td>30.28404</td>\n",
              "      <td>-92.44212</td>\n",
              "      <td>7116</td>\n",
              "      <td>2506.2400</td>\n",
              "      <td>7.826539</td>\n",
              "      <td>8.870101</td>\n",
              "    </tr>\n",
              "    <tr>\n",
              "      <th>28069</th>\n",
              "      <td>22</td>\n",
              "      <td>Louisiana</td>\n",
              "      <td>G2200010960500</td>\n",
              "      <td>30.31836</td>\n",
              "      <td>-92.23429</td>\n",
              "      <td>7126</td>\n",
              "      <td>2705.3850</td>\n",
              "      <td>7.902999</td>\n",
              "      <td>8.871505</td>\n",
              "    </tr>\n",
              "    <tr>\n",
              "      <th>...</th>\n",
              "      <td>...</td>\n",
              "      <td>...</td>\n",
              "      <td>...</td>\n",
              "      <td>...</td>\n",
              "      <td>...</td>\n",
              "      <td>...</td>\n",
              "      <td>...</td>\n",
              "      <td>...</td>\n",
              "      <td>...</td>\n",
              "    </tr>\n",
              "    <tr>\n",
              "      <th>29187</th>\n",
              "      <td>22</td>\n",
              "      <td>Louisiana</td>\n",
              "      <td>G2201250951800</td>\n",
              "      <td>30.80330</td>\n",
              "      <td>-91.32789</td>\n",
              "      <td>7857</td>\n",
              "      <td>1260.5220</td>\n",
              "      <td>7.139281</td>\n",
              "      <td>8.969160</td>\n",
              "    </tr>\n",
              "    <tr>\n",
              "      <th>29188</th>\n",
              "      <td>22</td>\n",
              "      <td>Louisiana</td>\n",
              "      <td>G2201270960100</td>\n",
              "      <td>31.99337</td>\n",
              "      <td>-92.49858</td>\n",
              "      <td>3134</td>\n",
              "      <td>838.8037</td>\n",
              "      <td>6.731977</td>\n",
              "      <td>8.050065</td>\n",
              "    </tr>\n",
              "    <tr>\n",
              "      <th>29189</th>\n",
              "      <td>22</td>\n",
              "      <td>Louisiana</td>\n",
              "      <td>G2201270960200</td>\n",
              "      <td>31.89214</td>\n",
              "      <td>-92.78468</td>\n",
              "      <td>6561</td>\n",
              "      <td>1075.1570</td>\n",
              "      <td>6.980222</td>\n",
              "      <td>8.788898</td>\n",
              "    </tr>\n",
              "    <tr>\n",
              "      <th>29190</th>\n",
              "      <td>22</td>\n",
              "      <td>Louisiana</td>\n",
              "      <td>G2201270960300</td>\n",
              "      <td>31.92766</td>\n",
              "      <td>-92.64854</td>\n",
              "      <td>2660</td>\n",
              "      <td>5277.0000</td>\n",
              "      <td>8.571113</td>\n",
              "      <td>7.886081</td>\n",
              "    </tr>\n",
              "    <tr>\n",
              "      <th>29191</th>\n",
              "      <td>22</td>\n",
              "      <td>Louisiana</td>\n",
              "      <td>G2201270960400</td>\n",
              "      <td>31.91209</td>\n",
              "      <td>-92.62838</td>\n",
              "      <td>2276</td>\n",
              "      <td>7937.0000</td>\n",
              "      <td>8.979291</td>\n",
              "      <td>7.730175</td>\n",
              "    </tr>\n",
              "  </tbody>\n",
              "</table>\n",
              "<p>1127 rows × 9 columns</p>\n",
              "</div>\n",
              "      <button class=\"colab-df-convert\" onclick=\"convertToInteractive('df-86656877-962e-4ac6-b3e6-709b0029d32c')\"\n",
              "              title=\"Convert this dataframe to an interactive table.\"\n",
              "              style=\"display:none;\">\n",
              "        \n",
              "  <svg xmlns=\"http://www.w3.org/2000/svg\" height=\"24px\"viewBox=\"0 0 24 24\"\n",
              "       width=\"24px\">\n",
              "    <path d=\"M0 0h24v24H0V0z\" fill=\"none\"/>\n",
              "    <path d=\"M18.56 5.44l.94 2.06.94-2.06 2.06-.94-2.06-.94-.94-2.06-.94 2.06-2.06.94zm-11 1L8.5 8.5l.94-2.06 2.06-.94-2.06-.94L8.5 2.5l-.94 2.06-2.06.94zm10 10l.94 2.06.94-2.06 2.06-.94-2.06-.94-.94-2.06-.94 2.06-2.06.94z\"/><path d=\"M17.41 7.96l-1.37-1.37c-.4-.4-.92-.59-1.43-.59-.52 0-1.04.2-1.43.59L10.3 9.45l-7.72 7.72c-.78.78-.78 2.05 0 2.83L4 21.41c.39.39.9.59 1.41.59.51 0 1.02-.2 1.41-.59l7.78-7.78 2.81-2.81c.8-.78.8-2.07 0-2.86zM5.41 20L4 18.59l7.72-7.72 1.47 1.35L5.41 20z\"/>\n",
              "  </svg>\n",
              "      </button>\n",
              "      \n",
              "  <style>\n",
              "    .colab-df-container {\n",
              "      display:flex;\n",
              "      flex-wrap:wrap;\n",
              "      gap: 12px;\n",
              "    }\n",
              "\n",
              "    .colab-df-convert {\n",
              "      background-color: #E8F0FE;\n",
              "      border: none;\n",
              "      border-radius: 50%;\n",
              "      cursor: pointer;\n",
              "      display: none;\n",
              "      fill: #1967D2;\n",
              "      height: 32px;\n",
              "      padding: 0 0 0 0;\n",
              "      width: 32px;\n",
              "    }\n",
              "\n",
              "    .colab-df-convert:hover {\n",
              "      background-color: #E2EBFA;\n",
              "      box-shadow: 0px 1px 2px rgba(60, 64, 67, 0.3), 0px 1px 3px 1px rgba(60, 64, 67, 0.15);\n",
              "      fill: #174EA6;\n",
              "    }\n",
              "\n",
              "    [theme=dark] .colab-df-convert {\n",
              "      background-color: #3B4455;\n",
              "      fill: #D2E3FC;\n",
              "    }\n",
              "\n",
              "    [theme=dark] .colab-df-convert:hover {\n",
              "      background-color: #434B5C;\n",
              "      box-shadow: 0px 1px 3px 1px rgba(0, 0, 0, 0.15);\n",
              "      filter: drop-shadow(0px 1px 2px rgba(0, 0, 0, 0.3));\n",
              "      fill: #FFFFFF;\n",
              "    }\n",
              "  </style>\n",
              "\n",
              "      <script>\n",
              "        const buttonEl =\n",
              "          document.querySelector('#df-86656877-962e-4ac6-b3e6-709b0029d32c button.colab-df-convert');\n",
              "        buttonEl.style.display =\n",
              "          google.colab.kernel.accessAllowed ? 'block' : 'none';\n",
              "\n",
              "        async function convertToInteractive(key) {\n",
              "          const element = document.querySelector('#df-86656877-962e-4ac6-b3e6-709b0029d32c');\n",
              "          const dataTable =\n",
              "            await google.colab.kernel.invokeFunction('convertToInteractive',\n",
              "                                                     [key], {});\n",
              "          if (!dataTable) return;\n",
              "\n",
              "          const docLinkHtml = 'Like what you see? Visit the ' +\n",
              "            '<a target=\"_blank\" href=https://colab.research.google.com/notebooks/data_table.ipynb>data table notebook</a>'\n",
              "            + ' to learn more about interactive tables.';\n",
              "          element.innerHTML = '';\n",
              "          dataTable['output_type'] = 'display_data';\n",
              "          await google.colab.output.renderOutput(dataTable, element);\n",
              "          const docLink = document.createElement('div');\n",
              "          docLink.innerHTML = docLinkHtml;\n",
              "          element.appendChild(docLink);\n",
              "        }\n",
              "      </script>\n",
              "    </div>\n",
              "  </div>\n",
              "  "
            ]
          },
          "metadata": {},
          "execution_count": 50
        }
      ]
    },
    {
      "cell_type": "code",
      "source": [],
      "metadata": {
        "id": "2umpeOX30f4D"
      },
      "execution_count": null,
      "outputs": []
    }
  ]
}