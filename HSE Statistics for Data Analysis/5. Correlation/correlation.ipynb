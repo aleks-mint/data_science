{
  "nbformat": 4,
  "nbformat_minor": 0,
  "metadata": {
    "colab": {
      "provenance": []
    },
    "kernelspec": {
      "name": "python3",
      "display_name": "Python 3"
    },
    "language_info": {
      "name": "python"
    }
  },
  "cells": [
    {
      "cell_type": "code",
      "execution_count": 25,
      "metadata": {
        "id": "HW8Fsb5ULhiu"
      },
      "outputs": [],
      "source": [
        "import pandas as pd"
      ]
    },
    {
      "cell_type": "code",
      "source": [
        "df = pd.read_csv(\"/content/ScrabbleGames.csv\")"
      ],
      "metadata": {
        "id": "A6VYvA4lLllc"
      },
      "execution_count": 26,
      "outputs": []
    },
    {
      "cell_type": "markdown",
      "source": [
        "Описание данных\n",
        "– gameid — номер игры в скрэббл\n",
        "– tourneyid — номер турнира\n",
        "– tie — игра закончилась вничью\n",
        "– winnerid — порядковый номер победителя\n",
        "– winnername — имя победителя\n",
        "– winnerscore — набранные победителем очки\n",
        "– winneroldrating — рейтинг победителя до игры\n",
        "– winnernewrating — рейтинг победителя после игры\n",
        "– winnerpos — место победителя в турнире\n",
        "– loserid — порядковый номер проигравшего\n",
        "– loserscore — набранные проигравшем очки\n",
        "– loseroldrating — рейтинг проигравшего до игры\n",
        "– losernewrating — рейтинг проигравшего после игры\n",
        "– loserpos — место проигравшего в турнире\n",
        "– round — раунд турнира, в котором проходила игра\n",
        "– division — дивизион турнира, в котором проходила игра\n",
        "– date — дата игры\n",
        "– lexicon — набор слов, который использовался в игре (международный – 1; характерный для Северной Америки – 0)\n",
        "– year — год"
      ],
      "metadata": {
        "id": "2ww0fUkBL-8K"
      }
    },
    {
      "cell_type": "code",
      "source": [
        "df.info()"
      ],
      "metadata": {
        "colab": {
          "base_uri": "https://localhost:8080/"
        },
        "id": "DdDfXbW2L6Ms",
        "outputId": "eab8adf2-b7e3-4c07-8823-c1cf13ac9a97"
      },
      "execution_count": 27,
      "outputs": [
        {
          "output_type": "stream",
          "name": "stdout",
          "text": [
            "<class 'pandas.core.frame.DataFrame'>\n",
            "RangeIndex: 37466 entries, 0 to 37465\n",
            "Data columns (total 20 columns):\n",
            " #   Column           Non-Null Count  Dtype \n",
            "---  ------           --------------  ----- \n",
            " 0   gameid           37466 non-null  int64 \n",
            " 1   tourneyid        37466 non-null  int64 \n",
            " 2   tie              37466 non-null  int64 \n",
            " 3   winnerid         37466 non-null  int64 \n",
            " 4   winnername       37466 non-null  object\n",
            " 5   winnerscore      37466 non-null  int64 \n",
            " 6   winneroldrating  37466 non-null  int64 \n",
            " 7   winnernewrating  37466 non-null  int64 \n",
            " 8   winnerpos        37466 non-null  int64 \n",
            " 9   loserid          37466 non-null  int64 \n",
            " 10  losername        37466 non-null  object\n",
            " 11  loserscore       37466 non-null  int64 \n",
            " 12  loseroldrating   37466 non-null  int64 \n",
            " 13  losernewrating   37466 non-null  int64 \n",
            " 14  loserpos         37466 non-null  int64 \n",
            " 15  round            37466 non-null  int64 \n",
            " 16  division         37466 non-null  int64 \n",
            " 17  date             37466 non-null  object\n",
            " 18  lexicon          37466 non-null  int64 \n",
            " 19  year             37466 non-null  int64 \n",
            "dtypes: int64(17), object(3)\n",
            "memory usage: 5.7+ MB\n"
          ]
        }
      ]
    },
    {
      "cell_type": "code",
      "source": [
        "df.head()"
      ],
      "metadata": {
        "colab": {
          "base_uri": "https://localhost:8080/",
          "height": 357
        },
        "id": "9kx0parCMVWv",
        "outputId": "0d7916e8-a567-4bad-c4ee-45f8799a4f77"
      },
      "execution_count": 28,
      "outputs": [
        {
          "output_type": "execute_result",
          "data": {
            "text/plain": [
              "   gameid  tourneyid  tie  winnerid   winnername  winnerscore  \\\n",
              "0  451519       1590    0        38  Matt Laufer            0   \n",
              "1  451520       1590    0        38  Matt Laufer            0   \n",
              "2  451521       1590    0        38  Matt Laufer            0   \n",
              "3  451522       1590    0        38  Matt Laufer            0   \n",
              "4  451523       1590    0        38  Matt Laufer            0   \n",
              "\n",
              "   winneroldrating  winnernewrating  winnerpos  loserid       losername  \\\n",
              "0             1892             1877          5      608    Pam Grazette   \n",
              "1             1892             1877          5       82  Sally Ricketts   \n",
              "2             1892             1877          5     4001   James Guillot   \n",
              "3             1892             1877          5     5676   Rhoda Squires   \n",
              "4             1892             1877          5     4001   James Guillot   \n",
              "\n",
              "   loserscore  loseroldrating  losernewrating  loserpos  round  division  \\\n",
              "0           0            1712            1692        14      1         1   \n",
              "1           0            1390            1347        36      3         1   \n",
              "2           0            1712            1700        22      5         1   \n",
              "3           0            1642            1591        29      8         1   \n",
              "4           0            1712            1700        22      9         1   \n",
              "\n",
              "         date  lexicon  year  \n",
              "0  1994-03-11        0  1994  \n",
              "1  1994-03-11        0  1994  \n",
              "2  1994-03-11        0  1994  \n",
              "3  1994-03-11        0  1994  \n",
              "4  1994-03-11        0  1994  "
            ],
            "text/html": [
              "\n",
              "  <div id=\"df-fda04fbd-7372-4570-9913-d6c38482c8d7\">\n",
              "    <div class=\"colab-df-container\">\n",
              "      <div>\n",
              "<style scoped>\n",
              "    .dataframe tbody tr th:only-of-type {\n",
              "        vertical-align: middle;\n",
              "    }\n",
              "\n",
              "    .dataframe tbody tr th {\n",
              "        vertical-align: top;\n",
              "    }\n",
              "\n",
              "    .dataframe thead th {\n",
              "        text-align: right;\n",
              "    }\n",
              "</style>\n",
              "<table border=\"1\" class=\"dataframe\">\n",
              "  <thead>\n",
              "    <tr style=\"text-align: right;\">\n",
              "      <th></th>\n",
              "      <th>gameid</th>\n",
              "      <th>tourneyid</th>\n",
              "      <th>tie</th>\n",
              "      <th>winnerid</th>\n",
              "      <th>winnername</th>\n",
              "      <th>winnerscore</th>\n",
              "      <th>winneroldrating</th>\n",
              "      <th>winnernewrating</th>\n",
              "      <th>winnerpos</th>\n",
              "      <th>loserid</th>\n",
              "      <th>losername</th>\n",
              "      <th>loserscore</th>\n",
              "      <th>loseroldrating</th>\n",
              "      <th>losernewrating</th>\n",
              "      <th>loserpos</th>\n",
              "      <th>round</th>\n",
              "      <th>division</th>\n",
              "      <th>date</th>\n",
              "      <th>lexicon</th>\n",
              "      <th>year</th>\n",
              "    </tr>\n",
              "  </thead>\n",
              "  <tbody>\n",
              "    <tr>\n",
              "      <th>0</th>\n",
              "      <td>451519</td>\n",
              "      <td>1590</td>\n",
              "      <td>0</td>\n",
              "      <td>38</td>\n",
              "      <td>Matt Laufer</td>\n",
              "      <td>0</td>\n",
              "      <td>1892</td>\n",
              "      <td>1877</td>\n",
              "      <td>5</td>\n",
              "      <td>608</td>\n",
              "      <td>Pam Grazette</td>\n",
              "      <td>0</td>\n",
              "      <td>1712</td>\n",
              "      <td>1692</td>\n",
              "      <td>14</td>\n",
              "      <td>1</td>\n",
              "      <td>1</td>\n",
              "      <td>1994-03-11</td>\n",
              "      <td>0</td>\n",
              "      <td>1994</td>\n",
              "    </tr>\n",
              "    <tr>\n",
              "      <th>1</th>\n",
              "      <td>451520</td>\n",
              "      <td>1590</td>\n",
              "      <td>0</td>\n",
              "      <td>38</td>\n",
              "      <td>Matt Laufer</td>\n",
              "      <td>0</td>\n",
              "      <td>1892</td>\n",
              "      <td>1877</td>\n",
              "      <td>5</td>\n",
              "      <td>82</td>\n",
              "      <td>Sally Ricketts</td>\n",
              "      <td>0</td>\n",
              "      <td>1390</td>\n",
              "      <td>1347</td>\n",
              "      <td>36</td>\n",
              "      <td>3</td>\n",
              "      <td>1</td>\n",
              "      <td>1994-03-11</td>\n",
              "      <td>0</td>\n",
              "      <td>1994</td>\n",
              "    </tr>\n",
              "    <tr>\n",
              "      <th>2</th>\n",
              "      <td>451521</td>\n",
              "      <td>1590</td>\n",
              "      <td>0</td>\n",
              "      <td>38</td>\n",
              "      <td>Matt Laufer</td>\n",
              "      <td>0</td>\n",
              "      <td>1892</td>\n",
              "      <td>1877</td>\n",
              "      <td>5</td>\n",
              "      <td>4001</td>\n",
              "      <td>James Guillot</td>\n",
              "      <td>0</td>\n",
              "      <td>1712</td>\n",
              "      <td>1700</td>\n",
              "      <td>22</td>\n",
              "      <td>5</td>\n",
              "      <td>1</td>\n",
              "      <td>1994-03-11</td>\n",
              "      <td>0</td>\n",
              "      <td>1994</td>\n",
              "    </tr>\n",
              "    <tr>\n",
              "      <th>3</th>\n",
              "      <td>451522</td>\n",
              "      <td>1590</td>\n",
              "      <td>0</td>\n",
              "      <td>38</td>\n",
              "      <td>Matt Laufer</td>\n",
              "      <td>0</td>\n",
              "      <td>1892</td>\n",
              "      <td>1877</td>\n",
              "      <td>5</td>\n",
              "      <td>5676</td>\n",
              "      <td>Rhoda Squires</td>\n",
              "      <td>0</td>\n",
              "      <td>1642</td>\n",
              "      <td>1591</td>\n",
              "      <td>29</td>\n",
              "      <td>8</td>\n",
              "      <td>1</td>\n",
              "      <td>1994-03-11</td>\n",
              "      <td>0</td>\n",
              "      <td>1994</td>\n",
              "    </tr>\n",
              "    <tr>\n",
              "      <th>4</th>\n",
              "      <td>451523</td>\n",
              "      <td>1590</td>\n",
              "      <td>0</td>\n",
              "      <td>38</td>\n",
              "      <td>Matt Laufer</td>\n",
              "      <td>0</td>\n",
              "      <td>1892</td>\n",
              "      <td>1877</td>\n",
              "      <td>5</td>\n",
              "      <td>4001</td>\n",
              "      <td>James Guillot</td>\n",
              "      <td>0</td>\n",
              "      <td>1712</td>\n",
              "      <td>1700</td>\n",
              "      <td>22</td>\n",
              "      <td>9</td>\n",
              "      <td>1</td>\n",
              "      <td>1994-03-11</td>\n",
              "      <td>0</td>\n",
              "      <td>1994</td>\n",
              "    </tr>\n",
              "  </tbody>\n",
              "</table>\n",
              "</div>\n",
              "      <button class=\"colab-df-convert\" onclick=\"convertToInteractive('df-fda04fbd-7372-4570-9913-d6c38482c8d7')\"\n",
              "              title=\"Convert this dataframe to an interactive table.\"\n",
              "              style=\"display:none;\">\n",
              "        \n",
              "  <svg xmlns=\"http://www.w3.org/2000/svg\" height=\"24px\"viewBox=\"0 0 24 24\"\n",
              "       width=\"24px\">\n",
              "    <path d=\"M0 0h24v24H0V0z\" fill=\"none\"/>\n",
              "    <path d=\"M18.56 5.44l.94 2.06.94-2.06 2.06-.94-2.06-.94-.94-2.06-.94 2.06-2.06.94zm-11 1L8.5 8.5l.94-2.06 2.06-.94-2.06-.94L8.5 2.5l-.94 2.06-2.06.94zm10 10l.94 2.06.94-2.06 2.06-.94-2.06-.94-.94-2.06-.94 2.06-2.06.94z\"/><path d=\"M17.41 7.96l-1.37-1.37c-.4-.4-.92-.59-1.43-.59-.52 0-1.04.2-1.43.59L10.3 9.45l-7.72 7.72c-.78.78-.78 2.05 0 2.83L4 21.41c.39.39.9.59 1.41.59.51 0 1.02-.2 1.41-.59l7.78-7.78 2.81-2.81c.8-.78.8-2.07 0-2.86zM5.41 20L4 18.59l7.72-7.72 1.47 1.35L5.41 20z\"/>\n",
              "  </svg>\n",
              "      </button>\n",
              "      \n",
              "  <style>\n",
              "    .colab-df-container {\n",
              "      display:flex;\n",
              "      flex-wrap:wrap;\n",
              "      gap: 12px;\n",
              "    }\n",
              "\n",
              "    .colab-df-convert {\n",
              "      background-color: #E8F0FE;\n",
              "      border: none;\n",
              "      border-radius: 50%;\n",
              "      cursor: pointer;\n",
              "      display: none;\n",
              "      fill: #1967D2;\n",
              "      height: 32px;\n",
              "      padding: 0 0 0 0;\n",
              "      width: 32px;\n",
              "    }\n",
              "\n",
              "    .colab-df-convert:hover {\n",
              "      background-color: #E2EBFA;\n",
              "      box-shadow: 0px 1px 2px rgba(60, 64, 67, 0.3), 0px 1px 3px 1px rgba(60, 64, 67, 0.15);\n",
              "      fill: #174EA6;\n",
              "    }\n",
              "\n",
              "    [theme=dark] .colab-df-convert {\n",
              "      background-color: #3B4455;\n",
              "      fill: #D2E3FC;\n",
              "    }\n",
              "\n",
              "    [theme=dark] .colab-df-convert:hover {\n",
              "      background-color: #434B5C;\n",
              "      box-shadow: 0px 1px 3px 1px rgba(0, 0, 0, 0.15);\n",
              "      filter: drop-shadow(0px 1px 2px rgba(0, 0, 0, 0.3));\n",
              "      fill: #FFFFFF;\n",
              "    }\n",
              "  </style>\n",
              "\n",
              "      <script>\n",
              "        const buttonEl =\n",
              "          document.querySelector('#df-fda04fbd-7372-4570-9913-d6c38482c8d7 button.colab-df-convert');\n",
              "        buttonEl.style.display =\n",
              "          google.colab.kernel.accessAllowed ? 'block' : 'none';\n",
              "\n",
              "        async function convertToInteractive(key) {\n",
              "          const element = document.querySelector('#df-fda04fbd-7372-4570-9913-d6c38482c8d7');\n",
              "          const dataTable =\n",
              "            await google.colab.kernel.invokeFunction('convertToInteractive',\n",
              "                                                     [key], {});\n",
              "          if (!dataTable) return;\n",
              "\n",
              "          const docLinkHtml = 'Like what you see? Visit the ' +\n",
              "            '<a target=\"_blank\" href=https://colab.research.google.com/notebooks/data_table.ipynb>data table notebook</a>'\n",
              "            + ' to learn more about interactive tables.';\n",
              "          element.innerHTML = '';\n",
              "          dataTable['output_type'] = 'display_data';\n",
              "          await google.colab.output.renderOutput(dataTable, element);\n",
              "          const docLink = document.createElement('div');\n",
              "          docLink.innerHTML = docLinkHtml;\n",
              "          element.appendChild(docLink);\n",
              "        }\n",
              "      </script>\n",
              "    </div>\n",
              "  </div>\n",
              "  "
            ]
          },
          "metadata": {},
          "execution_count": 28
        }
      ]
    },
    {
      "cell_type": "markdown",
      "source": [
        "Сгруппируйте датафрейм по переменной tourneyid, затем определите тип взаимосвязи между средними значениями переменных winnerscore и winnernewrating. Выберите один верный ответ."
      ],
      "metadata": {
        "id": "mGJmG44mMCOp"
      }
    },
    {
      "cell_type": "code",
      "source": [
        "group_df = df.groupby(by=\"tourneyid\")"
      ],
      "metadata": {
        "id": "joUT1FDdL7v2"
      },
      "execution_count": 29,
      "outputs": []
    },
    {
      "cell_type": "code",
      "source": [
        "group_df.head()"
      ],
      "metadata": {
        "colab": {
          "base_uri": "https://localhost:8080/",
          "height": 678
        },
        "id": "c_-NV5moMPve",
        "outputId": "035971a0-7151-4a23-c232-e0383bac3bac"
      },
      "execution_count": 30,
      "outputs": [
        {
          "output_type": "execute_result",
          "data": {
            "text/plain": [
              "        gameid  tourneyid  tie  winnerid      winnername  winnerscore  \\\n",
              "0       451519       1590    0        38     Matt Laufer            0   \n",
              "1       451520       1590    0        38     Matt Laufer            0   \n",
              "2       451521       1590    0        38     Matt Laufer            0   \n",
              "3       451522       1590    0        38     Matt Laufer            0   \n",
              "4       451523       1590    0        38     Matt Laufer            0   \n",
              "...        ...        ...  ...       ...             ...          ...   \n",
              "37218  1822515       2998    0        50  Frank Tangredi            0   \n",
              "37219  1822516       2998    0        50  Frank Tangredi            0   \n",
              "37220  1822517       2998    0        50  Frank Tangredi            0   \n",
              "37221  1822518       2998    0        50  Frank Tangredi            0   \n",
              "37222  1822519       2998    0        50  Frank Tangredi            0   \n",
              "\n",
              "       winneroldrating  winnernewrating  winnerpos  loserid  \\\n",
              "0                 1892             1877          5      608   \n",
              "1                 1892             1877          5       82   \n",
              "2                 1892             1877          5     4001   \n",
              "3                 1892             1877          5     5676   \n",
              "4                 1892             1877          5     4001   \n",
              "...                ...              ...        ...      ...   \n",
              "37218             1812             1861          1      242   \n",
              "37219             1812             1861          1       54   \n",
              "37220             1812             1861          1      105   \n",
              "37221             1812             1861          1       71   \n",
              "37222             1812             1861          1       47   \n",
              "\n",
              "                 losername  loserscore  loseroldrating  losernewrating  \\\n",
              "0             Pam Grazette           0            1712            1692   \n",
              "1           Sally Ricketts           0            1390            1347   \n",
              "2            James Guillot           0            1712            1700   \n",
              "3            Rhoda Squires           0            1642            1591   \n",
              "4            James Guillot           0            1712            1700   \n",
              "...                    ...         ...             ...             ...   \n",
              "37218  Verna Richards Berg           0            1759            1763   \n",
              "37219      Rose Kreiswirth           0            1882            1896   \n",
              "37220          Dee Jackson           0            1737            1726   \n",
              "37221       Noel Livermore           0            1810            1805   \n",
              "37222          Joe Weinike           0            1961            1930   \n",
              "\n",
              "       loserpos  round  division        date  lexicon  year  \n",
              "0            14      1         1  1994-03-11        0  1994  \n",
              "1            36      3         1  1994-03-11        0  1994  \n",
              "2            22      5         1  1994-03-11        0  1994  \n",
              "3            29      8         1  1994-03-11        0  1994  \n",
              "4            22      9         1  1994-03-11        0  1994  \n",
              "...         ...    ...       ...         ...      ...   ...  \n",
              "37218         4      1         1  1994-05-21        0  1994  \n",
              "37219         2      2         1  1994-05-21        0  1994  \n",
              "37220         7      3         1  1994-05-21        0  1994  \n",
              "37221         5      4         1  1994-05-21        0  1994  \n",
              "37222         6      6         1  1994-05-21        0  1994  \n",
              "\n",
              "[595 rows x 20 columns]"
            ],
            "text/html": [
              "\n",
              "  <div id=\"df-c817b423-cf72-465e-8597-24d96403b36c\">\n",
              "    <div class=\"colab-df-container\">\n",
              "      <div>\n",
              "<style scoped>\n",
              "    .dataframe tbody tr th:only-of-type {\n",
              "        vertical-align: middle;\n",
              "    }\n",
              "\n",
              "    .dataframe tbody tr th {\n",
              "        vertical-align: top;\n",
              "    }\n",
              "\n",
              "    .dataframe thead th {\n",
              "        text-align: right;\n",
              "    }\n",
              "</style>\n",
              "<table border=\"1\" class=\"dataframe\">\n",
              "  <thead>\n",
              "    <tr style=\"text-align: right;\">\n",
              "      <th></th>\n",
              "      <th>gameid</th>\n",
              "      <th>tourneyid</th>\n",
              "      <th>tie</th>\n",
              "      <th>winnerid</th>\n",
              "      <th>winnername</th>\n",
              "      <th>winnerscore</th>\n",
              "      <th>winneroldrating</th>\n",
              "      <th>winnernewrating</th>\n",
              "      <th>winnerpos</th>\n",
              "      <th>loserid</th>\n",
              "      <th>losername</th>\n",
              "      <th>loserscore</th>\n",
              "      <th>loseroldrating</th>\n",
              "      <th>losernewrating</th>\n",
              "      <th>loserpos</th>\n",
              "      <th>round</th>\n",
              "      <th>division</th>\n",
              "      <th>date</th>\n",
              "      <th>lexicon</th>\n",
              "      <th>year</th>\n",
              "    </tr>\n",
              "  </thead>\n",
              "  <tbody>\n",
              "    <tr>\n",
              "      <th>0</th>\n",
              "      <td>451519</td>\n",
              "      <td>1590</td>\n",
              "      <td>0</td>\n",
              "      <td>38</td>\n",
              "      <td>Matt Laufer</td>\n",
              "      <td>0</td>\n",
              "      <td>1892</td>\n",
              "      <td>1877</td>\n",
              "      <td>5</td>\n",
              "      <td>608</td>\n",
              "      <td>Pam Grazette</td>\n",
              "      <td>0</td>\n",
              "      <td>1712</td>\n",
              "      <td>1692</td>\n",
              "      <td>14</td>\n",
              "      <td>1</td>\n",
              "      <td>1</td>\n",
              "      <td>1994-03-11</td>\n",
              "      <td>0</td>\n",
              "      <td>1994</td>\n",
              "    </tr>\n",
              "    <tr>\n",
              "      <th>1</th>\n",
              "      <td>451520</td>\n",
              "      <td>1590</td>\n",
              "      <td>0</td>\n",
              "      <td>38</td>\n",
              "      <td>Matt Laufer</td>\n",
              "      <td>0</td>\n",
              "      <td>1892</td>\n",
              "      <td>1877</td>\n",
              "      <td>5</td>\n",
              "      <td>82</td>\n",
              "      <td>Sally Ricketts</td>\n",
              "      <td>0</td>\n",
              "      <td>1390</td>\n",
              "      <td>1347</td>\n",
              "      <td>36</td>\n",
              "      <td>3</td>\n",
              "      <td>1</td>\n",
              "      <td>1994-03-11</td>\n",
              "      <td>0</td>\n",
              "      <td>1994</td>\n",
              "    </tr>\n",
              "    <tr>\n",
              "      <th>2</th>\n",
              "      <td>451521</td>\n",
              "      <td>1590</td>\n",
              "      <td>0</td>\n",
              "      <td>38</td>\n",
              "      <td>Matt Laufer</td>\n",
              "      <td>0</td>\n",
              "      <td>1892</td>\n",
              "      <td>1877</td>\n",
              "      <td>5</td>\n",
              "      <td>4001</td>\n",
              "      <td>James Guillot</td>\n",
              "      <td>0</td>\n",
              "      <td>1712</td>\n",
              "      <td>1700</td>\n",
              "      <td>22</td>\n",
              "      <td>5</td>\n",
              "      <td>1</td>\n",
              "      <td>1994-03-11</td>\n",
              "      <td>0</td>\n",
              "      <td>1994</td>\n",
              "    </tr>\n",
              "    <tr>\n",
              "      <th>3</th>\n",
              "      <td>451522</td>\n",
              "      <td>1590</td>\n",
              "      <td>0</td>\n",
              "      <td>38</td>\n",
              "      <td>Matt Laufer</td>\n",
              "      <td>0</td>\n",
              "      <td>1892</td>\n",
              "      <td>1877</td>\n",
              "      <td>5</td>\n",
              "      <td>5676</td>\n",
              "      <td>Rhoda Squires</td>\n",
              "      <td>0</td>\n",
              "      <td>1642</td>\n",
              "      <td>1591</td>\n",
              "      <td>29</td>\n",
              "      <td>8</td>\n",
              "      <td>1</td>\n",
              "      <td>1994-03-11</td>\n",
              "      <td>0</td>\n",
              "      <td>1994</td>\n",
              "    </tr>\n",
              "    <tr>\n",
              "      <th>4</th>\n",
              "      <td>451523</td>\n",
              "      <td>1590</td>\n",
              "      <td>0</td>\n",
              "      <td>38</td>\n",
              "      <td>Matt Laufer</td>\n",
              "      <td>0</td>\n",
              "      <td>1892</td>\n",
              "      <td>1877</td>\n",
              "      <td>5</td>\n",
              "      <td>4001</td>\n",
              "      <td>James Guillot</td>\n",
              "      <td>0</td>\n",
              "      <td>1712</td>\n",
              "      <td>1700</td>\n",
              "      <td>22</td>\n",
              "      <td>9</td>\n",
              "      <td>1</td>\n",
              "      <td>1994-03-11</td>\n",
              "      <td>0</td>\n",
              "      <td>1994</td>\n",
              "    </tr>\n",
              "    <tr>\n",
              "      <th>...</th>\n",
              "      <td>...</td>\n",
              "      <td>...</td>\n",
              "      <td>...</td>\n",
              "      <td>...</td>\n",
              "      <td>...</td>\n",
              "      <td>...</td>\n",
              "      <td>...</td>\n",
              "      <td>...</td>\n",
              "      <td>...</td>\n",
              "      <td>...</td>\n",
              "      <td>...</td>\n",
              "      <td>...</td>\n",
              "      <td>...</td>\n",
              "      <td>...</td>\n",
              "      <td>...</td>\n",
              "      <td>...</td>\n",
              "      <td>...</td>\n",
              "      <td>...</td>\n",
              "      <td>...</td>\n",
              "      <td>...</td>\n",
              "    </tr>\n",
              "    <tr>\n",
              "      <th>37218</th>\n",
              "      <td>1822515</td>\n",
              "      <td>2998</td>\n",
              "      <td>0</td>\n",
              "      <td>50</td>\n",
              "      <td>Frank Tangredi</td>\n",
              "      <td>0</td>\n",
              "      <td>1812</td>\n",
              "      <td>1861</td>\n",
              "      <td>1</td>\n",
              "      <td>242</td>\n",
              "      <td>Verna Richards Berg</td>\n",
              "      <td>0</td>\n",
              "      <td>1759</td>\n",
              "      <td>1763</td>\n",
              "      <td>4</td>\n",
              "      <td>1</td>\n",
              "      <td>1</td>\n",
              "      <td>1994-05-21</td>\n",
              "      <td>0</td>\n",
              "      <td>1994</td>\n",
              "    </tr>\n",
              "    <tr>\n",
              "      <th>37219</th>\n",
              "      <td>1822516</td>\n",
              "      <td>2998</td>\n",
              "      <td>0</td>\n",
              "      <td>50</td>\n",
              "      <td>Frank Tangredi</td>\n",
              "      <td>0</td>\n",
              "      <td>1812</td>\n",
              "      <td>1861</td>\n",
              "      <td>1</td>\n",
              "      <td>54</td>\n",
              "      <td>Rose Kreiswirth</td>\n",
              "      <td>0</td>\n",
              "      <td>1882</td>\n",
              "      <td>1896</td>\n",
              "      <td>2</td>\n",
              "      <td>2</td>\n",
              "      <td>1</td>\n",
              "      <td>1994-05-21</td>\n",
              "      <td>0</td>\n",
              "      <td>1994</td>\n",
              "    </tr>\n",
              "    <tr>\n",
              "      <th>37220</th>\n",
              "      <td>1822517</td>\n",
              "      <td>2998</td>\n",
              "      <td>0</td>\n",
              "      <td>50</td>\n",
              "      <td>Frank Tangredi</td>\n",
              "      <td>0</td>\n",
              "      <td>1812</td>\n",
              "      <td>1861</td>\n",
              "      <td>1</td>\n",
              "      <td>105</td>\n",
              "      <td>Dee Jackson</td>\n",
              "      <td>0</td>\n",
              "      <td>1737</td>\n",
              "      <td>1726</td>\n",
              "      <td>7</td>\n",
              "      <td>3</td>\n",
              "      <td>1</td>\n",
              "      <td>1994-05-21</td>\n",
              "      <td>0</td>\n",
              "      <td>1994</td>\n",
              "    </tr>\n",
              "    <tr>\n",
              "      <th>37221</th>\n",
              "      <td>1822518</td>\n",
              "      <td>2998</td>\n",
              "      <td>0</td>\n",
              "      <td>50</td>\n",
              "      <td>Frank Tangredi</td>\n",
              "      <td>0</td>\n",
              "      <td>1812</td>\n",
              "      <td>1861</td>\n",
              "      <td>1</td>\n",
              "      <td>71</td>\n",
              "      <td>Noel Livermore</td>\n",
              "      <td>0</td>\n",
              "      <td>1810</td>\n",
              "      <td>1805</td>\n",
              "      <td>5</td>\n",
              "      <td>4</td>\n",
              "      <td>1</td>\n",
              "      <td>1994-05-21</td>\n",
              "      <td>0</td>\n",
              "      <td>1994</td>\n",
              "    </tr>\n",
              "    <tr>\n",
              "      <th>37222</th>\n",
              "      <td>1822519</td>\n",
              "      <td>2998</td>\n",
              "      <td>0</td>\n",
              "      <td>50</td>\n",
              "      <td>Frank Tangredi</td>\n",
              "      <td>0</td>\n",
              "      <td>1812</td>\n",
              "      <td>1861</td>\n",
              "      <td>1</td>\n",
              "      <td>47</td>\n",
              "      <td>Joe Weinike</td>\n",
              "      <td>0</td>\n",
              "      <td>1961</td>\n",
              "      <td>1930</td>\n",
              "      <td>6</td>\n",
              "      <td>6</td>\n",
              "      <td>1</td>\n",
              "      <td>1994-05-21</td>\n",
              "      <td>0</td>\n",
              "      <td>1994</td>\n",
              "    </tr>\n",
              "  </tbody>\n",
              "</table>\n",
              "<p>595 rows × 20 columns</p>\n",
              "</div>\n",
              "      <button class=\"colab-df-convert\" onclick=\"convertToInteractive('df-c817b423-cf72-465e-8597-24d96403b36c')\"\n",
              "              title=\"Convert this dataframe to an interactive table.\"\n",
              "              style=\"display:none;\">\n",
              "        \n",
              "  <svg xmlns=\"http://www.w3.org/2000/svg\" height=\"24px\"viewBox=\"0 0 24 24\"\n",
              "       width=\"24px\">\n",
              "    <path d=\"M0 0h24v24H0V0z\" fill=\"none\"/>\n",
              "    <path d=\"M18.56 5.44l.94 2.06.94-2.06 2.06-.94-2.06-.94-.94-2.06-.94 2.06-2.06.94zm-11 1L8.5 8.5l.94-2.06 2.06-.94-2.06-.94L8.5 2.5l-.94 2.06-2.06.94zm10 10l.94 2.06.94-2.06 2.06-.94-2.06-.94-.94-2.06-.94 2.06-2.06.94z\"/><path d=\"M17.41 7.96l-1.37-1.37c-.4-.4-.92-.59-1.43-.59-.52 0-1.04.2-1.43.59L10.3 9.45l-7.72 7.72c-.78.78-.78 2.05 0 2.83L4 21.41c.39.39.9.59 1.41.59.51 0 1.02-.2 1.41-.59l7.78-7.78 2.81-2.81c.8-.78.8-2.07 0-2.86zM5.41 20L4 18.59l7.72-7.72 1.47 1.35L5.41 20z\"/>\n",
              "  </svg>\n",
              "      </button>\n",
              "      \n",
              "  <style>\n",
              "    .colab-df-container {\n",
              "      display:flex;\n",
              "      flex-wrap:wrap;\n",
              "      gap: 12px;\n",
              "    }\n",
              "\n",
              "    .colab-df-convert {\n",
              "      background-color: #E8F0FE;\n",
              "      border: none;\n",
              "      border-radius: 50%;\n",
              "      cursor: pointer;\n",
              "      display: none;\n",
              "      fill: #1967D2;\n",
              "      height: 32px;\n",
              "      padding: 0 0 0 0;\n",
              "      width: 32px;\n",
              "    }\n",
              "\n",
              "    .colab-df-convert:hover {\n",
              "      background-color: #E2EBFA;\n",
              "      box-shadow: 0px 1px 2px rgba(60, 64, 67, 0.3), 0px 1px 3px 1px rgba(60, 64, 67, 0.15);\n",
              "      fill: #174EA6;\n",
              "    }\n",
              "\n",
              "    [theme=dark] .colab-df-convert {\n",
              "      background-color: #3B4455;\n",
              "      fill: #D2E3FC;\n",
              "    }\n",
              "\n",
              "    [theme=dark] .colab-df-convert:hover {\n",
              "      background-color: #434B5C;\n",
              "      box-shadow: 0px 1px 3px 1px rgba(0, 0, 0, 0.15);\n",
              "      filter: drop-shadow(0px 1px 2px rgba(0, 0, 0, 0.3));\n",
              "      fill: #FFFFFF;\n",
              "    }\n",
              "  </style>\n",
              "\n",
              "      <script>\n",
              "        const buttonEl =\n",
              "          document.querySelector('#df-c817b423-cf72-465e-8597-24d96403b36c button.colab-df-convert');\n",
              "        buttonEl.style.display =\n",
              "          google.colab.kernel.accessAllowed ? 'block' : 'none';\n",
              "\n",
              "        async function convertToInteractive(key) {\n",
              "          const element = document.querySelector('#df-c817b423-cf72-465e-8597-24d96403b36c');\n",
              "          const dataTable =\n",
              "            await google.colab.kernel.invokeFunction('convertToInteractive',\n",
              "                                                     [key], {});\n",
              "          if (!dataTable) return;\n",
              "\n",
              "          const docLinkHtml = 'Like what you see? Visit the ' +\n",
              "            '<a target=\"_blank\" href=https://colab.research.google.com/notebooks/data_table.ipynb>data table notebook</a>'\n",
              "            + ' to learn more about interactive tables.';\n",
              "          element.innerHTML = '';\n",
              "          dataTable['output_type'] = 'display_data';\n",
              "          await google.colab.output.renderOutput(dataTable, element);\n",
              "          const docLink = document.createElement('div');\n",
              "          docLink.innerHTML = docLinkHtml;\n",
              "          element.appendChild(docLink);\n",
              "        }\n",
              "      </script>\n",
              "    </div>\n",
              "  </div>\n",
              "  "
            ]
          },
          "metadata": {},
          "execution_count": 30
        }
      ]
    },
    {
      "cell_type": "code",
      "source": [
        "group_df[\"winnerscore\"].mean()"
      ],
      "metadata": {
        "colab": {
          "base_uri": "https://localhost:8080/"
        },
        "id": "OIV39qjTN2Vg",
        "outputId": "ed6420f2-da2d-4b75-a855-784384c22def"
      },
      "execution_count": 31,
      "outputs": [
        {
          "output_type": "execute_result",
          "data": {
            "text/plain": [
              "tourneyid\n",
              "1524    0.000000\n",
              "1590    0.000000\n",
              "1591    4.287538\n",
              "1592    0.000000\n",
              "1593    0.000000\n",
              "          ...   \n",
              "4380    0.000000\n",
              "4381    0.000000\n",
              "5465    0.000000\n",
              "5677    0.000000\n",
              "5678    0.000000\n",
              "Name: winnerscore, Length: 119, dtype: float64"
            ]
          },
          "metadata": {},
          "execution_count": 31
        }
      ]
    },
    {
      "cell_type": "code",
      "source": [
        "group_df[\"winnernewrating\"].mean()"
      ],
      "metadata": {
        "colab": {
          "base_uri": "https://localhost:8080/"
        },
        "id": "UrAHPYTDOghS",
        "outputId": "4f7f9fa6-ec54-441d-88cc-f7c46c32c6b5"
      },
      "execution_count": 32,
      "outputs": [
        {
          "output_type": "execute_result",
          "data": {
            "text/plain": [
              "tourneyid\n",
              "1524    1607.119701\n",
              "1590    1446.150134\n",
              "1591    1459.314096\n",
              "1592    1384.846262\n",
              "1593    1115.964246\n",
              "           ...     \n",
              "4380    1440.960177\n",
              "4381    1497.285714\n",
              "5465    1143.500000\n",
              "5677    1044.817460\n",
              "5678    1109.714286\n",
              "Name: winnernewrating, Length: 119, dtype: float64"
            ]
          },
          "metadata": {},
          "execution_count": 32
        }
      ]
    },
    {
      "cell_type": "code",
      "source": [
        "group_df['winnerscore'].mean().corr(group_df['winnernewrating'].mean())"
      ],
      "metadata": {
        "colab": {
          "base_uri": "https://localhost:8080/"
        },
        "id": "qgJVphRDPKM-",
        "outputId": "feee5165-6b9f-4478-959d-ece4e8dd219e"
      },
      "execution_count": 33,
      "outputs": [
        {
          "output_type": "execute_result",
          "data": {
            "text/plain": [
              "-0.6040132147335744"
            ]
          },
          "metadata": {},
          "execution_count": 33
        }
      ]
    },
    {
      "cell_type": "markdown",
      "source": [
        "Укажите, верно ли следующее утверждение: очки, набранные победителем, напрямую и сильно зависят от очков, набранных проигравшим. Сгруппируйте датафрейм по переменной tourneyid и посмотрите на средние значения интересующих нас переменных."
      ],
      "metadata": {
        "id": "vlkOqKmUREk2"
      }
    },
    {
      "cell_type": "code",
      "source": [
        "group_df['winnerscore'].mean().corr(group_df['loserscore'].mean())"
      ],
      "metadata": {
        "colab": {
          "base_uri": "https://localhost:8080/"
        },
        "id": "iFJDAdQ_NKSP",
        "outputId": "1d891dcc-62a3-4713-827c-cce89e642b73"
      },
      "execution_count": 34,
      "outputs": [
        {
          "output_type": "execute_result",
          "data": {
            "text/plain": [
              "0.9999382016001124"
            ]
          },
          "metadata": {},
          "execution_count": 34
        }
      ]
    },
    {
      "cell_type": "code",
      "source": [
        "group_df['winnerscore'].mean().plot()"
      ],
      "metadata": {
        "colab": {
          "base_uri": "https://localhost:8080/",
          "height": 296
        },
        "id": "xkTt3G1qRs-J",
        "outputId": "3c577a81-876d-4a4b-a77c-dda9051527ca"
      },
      "execution_count": 35,
      "outputs": [
        {
          "output_type": "execute_result",
          "data": {
            "text/plain": [
              "<matplotlib.axes._subplots.AxesSubplot at 0x7f44ea464950>"
            ]
          },
          "metadata": {},
          "execution_count": 35
        },
        {
          "output_type": "display_data",
          "data": {
            "text/plain": [
              "<Figure size 432x288 with 1 Axes>"
            ],
            "image/png": "[encoded data removed]"
          },
          "metadata": {
            "needs_background": "light"
          }
        }
      ]
    },
    {
      "cell_type": "code",
      "source": [
        "group_df['loserscore'].mean().plot()"
      ],
      "metadata": {
        "colab": {
          "base_uri": "https://localhost:8080/",
          "height": 300
        },
        "id": "-jZP7_ykRyRs",
        "outputId": "3b04c380-3faf-485b-9960-78f18197b484"
      },
      "execution_count": 36,
      "outputs": [
        {
          "output_type": "execute_result",
          "data": {
            "text/plain": [
              "<matplotlib.axes._subplots.AxesSubplot at 0x7f44ea3d5990>"
            ]
          },
          "metadata": {},
          "execution_count": 36
        },
        {
          "output_type": "display_data",
          "data": {
            "text/plain": [
              "<Figure size 432x288 with 1 Axes>"
            ],
            "image/png": "[encoded data removed]"
          },
          "metadata": {
            "needs_background": "light"
          }
        }
      ]
    },
    {
      "cell_type": "markdown",
      "source": [
        "Сгруппируйте датафрейм по переменной tourneyid, затем рассчитайте коэффициент корреляции между средними значениями переменных winnernewrating и losernewrating. Введите ответ в виде десятичной дроби, округлите до двух знаков после запятой (например, 0.23); если связь обратная, не забудьте указать минус перед числом."
      ],
      "metadata": {
        "id": "HT8jLRllfe2H"
      }
    },
    {
      "cell_type": "code",
      "source": [
        "group_df['winnernewrating'].mean().corr(group_df['losernewrating'].mean())"
      ],
      "metadata": {
        "id": "JdqLTvDRR33E",
        "colab": {
          "base_uri": "https://localhost:8080/"
        },
        "outputId": "f9502d2e-98c2-48f9-f788-ac8e910daa76"
      },
      "execution_count": 37,
      "outputs": [
        {
          "output_type": "execute_result",
          "data": {
            "text/plain": [
              "0.9783569191327567"
            ]
          },
          "metadata": {},
          "execution_count": 37
        }
      ]
    },
    {
      "cell_type": "markdown",
      "source": [
        "Выберите только первые раунды турнира, сгруппируйте датафрейм по переменной tourneyid, затем рассчитайте коэффициент корреляции между переменными winnerscore и loserscore. Введите ответ в виде десятичной дроби, до двух знаков после запятой (например, 0.29); если связь обратная, не забудьте указать минус перед числом."
      ],
      "metadata": {
        "id": "_F9FdhLWgd6e"
      }
    },
    {
      "cell_type": "code",
      "source": [
        "round = df[df[\"round\"] == 1]"
      ],
      "metadata": {
        "id": "9JWWzgtsgN1l"
      },
      "execution_count": 38,
      "outputs": []
    },
    {
      "cell_type": "code",
      "source": [
        "round_group = round.groupby(by=\"tourneyid\")"
      ],
      "metadata": {
        "id": "8iVavh3bgvOG"
      },
      "execution_count": 39,
      "outputs": []
    },
    {
      "cell_type": "code",
      "source": [
        "round_group[\"winnerscore\"].mean().corr(round_group[\"loserscore\"].mean())"
      ],
      "metadata": {
        "colab": {
          "base_uri": "https://localhost:8080/"
        },
        "id": "ttS7j1c6g-Wl",
        "outputId": "fe6fcd03-fbc6-4bc7-c3f6-c5d10bc3c9c7"
      },
      "execution_count": 40,
      "outputs": [
        {
          "output_type": "execute_result",
          "data": {
            "text/plain": [
              "0.9998969144453593"
            ]
          },
          "metadata": {},
          "execution_count": 40
        }
      ]
    },
    {
      "cell_type": "code",
      "source": [
        "round[\"winnerscore\"].corr(round[\"loserscore\"])"
      ],
      "metadata": {
        "colab": {
          "base_uri": "https://localhost:8080/"
        },
        "id": "5slKK2-ShnCo",
        "outputId": "a1d78b8c-0636-49c0-b833-8aecb1567abb"
      },
      "execution_count": 41,
      "outputs": [
        {
          "output_type": "execute_result",
          "data": {
            "text/plain": [
              "0.992563389928817"
            ]
          },
          "metadata": {},
          "execution_count": 41
        }
      ]
    },
    {
      "cell_type": "markdown",
      "source": [
        "Укажите, верно ли следующее утверждение: переменная tie не влияет на характер взаимосвязи между переменными winnernewrating и losernewrating. Сгруппируйте датафрейм по переменной tourneyid, затем рассчитайте коэффициент корреляции между средними значениями указанных переменных."
      ],
      "metadata": {
        "id": "z2fjrzikiJ0u"
      }
    },
    {
      "cell_type": "code",
      "source": [
        "# верно"
      ],
      "metadata": {
        "id": "5tEv1Q5oh8Pv"
      },
      "execution_count": 41,
      "outputs": []
    },
    {
      "cell_type": "markdown",
      "source": [
        "Выберите самого часто встречающегося победителя (столбец winnername). Сгруппируйте датафрейм по переменной tourneyid, затем рассчитайте коэффициент корреляции между средними значениями переменных winnerscore и winneroldrating. Введите ответ в виде десятичной дроби, округлите до двух знаков после запятой; если связь обратная, не забудьте указать минус перед числом."
      ],
      "metadata": {
        "id": "lTfv8_ndi8mJ"
      }
    },
    {
      "cell_type": "code",
      "source": [
        "df[\"winnername\"].value_counts()"
      ],
      "metadata": {
        "colab": {
          "base_uri": "https://localhost:8080/"
        },
        "id": "T8B51n_Bi9B2",
        "outputId": "7907f837-e431-4c00-dc72-36d7ea60e8fc"
      },
      "execution_count": 42,
      "outputs": [
        {
          "output_type": "execute_result",
          "data": {
            "text/plain": [
              "Lester Schonbrun     127\n",
              "Joel Sherman         126\n",
              "Patricia Barrett     124\n",
              "Rose Kreiswirth      119\n",
              "Stuart Goldman       117\n",
              "                    ... \n",
              "Dennis Tostowaryk      1\n",
              "Lee Martin             1\n",
              "Jim Yee                1\n",
              "Irma Triggs            1\n",
              "Margaret Melito        1\n",
              "Name: winnername, Length: 2166, dtype: int64"
            ]
          },
          "metadata": {},
          "execution_count": 42
        }
      ]
    },
    {
      "cell_type": "code",
      "source": [
        "group_name = df[df[\"winnername\"] == \"Lester Schonbrun\"].groupby(by=\"tourneyid\")"
      ],
      "metadata": {
        "id": "aX7CIkYejD-E"
      },
      "execution_count": 43,
      "outputs": []
    },
    {
      "cell_type": "code",
      "source": [
        "group_name[\"winnerscore\"].mean().corr(group_name[\"winneroldrating\"].mean())"
      ],
      "metadata": {
        "colab": {
          "base_uri": "https://localhost:8080/"
        },
        "id": "fEDiRgAMj9RF",
        "outputId": "05c1582c-b5f7-4f16-f871-96ed6414608a"
      },
      "execution_count": 44,
      "outputs": [
        {
          "output_type": "execute_result",
          "data": {
            "text/plain": [
              "0.052293839839737934"
            ]
          },
          "metadata": {},
          "execution_count": 44
        }
      ]
    },
    {
      "cell_type": "markdown",
      "source": [
        "Укажите, верно ли следующее утверждение: характер взаимосвязи (прямая или обратная) между средними значениями переменных winnerscore и winneroldrating для победителя по имени Lester Schonbrun не отличается для такого же показателя для победителя по имени Stuart Goldman. Сгруппируйте датафрейм по переменной tourneyid, затем рассчитайте коэффициент корреляции между средними значениями указанных переменных."
      ],
      "metadata": {
        "id": "yGlKBWblkvff"
      }
    },
    {
      "cell_type": "code",
      "source": [
        "stuart_df = df[df[\"winnername\"] == \"Stuart Goldman\"].groupby(by=\"tourneyid\")"
      ],
      "metadata": {
        "id": "T4CKCJDPkMgw"
      },
      "execution_count": 45,
      "outputs": []
    },
    {
      "cell_type": "code",
      "source": [
        "stuart_df[\"winnerscore\"].mean().corr(stuart_df[\"winneroldrating\"].mean())"
      ],
      "metadata": {
        "colab": {
          "base_uri": "https://localhost:8080/"
        },
        "id": "p3G_fdSylVrX",
        "outputId": "76e2a89a-5c39-4865-e83b-0a47162ceff2"
      },
      "execution_count": 46,
      "outputs": [
        {
          "output_type": "execute_result",
          "data": {
            "text/plain": [
              "-0.4985311528143817"
            ]
          },
          "metadata": {},
          "execution_count": 46
        }
      ]
    },
    {
      "cell_type": "markdown",
      "source": [
        "Выберите данные только за 4376 турнир (переменная tourneyid). Рассчитайте коэффициент корреляции между переменными winnerscore и loserscore. Введите ответ в виде десятичной дроби, округлите до двух знаков после запятой; если связь обратная, не забудьте указать минус перед числом."
      ],
      "metadata": {
        "id": "rt32dyZAlnA5"
      }
    },
    {
      "cell_type": "code",
      "source": [
        "tour43 = df[df[\"tourneyid\"] == 4376]"
      ],
      "metadata": {
        "id": "otweLfcqleNM"
      },
      "execution_count": 47,
      "outputs": []
    },
    {
      "cell_type": "code",
      "source": [
        "tour43[\"winnerscore\"].corr(tour43[\"loserscore\"])"
      ],
      "metadata": {
        "colab": {
          "base_uri": "https://localhost:8080/"
        },
        "id": "emhTX25_nXl-",
        "outputId": "a58ee7bd-7c69-4a63-c15d-6538aea8687e"
      },
      "execution_count": 48,
      "outputs": [
        {
          "output_type": "execute_result",
          "data": {
            "text/plain": [
              "-0.24900080522596177"
            ]
          },
          "metadata": {},
          "execution_count": 48
        }
      ]
    },
    {
      "cell_type": "code",
      "source": [],
      "metadata": {
        "id": "JrzwaTx1njI-"
      },
      "execution_count": 48,
      "outputs": []
    }
  ]
}