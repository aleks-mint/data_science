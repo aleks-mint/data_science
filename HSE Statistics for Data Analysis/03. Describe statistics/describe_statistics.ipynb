{
  "nbformat": 4,
  "nbformat_minor": 0,
  "metadata": {
    "colab": {
      "provenance": []
    },
    "kernelspec": {
      "name": "python3",
      "display_name": "Python 3"
    },
    "language_info": {
      "name": "python"
    }
  },
  "cells": [
    {
      "cell_type": "code",
      "execution_count": null,
      "metadata": {
        "id": "24pzQpGKtb8R"
      },
      "outputs": [],
      "source": [
        "import pandas as pd"
      ]
    },
    {
      "cell_type": "code",
      "source": [
        "df = pd.read_csv(\"/content/MarvelComicCaracters.csv\", sep=\";\")"
      ],
      "metadata": {
        "id": "BSrL6hHvtm5A"
      },
      "execution_count": null,
      "outputs": []
    },
    {
      "cell_type": "code",
      "source": [
        "df.shape"
      ],
      "metadata": {
        "colab": {
          "base_uri": "https://localhost:8080/"
        },
        "id": "03FccSHcy4k4",
        "outputId": "4cdbea59-ad64-4ffe-930d-f4e9bde675cc"
      },
      "execution_count": null,
      "outputs": [
        {
          "output_type": "execute_result",
          "data": {
            "text/plain": [
              "(16376, 7)"
            ]
          },
          "metadata": {},
          "execution_count": 22
        }
      ]
    },
    {
      "cell_type": "code",
      "source": [
        "df.head()"
      ],
      "metadata": {
        "colab": {
          "base_uri": "https://localhost:8080/",
          "height": 206
        },
        "id": "Qj7D7OuHtsZC",
        "outputId": "e5d846d4-fc86-4bcf-ec69-def03b52f8a4"
      },
      "execution_count": null,
      "outputs": [
        {
          "output_type": "execute_result",
          "data": {
            "text/plain": [
              "                                  name                 align            eye  \\\n",
              "0            Spider-Man (Peter Parker)       Добрый персонаж    Карие глаза   \n",
              "1      Captain America (Steven Rogers)       Добрый персонаж  Голубые глаза   \n",
              "2  Wolverine (James \\\"Logan\\\" Howlett)  Нейтральный персонаж  Голубые глаза   \n",
              "3    Iron Man (Anthony \\\"Tony\\\" Stark)       Добрый персонаж  Голубые глаза   \n",
              "4                  Thor (Thor Odinson)       Добрый персонаж  Голубые глаза   \n",
              "\n",
              "                hair               sex  appearances  first_appearance  \n",
              "0  Каштановые волосы  Мужской персонаж       4043.0            1962.0  \n",
              "1       Белые волосы  Мужской персонаж       3360.0            1941.0  \n",
              "2      Черные волосы  Мужской персонаж       3061.0            1974.0  \n",
              "3      Черные волосы  Мужской персонаж       2961.0            1963.0  \n",
              "4       Русые волосы  Мужской персонаж       2258.0            1950.0  "
            ],
            "text/html": [
              "\n",
              "  <div id=\"df-a4b07340-f769-4363-9a3d-0e28449dceb5\">\n",
              "    <div class=\"colab-df-container\">\n",
              "      <div>\n",
              "<style scoped>\n",
              "    .dataframe tbody tr th:only-of-type {\n",
              "        vertical-align: middle;\n",
              "    }\n",
              "\n",
              "    .dataframe tbody tr th {\n",
              "        vertical-align: top;\n",
              "    }\n",
              "\n",
              "    .dataframe thead th {\n",
              "        text-align: right;\n",
              "    }\n",
              "</style>\n",
              "<table border=\"1\" class=\"dataframe\">\n",
              "  <thead>\n",
              "    <tr style=\"text-align: right;\">\n",
              "      <th></th>\n",
              "      <th>name</th>\n",
              "      <th>align</th>\n",
              "      <th>eye</th>\n",
              "      <th>hair</th>\n",
              "      <th>sex</th>\n",
              "      <th>appearances</th>\n",
              "      <th>first_appearance</th>\n",
              "    </tr>\n",
              "  </thead>\n",
              "  <tbody>\n",
              "    <tr>\n",
              "      <th>0</th>\n",
              "      <td>Spider-Man (Peter Parker)</td>\n",
              "      <td>Добрый персонаж</td>\n",
              "      <td>Карие глаза</td>\n",
              "      <td>Каштановые волосы</td>\n",
              "      <td>Мужской персонаж</td>\n",
              "      <td>4043.0</td>\n",
              "      <td>1962.0</td>\n",
              "    </tr>\n",
              "    <tr>\n",
              "      <th>1</th>\n",
              "      <td>Captain America (Steven Rogers)</td>\n",
              "      <td>Добрый персонаж</td>\n",
              "      <td>Голубые глаза</td>\n",
              "      <td>Белые волосы</td>\n",
              "      <td>Мужской персонаж</td>\n",
              "      <td>3360.0</td>\n",
              "      <td>1941.0</td>\n",
              "    </tr>\n",
              "    <tr>\n",
              "      <th>2</th>\n",
              "      <td>Wolverine (James \\\"Logan\\\" Howlett)</td>\n",
              "      <td>Нейтральный персонаж</td>\n",
              "      <td>Голубые глаза</td>\n",
              "      <td>Черные волосы</td>\n",
              "      <td>Мужской персонаж</td>\n",
              "      <td>3061.0</td>\n",
              "      <td>1974.0</td>\n",
              "    </tr>\n",
              "    <tr>\n",
              "      <th>3</th>\n",
              "      <td>Iron Man (Anthony \\\"Tony\\\" Stark)</td>\n",
              "      <td>Добрый персонаж</td>\n",
              "      <td>Голубые глаза</td>\n",
              "      <td>Черные волосы</td>\n",
              "      <td>Мужской персонаж</td>\n",
              "      <td>2961.0</td>\n",
              "      <td>1963.0</td>\n",
              "    </tr>\n",
              "    <tr>\n",
              "      <th>4</th>\n",
              "      <td>Thor (Thor Odinson)</td>\n",
              "      <td>Добрый персонаж</td>\n",
              "      <td>Голубые глаза</td>\n",
              "      <td>Русые волосы</td>\n",
              "      <td>Мужской персонаж</td>\n",
              "      <td>2258.0</td>\n",
              "      <td>1950.0</td>\n",
              "    </tr>\n",
              "  </tbody>\n",
              "</table>\n",
              "</div>\n",
              "      <button class=\"colab-df-convert\" onclick=\"convertToInteractive('df-a4b07340-f769-4363-9a3d-0e28449dceb5')\"\n",
              "              title=\"Convert this dataframe to an interactive table.\"\n",
              "              style=\"display:none;\">\n",
              "        \n",
              "  <svg xmlns=\"http://www.w3.org/2000/svg\" height=\"24px\"viewBox=\"0 0 24 24\"\n",
              "       width=\"24px\">\n",
              "    <path d=\"M0 0h24v24H0V0z\" fill=\"none\"/>\n",
              "    <path d=\"M18.56 5.44l.94 2.06.94-2.06 2.06-.94-2.06-.94-.94-2.06-.94 2.06-2.06.94zm-11 1L8.5 8.5l.94-2.06 2.06-.94-2.06-.94L8.5 2.5l-.94 2.06-2.06.94zm10 10l.94 2.06.94-2.06 2.06-.94-2.06-.94-.94-2.06-.94 2.06-2.06.94z\"/><path d=\"M17.41 7.96l-1.37-1.37c-.4-.4-.92-.59-1.43-.59-.52 0-1.04.2-1.43.59L10.3 9.45l-7.72 7.72c-.78.78-.78 2.05 0 2.83L4 21.41c.39.39.9.59 1.41.59.51 0 1.02-.2 1.41-.59l7.78-7.78 2.81-2.81c.8-.78.8-2.07 0-2.86zM5.41 20L4 18.59l7.72-7.72 1.47 1.35L5.41 20z\"/>\n",
              "  </svg>\n",
              "      </button>\n",
              "      \n",
              "  <style>\n",
              "    .colab-df-container {\n",
              "      display:flex;\n",
              "      flex-wrap:wrap;\n",
              "      gap: 12px;\n",
              "    }\n",
              "\n",
              "    .colab-df-convert {\n",
              "      background-color: #E8F0FE;\n",
              "      border: none;\n",
              "      border-radius: 50%;\n",
              "      cursor: pointer;\n",
              "      display: none;\n",
              "      fill: #1967D2;\n",
              "      height: 32px;\n",
              "      padding: 0 0 0 0;\n",
              "      width: 32px;\n",
              "    }\n",
              "\n",
              "    .colab-df-convert:hover {\n",
              "      background-color: #E2EBFA;\n",
              "      box-shadow: 0px 1px 2px rgba(60, 64, 67, 0.3), 0px 1px 3px 1px rgba(60, 64, 67, 0.15);\n",
              "      fill: #174EA6;\n",
              "    }\n",
              "\n",
              "    [theme=dark] .colab-df-convert {\n",
              "      background-color: #3B4455;\n",
              "      fill: #D2E3FC;\n",
              "    }\n",
              "\n",
              "    [theme=dark] .colab-df-convert:hover {\n",
              "      background-color: #434B5C;\n",
              "      box-shadow: 0px 1px 3px 1px rgba(0, 0, 0, 0.15);\n",
              "      filter: drop-shadow(0px 1px 2px rgba(0, 0, 0, 0.3));\n",
              "      fill: #FFFFFF;\n",
              "    }\n",
              "  </style>\n",
              "\n",
              "      <script>\n",
              "        const buttonEl =\n",
              "          document.querySelector('#df-a4b07340-f769-4363-9a3d-0e28449dceb5 button.colab-df-convert');\n",
              "        buttonEl.style.display =\n",
              "          google.colab.kernel.accessAllowed ? 'block' : 'none';\n",
              "\n",
              "        async function convertToInteractive(key) {\n",
              "          const element = document.querySelector('#df-a4b07340-f769-4363-9a3d-0e28449dceb5');\n",
              "          const dataTable =\n",
              "            await google.colab.kernel.invokeFunction('convertToInteractive',\n",
              "                                                     [key], {});\n",
              "          if (!dataTable) return;\n",
              "\n",
              "          const docLinkHtml = 'Like what you see? Visit the ' +\n",
              "            '<a target=\"_blank\" href=https://colab.research.google.com/notebooks/data_table.ipynb>data table notebook</a>'\n",
              "            + ' to learn more about interactive tables.';\n",
              "          element.innerHTML = '';\n",
              "          dataTable['output_type'] = 'display_data';\n",
              "          await google.colab.output.renderOutput(dataTable, element);\n",
              "          const docLink = document.createElement('div');\n",
              "          docLink.innerHTML = docLinkHtml;\n",
              "          element.appendChild(docLink);\n",
              "        }\n",
              "      </script>\n",
              "    </div>\n",
              "  </div>\n",
              "  "
            ]
          },
          "metadata": {},
          "execution_count": 4
        }
      ]
    },
    {
      "cell_type": "markdown",
      "source": [
        "Какова мода по переменной eye? Выберите один верный ответ."
      ],
      "metadata": {
        "id": "10a8K_dyt51K"
      }
    },
    {
      "cell_type": "code",
      "source": [
        "df[\"eye\"].value_counts()"
      ],
      "metadata": {
        "colab": {
          "base_uri": "https://localhost:8080/"
        },
        "id": "6eS3mE0ntws8",
        "outputId": "3b68879a-e545-4d8e-cf9f-e91d6009b283"
      },
      "execution_count": null,
      "outputs": [
        {
          "output_type": "execute_result",
          "data": {
            "text/plain": [
              "Голубые глаза            1962\n",
              "Темно-карие глаза        1924\n",
              "Зеленые глаза             613\n",
              "Черные глаза              555\n",
              "Красные глаза             508\n",
              "Белые глаза               400\n",
              "Желтые глаза              256\n",
              "Серые глаза                95\n",
              "Карие глаза                76\n",
              "Разноцветные глаза         49\n",
              "Фиолетовые глаза           31\n",
              "Оранжевые глаза            25\n",
              "Розовые глаза              21\n",
              "Один глаз                  21\n",
              "Золотые глаза              14\n",
              "Серебристые глаза          12\n",
              "Лиловые глаза              11\n",
              "Янтарные глаза             10\n",
              "Много глаз                  7\n",
              "Нет глаз                    7\n",
              "Желтые глазные яблоки       6\n",
              "Черные глазные яблоки       3\n",
              "Пурпурные глаза             2\n",
              "Фасеточные глаза            1\n",
              "Name: eye, dtype: int64"
            ]
          },
          "metadata": {},
          "execution_count": 5
        }
      ]
    },
    {
      "cell_type": "markdown",
      "source": [
        "Вам представлены утверждения о мерах центральной тенденции (среднее арифметическое, мода, медиана) для переменной appearances. Какое из них верно? Выберите один верный ответ."
      ],
      "metadata": {
        "id": "A7k-b2lIuCPe"
      }
    },
    {
      "cell_type": "code",
      "source": [
        "df[\"appearances\"].mean()"
      ],
      "metadata": {
        "colab": {
          "base_uri": "https://localhost:8080/"
        },
        "id": "wZN7No7at2Xq",
        "outputId": "245bdf51-1274-4fd4-ae80-beba0e0b7435"
      },
      "execution_count": null,
      "outputs": [
        {
          "output_type": "execute_result",
          "data": {
            "text/plain": [
              "17.033376963350786"
            ]
          },
          "metadata": {},
          "execution_count": 11
        }
      ]
    },
    {
      "cell_type": "code",
      "source": [
        "df['appearances'].median()"
      ],
      "metadata": {
        "colab": {
          "base_uri": "https://localhost:8080/"
        },
        "id": "6kOO_xxSuVYx",
        "outputId": "b7fb625e-b974-48db-957e-db9600fcdbcc"
      },
      "execution_count": null,
      "outputs": [
        {
          "output_type": "execute_result",
          "data": {
            "text/plain": [
              "3.0"
            ]
          },
          "metadata": {},
          "execution_count": 9
        }
      ]
    },
    {
      "cell_type": "code",
      "source": [
        "df['appearances'].mode()"
      ],
      "metadata": {
        "colab": {
          "base_uri": "https://localhost:8080/"
        },
        "id": "2uQ50Hbduwyk",
        "outputId": "32271ee7-47ac-4c67-ea51-175f25bad2bb"
      },
      "execution_count": null,
      "outputs": [
        {
          "output_type": "execute_result",
          "data": {
            "text/plain": [
              "0    1.0\n",
              "dtype: float64"
            ]
          },
          "metadata": {},
          "execution_count": 10
        }
      ]
    },
    {
      "cell_type": "markdown",
      "source": [
        "Укажите, верно ли следующее утверждение: мода по переменной hair для женских персонажей равна моде по переменной hair для мужских персонажей."
      ],
      "metadata": {
        "id": "95ORdsrjun8o"
      }
    },
    {
      "cell_type": "code",
      "source": [
        "df[(df['sex'] == \"Мужской персонаж\")][\"hair\"].mode()"
      ],
      "metadata": {
        "colab": {
          "base_uri": "https://localhost:8080/"
        },
        "id": "uXcp_E2XuiMl",
        "outputId": "65ee9c9d-1673-42a4-f2d2-9f5c254350ac"
      },
      "execution_count": null,
      "outputs": [
        {
          "output_type": "execute_result",
          "data": {
            "text/plain": [
              "0    Черные волосы\n",
              "dtype: object"
            ]
          },
          "metadata": {},
          "execution_count": 12
        }
      ]
    },
    {
      "cell_type": "code",
      "source": [
        "df[(df['sex'] == \"Женский персонаж\")][\"hair\"].mode()"
      ],
      "metadata": {
        "colab": {
          "base_uri": "https://localhost:8080/"
        },
        "id": "lVU4R0N_vKLE",
        "outputId": "197addaf-0986-4d33-e1b0-54513030f789"
      },
      "execution_count": null,
      "outputs": [
        {
          "output_type": "execute_result",
          "data": {
            "text/plain": [
              "0    Черные волосы\n",
              "dtype: object"
            ]
          },
          "metadata": {},
          "execution_count": 15
        }
      ]
    },
    {
      "cell_type": "markdown",
      "source": [
        "Вам представлены утверждения о мерах разброса (размах и межквартильных размах) для переменной hair. Какое из них верно? Выберите один верный ответ."
      ],
      "metadata": {
        "id": "gjq2biPHvYfa"
      }
    },
    {
      "cell_type": "code",
      "source": [
        "df[\"hair\"].describe()"
      ],
      "metadata": {
        "colab": {
          "base_uri": "https://localhost:8080/"
        },
        "id": "JHIkHuH3vNqK",
        "outputId": "d7ec8afa-c61c-4949-9c40-da0eaacc868c"
      },
      "execution_count": null,
      "outputs": [
        {
          "output_type": "execute_result",
          "data": {
            "text/plain": [
              "count              9989\n",
              "unique               20\n",
              "top       Черные волосы\n",
              "freq               3755\n",
              "Name: hair, dtype: object"
            ]
          },
          "metadata": {},
          "execution_count": 16
        }
      ]
    },
    {
      "cell_type": "markdown",
      "source": [
        "Выберите только злых персонажей и определите медиану по переменной appearances. Введите ответ в виде целого числа"
      ],
      "metadata": {
        "id": "_A44lZQRv4_o"
      }
    },
    {
      "cell_type": "code",
      "source": [
        "df[(df['align'] == \"Злой персонаж\")][\"appearances\"].median()"
      ],
      "metadata": {
        "colab": {
          "base_uri": "https://localhost:8080/"
        },
        "id": "NHKjxGAZvwQP",
        "outputId": "a507d647-a37c-4d0c-fdd6-245ae6a592ea"
      },
      "execution_count": null,
      "outputs": [
        {
          "output_type": "execute_result",
          "data": {
            "text/plain": [
              "3.0"
            ]
          },
          "metadata": {},
          "execution_count": 17
        }
      ]
    },
    {
      "cell_type": "markdown",
      "source": [
        "Найдите дисперсию по переменной appearances. Помните, что мы работаем с генеральной совокупностью. В ответ запишите число, округлите до целого."
      ],
      "metadata": {
        "id": "szazIIPgwZcA"
      }
    },
    {
      "cell_type": "code",
      "source": [
        "df[\"appearances\"].var()"
      ],
      "metadata": {
        "colab": {
          "base_uri": "https://localhost:8080/"
        },
        "id": "G4lxKAs5wENH",
        "outputId": "45a04042-c68d-490c-9cae-a9a9b9cce27b"
      },
      "execution_count": null,
      "outputs": [
        {
          "output_type": "execute_result",
          "data": {
            "text/plain": [
              "9287.74729875965"
            ]
          },
          "metadata": {},
          "execution_count": 18
        }
      ]
    },
    {
      "cell_type": "markdown",
      "source": [
        "Найдите моду по переменной first_appearance. Введите ответ в виде целого числа.\n",
        "\n"
      ],
      "metadata": {
        "id": "O-jxHaSBxieA"
      }
    },
    {
      "cell_type": "code",
      "source": [
        "df[\"first_appearance\"].mode()"
      ],
      "metadata": {
        "colab": {
          "base_uri": "https://localhost:8080/"
        },
        "id": "X4-KtuxKwfIf",
        "outputId": "73b22a99-c848-4222-a52e-778afb1bd928"
      },
      "execution_count": null,
      "outputs": [
        {
          "output_type": "execute_result",
          "data": {
            "text/plain": [
              "0    1993.0\n",
              "dtype: float64"
            ]
          },
          "metadata": {},
          "execution_count": 19
        }
      ]
    },
    {
      "cell_type": "markdown",
      "source": [
        "Укажите, верно ли следующее утверждение: если убрать первые пятьсот наблюдений в наших данных, то мода по переменной eye не изменится."
      ],
      "metadata": {
        "id": "egcclewqynRM"
      }
    },
    {
      "cell_type": "code",
      "source": [
        "new_df = df[500:]"
      ],
      "metadata": {
        "id": "huZVfms3xq1c"
      },
      "execution_count": null,
      "outputs": []
    },
    {
      "cell_type": "code",
      "source": [
        "new_df.shape"
      ],
      "metadata": {
        "colab": {
          "base_uri": "https://localhost:8080/"
        },
        "id": "VsutwfwVyzPX",
        "outputId": "c6211985-ba4d-4ca0-b51f-3934b918036c"
      },
      "execution_count": null,
      "outputs": [
        {
          "output_type": "execute_result",
          "data": {
            "text/plain": [
              "(15876, 7)"
            ]
          },
          "metadata": {},
          "execution_count": 21
        }
      ]
    },
    {
      "cell_type": "code",
      "source": [
        "new_df[\"eye\"].mode()"
      ],
      "metadata": {
        "colab": {
          "base_uri": "https://localhost:8080/"
        },
        "id": "E9tdnFaoy18z",
        "outputId": "8e9d4e31-6280-4a7d-9798-44981733868c"
      },
      "execution_count": null,
      "outputs": [
        {
          "output_type": "execute_result",
          "data": {
            "text/plain": [
              "0    Темно-карие глаза\n",
              "dtype: object"
            ]
          },
          "metadata": {},
          "execution_count": 23
        }
      ]
    },
    {
      "cell_type": "code",
      "source": [
        "df[\"eye\"].mode()"
      ],
      "metadata": {
        "colab": {
          "base_uri": "https://localhost:8080/"
        },
        "id": "Yor0LHf7zDNX",
        "outputId": "c48e3236-3edb-44ef-d8a5-3802debcbfb4"
      },
      "execution_count": null,
      "outputs": [
        {
          "output_type": "execute_result",
          "data": {
            "text/plain": [
              "0    Голубые глаза\n",
              "dtype: object"
            ]
          },
          "metadata": {},
          "execution_count": 24
        }
      ]
    },
    {
      "cell_type": "markdown",
      "source": [
        "Определите моду по переменной hair, затем выберите только тех персонажей, цвет волос которых соответствует найденной моде. По имеющемуся подмассиву данных по переменной appearances рассчитайте стандартное отклонение. Помните, что мы работаем с генеральной совокупностью. В ответ запишите число, округлите до целого."
      ],
      "metadata": {
        "id": "FbGk2OyTzVoe"
      }
    },
    {
      "cell_type": "code",
      "source": [
        "df[\"hair\"].mode()"
      ],
      "metadata": {
        "colab": {
          "base_uri": "https://localhost:8080/"
        },
        "id": "NPlKoB8JzFXd",
        "outputId": "5278ce32-c08b-46ed-91df-e04513284ab8"
      },
      "execution_count": null,
      "outputs": [
        {
          "output_type": "execute_result",
          "data": {
            "text/plain": [
              "0    Черные волосы\n",
              "dtype: object"
            ]
          },
          "metadata": {},
          "execution_count": 25
        }
      ]
    },
    {
      "cell_type": "code",
      "source": [
        "df[(df[\"hair\"] == \"Черные волосы\")][\"appearances\"].std()"
      ],
      "metadata": {
        "colab": {
          "base_uri": "https://localhost:8080/"
        },
        "id": "rwPUsPFcza3J",
        "outputId": "ac7a957d-23b9-4bb3-cc00-8fa6d6bda192"
      },
      "execution_count": null,
      "outputs": [
        {
          "output_type": "execute_result",
          "data": {
            "text/plain": [
              "94.14557622196817"
            ]
          },
          "metadata": {},
          "execution_count": 27
        }
      ]
    },
    {
      "cell_type": "code",
      "source": [],
      "metadata": {
        "id": "E1jNtze2zoFk"
      },
      "execution_count": null,
      "outputs": []
    }
  ]
}