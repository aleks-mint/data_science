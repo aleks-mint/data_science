{
  "nbformat": 4,
  "nbformat_minor": 0,
  "metadata": {
    "colab": {
      "provenance": [],
      "collapsed_sections": []
    },
    "kernelspec": {
      "name": "python3",
      "display_name": "Python 3"
    }
  },
  "cells": [
    {
      "cell_type": "markdown",
      "metadata": {
        "id": "m25xQezbHhYN"
      },
      "source": [
        "Домашнее задание по 2 неделе."
      ]
    },
    {
      "cell_type": "markdown",
      "metadata": {
        "id": "a8DTKO4cLWCI"
      },
      "source": [
        "# Задание 1\n"
      ]
    },
    {
      "cell_type": "markdown",
      "metadata": {
        "id": "x7MFiTFvO4He"
      },
      "source": [
        "1. Получите выборку с помощью следующего вызова:\n",
        "```\n",
        "make_moons(n_samples=1000, noise=0.5, random_state=10)\n",
        "```\n",
        "2. Разбейте выборку на `train` и `test` с помощью функции `train_test_split`. Через аргументы функции зафиксируйте `random_state=10` и `test_size=0.5`.\n",
        "\n",
        "3. Обучите класс `GridSearchCV` на обучающей выборке. Переберите параметр `n_neighbors` от 1 до 20. Чтобы получить детерменированный результат, передайте в параметр `cv` объект класса `KFold(n_splits=5, random_state=10)`. Этот класс будет отвечать за разбиение выборки во время кросс-валидации.\n",
        "\n",
        "Напишите метрику качества (`accuracy`), которая получается, если применить обученный `GridSearchCV` к тестовой выбоке."
      ]
    },
    {
      "cell_type": "code",
      "source": [
        "from sklearn.datasets import make_moons\n",
        "from sklearn.model_selection import train_test_split\n",
        "from sklearn.model_selection import GridSearchCV\n",
        "from sklearn.neighbors import KNeighborsClassifier\n",
        "from sklearn.model_selection import KFold\n",
        "from sklearn.metrics import accuracy_score\n",
        "import numpy as np\n",
        "import matplotlib.pyplot as plt\n"
      ],
      "metadata": {
        "id": "a7Dj2hzN3aul"
      },
      "execution_count": 96,
      "outputs": []
    },
    {
      "cell_type": "code",
      "metadata": {
        "id": "5RQX1IJtX_NO"
      },
      "source": [
        "X, y = make_moons(n_samples=1000, noise=0.5, random_state=10)"
      ],
      "execution_count": 97,
      "outputs": []
    },
    {
      "cell_type": "code",
      "source": [
        "X_train, X_test, y_train, y_test = train_test_split(X, y, random_state=10, test_size=0.5)"
      ],
      "metadata": {
        "id": "SuYQnHWw3m7Y"
      },
      "execution_count": 98,
      "outputs": []
    },
    {
      "cell_type": "code",
      "source": [
        "knn = KNeighborsClassifier()"
      ],
      "metadata": {
        "id": "Mrm8HF5y4PvK"
      },
      "execution_count": 99,
      "outputs": []
    },
    {
      "cell_type": "code",
      "source": [
        "params = {\n",
        "    'n_neighbors': [i for i in range(1, 21)], \n",
        "}"
      ],
      "metadata": {
        "id": "pofm7f674EVr"
      },
      "execution_count": 100,
      "outputs": []
    },
    {
      "cell_type": "code",
      "source": [
        "kf = KFold(n_splits=5, random_state=10, shuffle=True)"
      ],
      "metadata": {
        "id": "dgxaSPs26xRq"
      },
      "execution_count": 101,
      "outputs": []
    },
    {
      "cell_type": "code",
      "source": [
        "grid = GridSearchCV(knn, params, cv=kf)"
      ],
      "metadata": {
        "id": "DbD4Mcqc4Z3a"
      },
      "execution_count": 102,
      "outputs": []
    },
    {
      "cell_type": "code",
      "source": [
        "grid.fit(X, y)"
      ],
      "metadata": {
        "colab": {
          "base_uri": "https://localhost:8080/"
        },
        "id": "EozbPlUk6fdu",
        "outputId": "c2cec7af-1205-4e61-e426-2e2831317081"
      },
      "execution_count": 103,
      "outputs": [
        {
          "output_type": "execute_result",
          "data": {
            "text/plain": [
              "GridSearchCV(cv=KFold(n_splits=5, random_state=10, shuffle=True),\n",
              "             estimator=KNeighborsClassifier(),\n",
              "             param_grid={'n_neighbors': [1, 2, 3, 4, 5, 6, 7, 8, 9, 10, 11, 12,\n",
              "                                         13, 14, 15, 16, 17, 18, 19, 20]})"
            ]
          },
          "metadata": {},
          "execution_count": 103
        }
      ]
    },
    {
      "cell_type": "code",
      "source": [
        "grid.best_estimator_"
      ],
      "metadata": {
        "colab": {
          "base_uri": "https://localhost:8080/"
        },
        "id": "LHA52Jse7Rex",
        "outputId": "88336989-c25f-4d10-834a-9d85e8f52acc"
      },
      "execution_count": 104,
      "outputs": [
        {
          "output_type": "execute_result",
          "data": {
            "text/plain": [
              "KNeighborsClassifier(n_neighbors=18)"
            ]
          },
          "metadata": {},
          "execution_count": 104
        }
      ]
    },
    {
      "cell_type": "code",
      "source": [
        "model = KNeighborsClassifier(n_neighbors=18)"
      ],
      "metadata": {
        "id": "xF43o1-x7bN3"
      },
      "execution_count": 105,
      "outputs": []
    },
    {
      "cell_type": "code",
      "source": [
        "model.fit(X_train, y_train)"
      ],
      "metadata": {
        "colab": {
          "base_uri": "https://localhost:8080/"
        },
        "id": "s1OruKuE7i1k",
        "outputId": "17286f77-721f-4cf0-e8aa-a0307b9aa8e1"
      },
      "execution_count": 106,
      "outputs": [
        {
          "output_type": "execute_result",
          "data": {
            "text/plain": [
              "KNeighborsClassifier(n_neighbors=18)"
            ]
          },
          "metadata": {},
          "execution_count": 106
        }
      ]
    },
    {
      "cell_type": "code",
      "source": [
        "y_pred = model.predict(X_test)"
      ],
      "metadata": {
        "id": "f_Yu3FtZ7nM9"
      },
      "execution_count": 107,
      "outputs": []
    },
    {
      "cell_type": "code",
      "source": [
        "accuracy_score(y_test, y_pred)"
      ],
      "metadata": {
        "colab": {
          "base_uri": "https://localhost:8080/"
        },
        "id": "1-5cemYp72sX",
        "outputId": "076c4e80-a329-4ac4-ad86-8aafafd8b3e9"
      },
      "execution_count": 108,
      "outputs": [
        {
          "output_type": "execute_result",
          "data": {
            "text/plain": [
              "0.798"
            ]
          },
          "metadata": {},
          "execution_count": 108
        }
      ]
    },
    {
      "cell_type": "code",
      "metadata": {
        "id": "JwpevEEB8rU_"
      },
      "source": [
        "best_predictions = grid.predict(X_test)"
      ],
      "execution_count": 109,
      "outputs": []
    },
    {
      "cell_type": "code",
      "metadata": {
        "colab": {
          "base_uri": "https://localhost:8080/"
        },
        "id": "LEfaswlrA3lx",
        "outputId": "2dcb4aaf-882e-44bb-d4e3-5b1d5b43e0a6"
      },
      "source": [
        "accuracy_score(y_test, best_predictions)"
      ],
      "execution_count": 110,
      "outputs": [
        {
          "output_type": "execute_result",
          "data": {
            "text/plain": [
              "0.808"
            ]
          },
          "metadata": {},
          "execution_count": 110
        }
      ]
    },
    {
      "cell_type": "markdown",
      "metadata": {
        "id": "HvXHv7DeY0Vj"
      },
      "source": [
        "# Задание 2\n"
      ]
    },
    {
      "cell_type": "markdown",
      "metadata": {
        "id": "z1hXs1liY4PJ"
      },
      "source": [
        "Напишите функцию train_grid_search. Функция принимает выборку на вход. Она должна создать объект GridSearchCV, который переберет соседей от одного до 20. Обучите GridSearchCV. Функция должна возвращать значение ключа mean_test_score у атрибута cv_results_ в классе GridSearchCV. Это поле содержит информацию о значении метрики для каждого параметра.\n",
        "\n",
        "Код ниже строит изображения средней зависимости качества от количества соседей. Выберите картинку, которая у вас получилась.\n"
      ]
    },
    {
      "cell_type": "code",
      "metadata": {
        "id": "7ypMJvW7TWD7",
        "colab": {
          "base_uri": "https://localhost:8080/",
          "height": 282
        },
        "outputId": "24d0a10e-3d4a-41e5-fecf-d9467eaabd34"
      },
      "source": [
        "def train_grid_search(X, y):\n",
        "    params = {\n",
        "        'n_neighbors': [i for i in range(1, 21)], \n",
        "    }\n",
        "    knn = KNeighborsClassifier()\n",
        "    gs = GridSearchCV(estimator=knn, param_grid=params)\n",
        "    gs.fit(X, y)\n",
        "    return gs.cv_results_[\"mean_test_score\"]\n",
        "\n",
        "mean_test_scores = []\n",
        "for i in range(10):\n",
        "    X, y = make_moons(n_samples=1000, noise=0.5)\n",
        "    mean_test_score = train_grid_search(X, y)\n",
        "    mean_test_scores.append(mean_test_score)\n",
        "\n",
        "mean_test_scores = np.array(mean_test_scores)\n",
        "plt.plot(np.arange(1, 21), np.mean(mean_test_scores, axis=0))"
      ],
      "execution_count": 111,
      "outputs": [
        {
          "output_type": "execute_result",
          "data": {
            "text/plain": [
              "[<matplotlib.lines.Line2D at 0x7efc10756b10>]"
            ]
          },
          "metadata": {},
          "execution_count": 111
        },
        {
          "output_type": "display_data",
          "data": {
            "text/plain": [
              "<Figure size 432x288 with 1 Axes>"
            ],
            "image/png": "[encoded data removed]"
          },
          "metadata": {
            "needs_background": "light"
          }
        }
      ]
    },
    {
      "cell_type": "markdown",
      "metadata": {
        "id": "2ByIB4Tp7cF0"
      },
      "source": [
        "# Задание 3"
      ]
    },
    {
      "cell_type": "code",
      "metadata": {
        "id": "XEnCu6__xpWg",
        "colab": {
          "base_uri": "https://localhost:8080/"
        },
        "outputId": "10677dfd-657b-4ba2-a6d1-6b7b690d5bfc"
      },
      "source": [
        "!pip install python-mnist\n",
        "!mkdir dir_with_mnist_data_files\n",
        "!wget http://yann.lecun.com/exdb/mnist/train-images-idx3-ubyte.gz\n",
        "!wget http://yann.lecun.com/exdb/mnist/train-labels-idx1-ubyte.gz\n",
        "!mv train-images-idx3-ubyte.gz dir_with_mnist_data_files\n",
        "!mv train-labels-idx1-ubyte.gz dir_with_mnist_data_files"
      ],
      "execution_count": 112,
      "outputs": [
        {
          "output_type": "stream",
          "name": "stdout",
          "text": [
            "Looking in indexes: https://pypi.org/simple, https://us-python.pkg.dev/colab-wheels/public/simple/\n",
            "Requirement already satisfied: python-mnist in /usr/local/lib/python3.7/dist-packages (0.7)\n",
            "mkdir: cannot create directory ‘dir_with_mnist_data_files’: File exists\n",
            "--2022-10-19 02:56:59--  http://yann.lecun.com/exdb/mnist/train-images-idx3-ubyte.gz\n",
            "Resolving yann.lecun.com (yann.lecun.com)... 188.114.96.3, 188.114.97.3, 2a06:98c1:3120::3, ...\n",
            "Connecting to yann.lecun.com (yann.lecun.com)|188.114.96.3|:80... connected.\n",
            "HTTP request sent, awaiting response... 200 OK\n",
            "Length: 9912422 (9.5M) [application/x-gzip]\n",
            "Saving to: ‘train-images-idx3-ubyte.gz’\n",
            "\n",
            "train-images-idx3-u 100%[===================>]   9.45M  --.-KB/s    in 0.04s   \n",
            "\n",
            "2022-10-19 02:56:59 (219 MB/s) - ‘train-images-idx3-ubyte.gz’ saved [9912422/9912422]\n",
            "\n",
            "--2022-10-19 02:56:59--  http://yann.lecun.com/exdb/mnist/train-labels-idx1-ubyte.gz\n",
            "Resolving yann.lecun.com (yann.lecun.com)... 188.114.96.3, 188.114.97.3, 2a06:98c1:3120::3, ...\n",
            "Connecting to yann.lecun.com (yann.lecun.com)|188.114.96.3|:80... connected.\n",
            "HTTP request sent, awaiting response... 200 OK\n",
            "Length: 28881 (28K) [application/x-gzip]\n",
            "Saving to: ‘train-labels-idx1-ubyte.gz’\n",
            "\n",
            "train-labels-idx1-u 100%[===================>]  28.20K  --.-KB/s    in 0s      \n",
            "\n",
            "2022-10-19 02:56:59 (398 MB/s) - ‘train-labels-idx1-ubyte.gz’ saved [28881/28881]\n",
            "\n"
          ]
        }
      ]
    },
    {
      "cell_type": "code",
      "metadata": {
        "id": "k6GGCvvwxKhJ"
      },
      "source": [
        "from mnist import MNIST\n",
        "from matplotlib import pyplot as plt\n",
        "import numpy as np\n",
        "mndata = MNIST('./dir_with_mnist_data_files', gz=True)\n",
        "images, labels = mndata.load_training()\n",
        "images, labels = np.array(images), np.array(labels)"
      ],
      "execution_count": 113,
      "outputs": []
    },
    {
      "cell_type": "code",
      "metadata": {
        "id": "h2fzeJ5nz3K3",
        "colab": {
          "base_uri": "https://localhost:8080/",
          "height": 282
        },
        "outputId": "645e1cf9-6cda-46a3-91fa-507e5b3ba792"
      },
      "source": [
        "plt.imshow(images[0].reshape(28, 28))"
      ],
      "execution_count": 114,
      "outputs": [
        {
          "output_type": "execute_result",
          "data": {
            "text/plain": [
              "<matplotlib.image.AxesImage at 0x7efc1079df50>"
            ]
          },
          "metadata": {},
          "execution_count": 114
        },
        {
          "output_type": "display_data",
          "data": {
            "text/plain": [
              "<Figure size 432x288 with 1 Axes>"
            ],
            "image/png": "[encoded data removed]"
          },
          "metadata": {
            "needs_background": "light"
          }
        }
      ]
    },
    {
      "cell_type": "markdown",
      "metadata": {
        "id": "Xb0sb_IZ4n8s"
      },
      "source": [
        "В этом задании вы будете работать с классическим датасетом MNIST. Код выше загрузит данные в переменные images и labels. Обучите knn с 30 ближайшими соседями. Предварительно разбейте выборку на train и test в соотношении 80/20. Какой accuracy вы получаете на тестовой выборке?"
      ]
    },
    {
      "cell_type": "code",
      "source": [
        "X_train, X_test, y_train, y_test = train_test_split(images, labels, test_size=0.2, random_state=10)"
      ],
      "metadata": {
        "id": "PTPpyOMIFxsu"
      },
      "execution_count": 115,
      "outputs": []
    },
    {
      "cell_type": "code",
      "metadata": {
        "id": "KXwQY1yINQEa"
      },
      "source": [
        "knn = KNeighborsClassifier(n_neighbors=30)"
      ],
      "execution_count": 116,
      "outputs": []
    },
    {
      "cell_type": "code",
      "metadata": {
        "colab": {
          "base_uri": "https://localhost:8080/"
        },
        "id": "dunLHfTnNbGB",
        "outputId": "0e0a920d-0e15-4661-a4fb-be6ece4197d3"
      },
      "source": [
        "knn.fit(X_train, y_train)"
      ],
      "execution_count": 117,
      "outputs": [
        {
          "output_type": "execute_result",
          "data": {
            "text/plain": [
              "KNeighborsClassifier(n_neighbors=30)"
            ]
          },
          "metadata": {},
          "execution_count": 117
        }
      ]
    },
    {
      "cell_type": "code",
      "metadata": {
        "id": "mKixoovFNeEY"
      },
      "source": [
        "predictions = knn.predict(X_test)"
      ],
      "execution_count": 118,
      "outputs": []
    },
    {
      "cell_type": "code",
      "metadata": {
        "colab": {
          "base_uri": "https://localhost:8080/"
        },
        "id": "nxMZyf_rNmYK",
        "outputId": "966ada76-cf5f-4196-e1f6-ffa04bb20481"
      },
      "source": [
        "accuracy_score(y_test, predictions)"
      ],
      "execution_count": 119,
      "outputs": [
        {
          "output_type": "execute_result",
          "data": {
            "text/plain": [
              "0.956"
            ]
          },
          "metadata": {},
          "execution_count": 119
        }
      ]
    },
    {
      "cell_type": "markdown",
      "metadata": {
        "id": "rx7GOKW0mhWj"
      },
      "source": [
        "# Задание 4 (неоцениваемое)\n",
        "\n",
        "Найдите примеры, которые были классифицированы не правильно. Найдите и визуализируйте 5 соседей неправильных предсказаний у любого ошибочного примера. Найти соседей точки можно с помощью метода kneighbors.  Почему они были классифицированы неправильно?"
      ]
    },
    {
      "cell_type": "code",
      "metadata": {
        "id": "Kplv1FnnmgmY",
        "colab": {
          "base_uri": "https://localhost:8080/",
          "height": 1000
        },
        "outputId": "4596bd8c-2fad-4844-a77f-df15949c5487"
      },
      "source": [
        "wrong_examples = dict()\n",
        "for i in range(len(y_test)):\n",
        "  if not (y_test[i] == predictions[i]):\n",
        "    wrong_examples[i] = (y_test[i], predictions[i])\n",
        "\n",
        "wrong_ex = X_test[list(wrong_examples.keys())[0]]\n",
        "neighbors = knn.kneighbors([wrong_ex], n_neighbors=5)\n",
        "\n",
        "print(\"Ошибочный пример\")\n",
        "plt.imshow(wrong_ex.reshape(28, 28))\n",
        "plt.show()\n",
        "\n",
        "print(\"5 ближайших соседей ошибочного примера\")\n",
        "for ind in neighbors[1][0]:\n",
        "  plt.imshow(X_train[ind].reshape(28, 28))\n",
        "  plt.show()"
      ],
      "execution_count": 120,
      "outputs": [
        {
          "output_type": "stream",
          "name": "stdout",
          "text": [
            "Ошибочный пример\n"
          ]
        },
        {
          "output_type": "display_data",
          "data": {
            "text/plain": [
              "<Figure size 432x288 with 1 Axes>"
            ],
            "image/png": "[encoded data removed]"
          },
          "metadata": {
            "needs_background": "light"
          }
        },
        {
          "output_type": "stream",
          "name": "stdout",
          "text": [
            "5 ближайших соседей ошибочного примера\n"
          ]
        },
        {
          "output_type": "display_data",
          "data": {
            "text/plain": [
              "<Figure size 432x288 with 1 Axes>"
            ],
            "image/png": "[encoded data removed]"
          },
          "metadata": {
            "needs_background": "light"
          }
        },
        {
          "output_type": "display_data",
          "data": {
            "text/plain": [
              "<Figure size 432x288 with 1 Axes>"
            ],
            "image/png": "[encoded data removed]"
          },
          "metadata": {
            "needs_background": "light"
          }
        },
        {
          "output_type": "display_data",
          "data": {
            "text/plain": [
              "<Figure size 432x288 with 1 Axes>"
            ],
            "image/png": "[encoded data removed]"
          },
          "metadata": {
            "needs_background": "light"
          }
        },
        {
          "output_type": "display_data",
          "data": {
            "text/plain": [
              "<Figure size 432x288 with 1 Axes>"
            ],
            "image/png": "[encoded data removed]"
          },
          "metadata": {
            "needs_background": "light"
          }
        },
        {
          "output_type": "display_data",
          "data": {
            "text/plain": [
              "<Figure size 432x288 with 1 Axes>"
            ],
            "image/png": "[encoded data removed]"
          },
          "metadata": {
            "needs_background": "light"
          }
        }
      ]
    },
    {
      "cell_type": "code",
      "source": [],
      "metadata": {
        "id": "yJFY9mZPKe3D"
      },
      "execution_count": 120,
      "outputs": []
    }
  ]
}